{
 "cells": [
  {
   "cell_type": "markdown",
   "metadata": {},
   "source": [
    "# Importing Data and Required Library"
   ]
  },
  {
   "cell_type": "code",
   "execution_count": 160,
   "metadata": {},
   "outputs": [
    {
     "data": {
      "text/html": [
       "<div>\n",
       "<style>\n",
       "    .dataframe thead tr:only-child th {\n",
       "        text-align: right;\n",
       "    }\n",
       "\n",
       "    .dataframe thead th {\n",
       "        text-align: left;\n",
       "    }\n",
       "\n",
       "    .dataframe tbody tr th {\n",
       "        vertical-align: top;\n",
       "    }\n",
       "</style>\n",
       "<table border=\"1\" class=\"dataframe\">\n",
       "  <thead>\n",
       "    <tr style=\"text-align: right;\">\n",
       "      <th></th>\n",
       "      <th>Rank</th>\n",
       "      <th>Name</th>\n",
       "      <th>Platform</th>\n",
       "      <th>Year</th>\n",
       "      <th>Genre</th>\n",
       "      <th>Publisher</th>\n",
       "      <th>NA_Sales</th>\n",
       "      <th>EU_Sales</th>\n",
       "      <th>JP_Sales</th>\n",
       "      <th>Other_Sales</th>\n",
       "      <th>Global_Sales</th>\n",
       "    </tr>\n",
       "  </thead>\n",
       "  <tbody>\n",
       "    <tr>\n",
       "      <th>0</th>\n",
       "      <td>1</td>\n",
       "      <td>Wii Sports</td>\n",
       "      <td>Wii</td>\n",
       "      <td>2006.0</td>\n",
       "      <td>Sports</td>\n",
       "      <td>Nintendo</td>\n",
       "      <td>41.49</td>\n",
       "      <td>29.02</td>\n",
       "      <td>3.77</td>\n",
       "      <td>8.46</td>\n",
       "      <td>82.74</td>\n",
       "    </tr>\n",
       "    <tr>\n",
       "      <th>1</th>\n",
       "      <td>2</td>\n",
       "      <td>Super Mario Bros.</td>\n",
       "      <td>NES</td>\n",
       "      <td>1985.0</td>\n",
       "      <td>Platform</td>\n",
       "      <td>Nintendo</td>\n",
       "      <td>29.08</td>\n",
       "      <td>3.58</td>\n",
       "      <td>6.81</td>\n",
       "      <td>0.77</td>\n",
       "      <td>40.24</td>\n",
       "    </tr>\n",
       "    <tr>\n",
       "      <th>2</th>\n",
       "      <td>3</td>\n",
       "      <td>Mario Kart Wii</td>\n",
       "      <td>Wii</td>\n",
       "      <td>2008.0</td>\n",
       "      <td>Racing</td>\n",
       "      <td>Nintendo</td>\n",
       "      <td>15.85</td>\n",
       "      <td>12.88</td>\n",
       "      <td>3.79</td>\n",
       "      <td>3.31</td>\n",
       "      <td>35.82</td>\n",
       "    </tr>\n",
       "    <tr>\n",
       "      <th>3</th>\n",
       "      <td>4</td>\n",
       "      <td>Wii Sports Resort</td>\n",
       "      <td>Wii</td>\n",
       "      <td>2009.0</td>\n",
       "      <td>Sports</td>\n",
       "      <td>Nintendo</td>\n",
       "      <td>15.75</td>\n",
       "      <td>11.01</td>\n",
       "      <td>3.28</td>\n",
       "      <td>2.96</td>\n",
       "      <td>33.00</td>\n",
       "    </tr>\n",
       "    <tr>\n",
       "      <th>4</th>\n",
       "      <td>5</td>\n",
       "      <td>Pokemon Red/Pokemon Blue</td>\n",
       "      <td>GB</td>\n",
       "      <td>1996.0</td>\n",
       "      <td>Role-Playing</td>\n",
       "      <td>Nintendo</td>\n",
       "      <td>11.27</td>\n",
       "      <td>8.89</td>\n",
       "      <td>10.22</td>\n",
       "      <td>1.00</td>\n",
       "      <td>31.37</td>\n",
       "    </tr>\n",
       "  </tbody>\n",
       "</table>\n",
       "</div>"
      ],
      "text/plain": [
       "   Rank                      Name Platform    Year         Genre Publisher  \\\n",
       "0     1                Wii Sports      Wii  2006.0        Sports  Nintendo   \n",
       "1     2         Super Mario Bros.      NES  1985.0      Platform  Nintendo   \n",
       "2     3            Mario Kart Wii      Wii  2008.0        Racing  Nintendo   \n",
       "3     4         Wii Sports Resort      Wii  2009.0        Sports  Nintendo   \n",
       "4     5  Pokemon Red/Pokemon Blue       GB  1996.0  Role-Playing  Nintendo   \n",
       "\n",
       "   NA_Sales  EU_Sales  JP_Sales  Other_Sales  Global_Sales  \n",
       "0     41.49     29.02      3.77         8.46         82.74  \n",
       "1     29.08      3.58      6.81         0.77         40.24  \n",
       "2     15.85     12.88      3.79         3.31         35.82  \n",
       "3     15.75     11.01      3.28         2.96         33.00  \n",
       "4     11.27      8.89     10.22         1.00         31.37  "
      ]
     },
     "execution_count": 160,
     "metadata": {},
     "output_type": "execute_result"
    }
   ],
   "source": [
    "import pandas as pd #pandas for working with dataframes\n",
    "import numpy as np #numpy for arrays\n",
    "data = pd.read_csv('data.csv') #reading the data given\n",
    "data.head() #checking head of data"
   ]
  },
  {
   "cell_type": "markdown",
   "metadata": {},
   "source": [
    "# Importing Bokeh Library"
   ]
  },
  {
   "cell_type": "code",
   "execution_count": 161,
   "metadata": {
    "collapsed": true
   },
   "outputs": [],
   "source": [
    "from bokeh.plotting import figure, show, output_file"
   ]
  },
  {
   "cell_type": "markdown",
   "metadata": {},
   "source": [
    "# Data Cleaning"
   ]
  },
  {
   "cell_type": "code",
   "execution_count": 162,
   "metadata": {},
   "outputs": [
    {
     "name": "stdout",
     "output_type": "stream",
     "text": [
      "<class 'pandas.core.frame.DataFrame'>\n",
      "RangeIndex: 16598 entries, 0 to 16597\n",
      "Data columns (total 11 columns):\n",
      "Rank            16598 non-null int64\n",
      "Name            16598 non-null object\n",
      "Platform        16598 non-null object\n",
      "Year            16327 non-null float64\n",
      "Genre           16598 non-null object\n",
      "Publisher       16540 non-null object\n",
      "NA_Sales        16598 non-null float64\n",
      "EU_Sales        16598 non-null float64\n",
      "JP_Sales        16598 non-null float64\n",
      "Other_Sales     16598 non-null float64\n",
      "Global_Sales    16598 non-null float64\n",
      "dtypes: float64(6), int64(1), object(4)\n",
      "memory usage: 1.4+ MB\n"
     ]
    }
   ],
   "source": [
    "data.info() #checking basic info of data regarding the features and number of entries"
   ]
  },
  {
   "cell_type": "markdown",
   "metadata": {},
   "source": [
    "# Checking number of NULL values"
   ]
  },
  {
   "cell_type": "code",
   "execution_count": 163,
   "metadata": {},
   "outputs": [
    {
     "data": {
      "text/plain": [
       "Rank              0\n",
       "Name              0\n",
       "Platform          0\n",
       "Year            271\n",
       "Genre             0\n",
       "Publisher        58\n",
       "NA_Sales          0\n",
       "EU_Sales          0\n",
       "JP_Sales          0\n",
       "Other_Sales       0\n",
       "Global_Sales      0\n",
       "dtype: int64"
      ]
     },
     "execution_count": 163,
     "metadata": {},
     "output_type": "execute_result"
    }
   ],
   "source": [
    "data.isnull().sum() #it will show missing values"
   ]
  },
  {
   "cell_type": "markdown",
   "metadata": {},
   "source": [
    "# Droping NULL values of Year and Publisher column."
   ]
  },
  {
   "cell_type": "code",
   "execution_count": 164,
   "metadata": {
    "collapsed": true
   },
   "outputs": [],
   "source": [
    "data = data.dropna(axis=0, subset=['Year','Publisher']) #we cannot impute missing year value and publisher value"
   ]
  },
  {
   "cell_type": "code",
   "execution_count": 165,
   "metadata": {},
   "outputs": [
    {
     "data": {
      "text/plain": [
       "Rank            0\n",
       "Name            0\n",
       "Platform        0\n",
       "Year            0\n",
       "Genre           0\n",
       "Publisher       0\n",
       "NA_Sales        0\n",
       "EU_Sales        0\n",
       "JP_Sales        0\n",
       "Other_Sales     0\n",
       "Global_Sales    0\n",
       "dtype: int64"
      ]
     },
     "execution_count": 165,
     "metadata": {},
     "output_type": "execute_result"
    }
   ],
   "source": [
    "data.isnull().sum() #now there is no missing value in our data"
   ]
  },
  {
   "cell_type": "code",
   "execution_count": 166,
   "metadata": {},
   "outputs": [
    {
     "data": {
      "text/html": [
       "<div>\n",
       "<style>\n",
       "    .dataframe thead tr:only-child th {\n",
       "        text-align: right;\n",
       "    }\n",
       "\n",
       "    .dataframe thead th {\n",
       "        text-align: left;\n",
       "    }\n",
       "\n",
       "    .dataframe tbody tr th {\n",
       "        vertical-align: top;\n",
       "    }\n",
       "</style>\n",
       "<table border=\"1\" class=\"dataframe\">\n",
       "  <thead>\n",
       "    <tr style=\"text-align: right;\">\n",
       "      <th></th>\n",
       "      <th>Rank</th>\n",
       "      <th>Name</th>\n",
       "      <th>Platform</th>\n",
       "      <th>Year</th>\n",
       "      <th>Genre</th>\n",
       "      <th>Publisher</th>\n",
       "      <th>NA_Sales</th>\n",
       "      <th>EU_Sales</th>\n",
       "      <th>JP_Sales</th>\n",
       "      <th>Other_Sales</th>\n",
       "      <th>Global_Sales</th>\n",
       "    </tr>\n",
       "  </thead>\n",
       "  <tbody>\n",
       "    <tr>\n",
       "      <th>0</th>\n",
       "      <td>1</td>\n",
       "      <td>Wii Sports</td>\n",
       "      <td>Wii</td>\n",
       "      <td>2006</td>\n",
       "      <td>Sports</td>\n",
       "      <td>Nintendo</td>\n",
       "      <td>41.49</td>\n",
       "      <td>29.02</td>\n",
       "      <td>3.77</td>\n",
       "      <td>8.46</td>\n",
       "      <td>82.74</td>\n",
       "    </tr>\n",
       "    <tr>\n",
       "      <th>1</th>\n",
       "      <td>2</td>\n",
       "      <td>Super Mario Bros.</td>\n",
       "      <td>NES</td>\n",
       "      <td>1985</td>\n",
       "      <td>Platform</td>\n",
       "      <td>Nintendo</td>\n",
       "      <td>29.08</td>\n",
       "      <td>3.58</td>\n",
       "      <td>6.81</td>\n",
       "      <td>0.77</td>\n",
       "      <td>40.24</td>\n",
       "    </tr>\n",
       "    <tr>\n",
       "      <th>2</th>\n",
       "      <td>3</td>\n",
       "      <td>Mario Kart Wii</td>\n",
       "      <td>Wii</td>\n",
       "      <td>2008</td>\n",
       "      <td>Racing</td>\n",
       "      <td>Nintendo</td>\n",
       "      <td>15.85</td>\n",
       "      <td>12.88</td>\n",
       "      <td>3.79</td>\n",
       "      <td>3.31</td>\n",
       "      <td>35.82</td>\n",
       "    </tr>\n",
       "    <tr>\n",
       "      <th>3</th>\n",
       "      <td>4</td>\n",
       "      <td>Wii Sports Resort</td>\n",
       "      <td>Wii</td>\n",
       "      <td>2009</td>\n",
       "      <td>Sports</td>\n",
       "      <td>Nintendo</td>\n",
       "      <td>15.75</td>\n",
       "      <td>11.01</td>\n",
       "      <td>3.28</td>\n",
       "      <td>2.96</td>\n",
       "      <td>33.00</td>\n",
       "    </tr>\n",
       "    <tr>\n",
       "      <th>4</th>\n",
       "      <td>5</td>\n",
       "      <td>Pokemon Red/Pokemon Blue</td>\n",
       "      <td>GB</td>\n",
       "      <td>1996</td>\n",
       "      <td>Role-Playing</td>\n",
       "      <td>Nintendo</td>\n",
       "      <td>11.27</td>\n",
       "      <td>8.89</td>\n",
       "      <td>10.22</td>\n",
       "      <td>1.00</td>\n",
       "      <td>31.37</td>\n",
       "    </tr>\n",
       "  </tbody>\n",
       "</table>\n",
       "</div>"
      ],
      "text/plain": [
       "   Rank                      Name Platform  Year         Genre Publisher  \\\n",
       "0     1                Wii Sports      Wii  2006        Sports  Nintendo   \n",
       "1     2         Super Mario Bros.      NES  1985      Platform  Nintendo   \n",
       "2     3            Mario Kart Wii      Wii  2008        Racing  Nintendo   \n",
       "3     4         Wii Sports Resort      Wii  2009        Sports  Nintendo   \n",
       "4     5  Pokemon Red/Pokemon Blue       GB  1996  Role-Playing  Nintendo   \n",
       "\n",
       "   NA_Sales  EU_Sales  JP_Sales  Other_Sales  Global_Sales  \n",
       "0     41.49     29.02      3.77         8.46         82.74  \n",
       "1     29.08      3.58      6.81         0.77         40.24  \n",
       "2     15.85     12.88      3.79         3.31         35.82  \n",
       "3     15.75     11.01      3.28         2.96         33.00  \n",
       "4     11.27      8.89     10.22         1.00         31.37  "
      ]
     },
     "execution_count": 166,
     "metadata": {},
     "output_type": "execute_result"
    }
   ],
   "source": [
    "data['Year'] = data['Year'].apply(int)  #Converting all year values to integer values\n",
    "data.head()"
   ]
  },
  {
   "cell_type": "markdown",
   "metadata": {},
   "source": [
    "# Preparing the Data"
   ]
  },
  {
   "cell_type": "code",
   "execution_count": 167,
   "metadata": {},
   "outputs": [
    {
     "data": {
      "text/html": [
       "<div>\n",
       "<style>\n",
       "    .dataframe thead tr:only-child th {\n",
       "        text-align: right;\n",
       "    }\n",
       "\n",
       "    .dataframe thead th {\n",
       "        text-align: left;\n",
       "    }\n",
       "\n",
       "    .dataframe tbody tr th {\n",
       "        vertical-align: top;\n",
       "    }\n",
       "</style>\n",
       "<table border=\"1\" class=\"dataframe\">\n",
       "  <thead>\n",
       "    <tr style=\"text-align: right;\">\n",
       "      <th></th>\n",
       "      <th>Rank</th>\n",
       "      <th>Name</th>\n",
       "      <th>Platform</th>\n",
       "      <th>Year</th>\n",
       "      <th>Genre</th>\n",
       "      <th>Publisher</th>\n",
       "      <th>NA_Sales</th>\n",
       "      <th>EU_Sales</th>\n",
       "      <th>JP_Sales</th>\n",
       "      <th>Other_Sales</th>\n",
       "      <th>Global_Sales</th>\n",
       "    </tr>\n",
       "  </thead>\n",
       "  <tbody>\n",
       "    <tr>\n",
       "      <th>0</th>\n",
       "      <td>1</td>\n",
       "      <td>Wii Sports</td>\n",
       "      <td>Wii</td>\n",
       "      <td>2006</td>\n",
       "      <td>Sports</td>\n",
       "      <td>Nintendo</td>\n",
       "      <td>41.49</td>\n",
       "      <td>29.02</td>\n",
       "      <td>3.77</td>\n",
       "      <td>8.46</td>\n",
       "      <td>82.74</td>\n",
       "    </tr>\n",
       "    <tr>\n",
       "      <th>2</th>\n",
       "      <td>3</td>\n",
       "      <td>Mario Kart Wii</td>\n",
       "      <td>Wii</td>\n",
       "      <td>2008</td>\n",
       "      <td>Racing</td>\n",
       "      <td>Nintendo</td>\n",
       "      <td>15.85</td>\n",
       "      <td>12.88</td>\n",
       "      <td>3.79</td>\n",
       "      <td>3.31</td>\n",
       "      <td>35.82</td>\n",
       "    </tr>\n",
       "    <tr>\n",
       "      <th>3</th>\n",
       "      <td>4</td>\n",
       "      <td>Wii Sports Resort</td>\n",
       "      <td>Wii</td>\n",
       "      <td>2009</td>\n",
       "      <td>Sports</td>\n",
       "      <td>Nintendo</td>\n",
       "      <td>15.75</td>\n",
       "      <td>11.01</td>\n",
       "      <td>3.28</td>\n",
       "      <td>2.96</td>\n",
       "      <td>33.00</td>\n",
       "    </tr>\n",
       "    <tr>\n",
       "      <th>7</th>\n",
       "      <td>8</td>\n",
       "      <td>Wii Play</td>\n",
       "      <td>Wii</td>\n",
       "      <td>2006</td>\n",
       "      <td>Misc</td>\n",
       "      <td>Nintendo</td>\n",
       "      <td>14.03</td>\n",
       "      <td>9.20</td>\n",
       "      <td>2.93</td>\n",
       "      <td>2.85</td>\n",
       "      <td>29.02</td>\n",
       "    </tr>\n",
       "    <tr>\n",
       "      <th>8</th>\n",
       "      <td>9</td>\n",
       "      <td>New Super Mario Bros. Wii</td>\n",
       "      <td>Wii</td>\n",
       "      <td>2009</td>\n",
       "      <td>Platform</td>\n",
       "      <td>Nintendo</td>\n",
       "      <td>14.59</td>\n",
       "      <td>7.06</td>\n",
       "      <td>4.70</td>\n",
       "      <td>2.26</td>\n",
       "      <td>28.62</td>\n",
       "    </tr>\n",
       "  </tbody>\n",
       "</table>\n",
       "</div>"
      ],
      "text/plain": [
       "   Rank                       Name Platform  Year     Genre Publisher  \\\n",
       "0     1                 Wii Sports      Wii  2006    Sports  Nintendo   \n",
       "2     3             Mario Kart Wii      Wii  2008    Racing  Nintendo   \n",
       "3     4          Wii Sports Resort      Wii  2009    Sports  Nintendo   \n",
       "7     8                   Wii Play      Wii  2006      Misc  Nintendo   \n",
       "8     9  New Super Mario Bros. Wii      Wii  2009  Platform  Nintendo   \n",
       "\n",
       "   NA_Sales  EU_Sales  JP_Sales  Other_Sales  Global_Sales  \n",
       "0     41.49     29.02      3.77         8.46         82.74  \n",
       "2     15.85     12.88      3.79         3.31         35.82  \n",
       "3     15.75     11.01      3.28         2.96         33.00  \n",
       "7     14.03      9.20      2.93         2.85         29.02  \n",
       "8     14.59      7.06      4.70         2.26         28.62  "
      ]
     },
     "execution_count": 167,
     "metadata": {},
     "output_type": "execute_result"
    }
   ],
   "source": [
    "df = data[(data['Platform'] == 'PC') | (data['Platform'] == 'Wii') | (data['Platform'] == 'X360')]\n",
    "df.head()"
   ]
  },
  {
   "cell_type": "code",
   "execution_count": 168,
   "metadata": {},
   "outputs": [
    {
     "data": {
      "text/html": [
       "<div>\n",
       "<style>\n",
       "    .dataframe thead tr:only-child th {\n",
       "        text-align: right;\n",
       "    }\n",
       "\n",
       "    .dataframe thead th {\n",
       "        text-align: left;\n",
       "    }\n",
       "\n",
       "    .dataframe tbody tr th {\n",
       "        vertical-align: top;\n",
       "    }\n",
       "</style>\n",
       "<table border=\"1\" class=\"dataframe\">\n",
       "  <thead>\n",
       "    <tr style=\"text-align: right;\">\n",
       "      <th></th>\n",
       "      <th>Platform</th>\n",
       "      <th>EU_Sales</th>\n",
       "      <th>JP_Sales</th>\n",
       "    </tr>\n",
       "  </thead>\n",
       "  <tbody>\n",
       "    <tr>\n",
       "      <th>3461</th>\n",
       "      <td>PC</td>\n",
       "      <td>0.00</td>\n",
       "      <td>0.0</td>\n",
       "    </tr>\n",
       "    <tr>\n",
       "      <th>2700</th>\n",
       "      <td>PC</td>\n",
       "      <td>0.03</td>\n",
       "      <td>0.0</td>\n",
       "    </tr>\n",
       "    <tr>\n",
       "      <th>2699</th>\n",
       "      <td>PC</td>\n",
       "      <td>0.04</td>\n",
       "      <td>0.0</td>\n",
       "    </tr>\n",
       "    <tr>\n",
       "      <th>2693</th>\n",
       "      <td>PC</td>\n",
       "      <td>0.04</td>\n",
       "      <td>0.0</td>\n",
       "    </tr>\n",
       "    <tr>\n",
       "      <th>2689</th>\n",
       "      <td>PC</td>\n",
       "      <td>0.04</td>\n",
       "      <td>0.0</td>\n",
       "    </tr>\n",
       "  </tbody>\n",
       "</table>\n",
       "</div>"
      ],
      "text/plain": [
       "     Platform  EU_Sales  JP_Sales\n",
       "3461       PC      0.00       0.0\n",
       "2700       PC      0.03       0.0\n",
       "2699       PC      0.04       0.0\n",
       "2693       PC      0.04       0.0\n",
       "2689       PC      0.04       0.0"
      ]
     },
     "execution_count": 168,
     "metadata": {},
     "output_type": "execute_result"
    }
   ],
   "source": [
    "df1 = df[['Platform','EU_Sales','JP_Sales']].reset_index()[['Platform','EU_Sales','JP_Sales']]\n",
    "df1 = df1.sort_values('Platform')\n",
    "df1.head()"
   ]
  },
  {
   "cell_type": "code",
   "execution_count": 169,
   "metadata": {
    "collapsed": true
   },
   "outputs": [],
   "source": [
    "plat = list(df['Platform'])\n",
    "EU = list(df['EU_Sales'])\n",
    "JP = list(df['JP_Sales'])"
   ]
  },
  {
   "cell_type": "code",
   "execution_count": 170,
   "metadata": {
    "collapsed": true
   },
   "outputs": [],
   "source": [
    "color = []"
   ]
  },
  {
   "cell_type": "code",
   "execution_count": 171,
   "metadata": {},
   "outputs": [
    {
     "data": {
      "text/plain": [
       "Platform    3462\n",
       "EU_Sales    3462\n",
       "JP_Sales    3462\n",
       "dtype: int64"
      ]
     },
     "execution_count": 171,
     "metadata": {},
     "output_type": "execute_result"
    }
   ],
   "source": [
    "df1.count()"
   ]
  },
  {
   "cell_type": "code",
   "execution_count": 172,
   "metadata": {
    "collapsed": true
   },
   "outputs": [],
   "source": [
    "for _ in range(938):\n",
    "    color.append(\"#008000\")"
   ]
  },
  {
   "cell_type": "code",
   "execution_count": 173,
   "metadata": {},
   "outputs": [],
   "source": [
    "for _ in range(1290):\n",
    "    color.append(\"#FFA500\")"
   ]
  },
  {
   "cell_type": "code",
   "execution_count": 174,
   "metadata": {
    "collapsed": true
   },
   "outputs": [],
   "source": [
    "for _ in range(1234):\n",
    "    color.append(\"#0000FF\")"
   ]
  },
  {
   "cell_type": "code",
   "execution_count": 175,
   "metadata": {},
   "outputs": [
    {
     "data": {
      "text/plain": [
       "3462"
      ]
     },
     "execution_count": 175,
     "metadata": {},
     "output_type": "execute_result"
    }
   ],
   "source": [
    "len(color)"
   ]
  },
  {
   "cell_type": "code",
   "execution_count": null,
   "metadata": {},
   "outputs": [],
   "source": [
    "#008000\n",
    "#FFA500\n",
    "#0000FF"
   ]
  },
  {
   "cell_type": "markdown",
   "metadata": {
    "collapsed": true
   },
   "source": [
    "# Plotting using Bokeh"
   ]
  },
  {
   "cell_type": "code",
   "execution_count": 199,
   "metadata": {},
   "outputs": [
    {
     "data": {
      "text/html": [
       "\n",
       "    <div class=\"bk-root\">\n",
       "        <a href=\"https://bokeh.pydata.org\" target=\"_blank\" class=\"bk-logo bk-logo-small bk-logo-notebook\"></a>\n",
       "        <span id=\"9bc71b25-7b33-45c3-916d-3601e8fd37eb\">Loading BokehJS ...</span>\n",
       "    </div>"
      ]
     },
     "metadata": {},
     "output_type": "display_data"
    },
    {
     "data": {
      "application/javascript": [
       "\n",
       "(function(root) {\n",
       "  function now() {\n",
       "    return new Date();\n",
       "  }\n",
       "\n",
       "  var force = true;\n",
       "\n",
       "  if (typeof (root._bokeh_onload_callbacks) === \"undefined\" || force === true) {\n",
       "    root._bokeh_onload_callbacks = [];\n",
       "    root._bokeh_is_loading = undefined;\n",
       "  }\n",
       "\n",
       "  var JS_MIME_TYPE = 'application/javascript';\n",
       "  var HTML_MIME_TYPE = 'text/html';\n",
       "  var EXEC_MIME_TYPE = 'application/vnd.bokehjs_exec.v0+json';\n",
       "  var CLASS_NAME = 'output_bokeh rendered_html';\n",
       "\n",
       "  /**\n",
       "   * Render data to the DOM node\n",
       "   */\n",
       "  function render(props, node) {\n",
       "    var script = document.createElement(\"script\");\n",
       "    node.appendChild(script);\n",
       "  }\n",
       "\n",
       "  /**\n",
       "   * Handle when an output is cleared or removed\n",
       "   */\n",
       "  function handleClearOutput(event, handle) {\n",
       "    var cell = handle.cell;\n",
       "\n",
       "    var id = cell.output_area._bokeh_element_id;\n",
       "    var server_id = cell.output_area._bokeh_server_id;\n",
       "    // Clean up Bokeh references\n",
       "    if (id !== undefined) {\n",
       "      Bokeh.index[id].model.document.clear();\n",
       "      delete Bokeh.index[id];\n",
       "    }\n",
       "\n",
       "    if (server_id !== undefined) {\n",
       "      // Clean up Bokeh references\n",
       "      var cmd = \"from bokeh.io.state import curstate; print(curstate().uuid_to_server['\" + server_id + \"'].get_sessions()[0].document.roots[0]._id)\";\n",
       "      cell.notebook.kernel.execute(cmd, {\n",
       "        iopub: {\n",
       "          output: function(msg) {\n",
       "            var element_id = msg.content.text.trim();\n",
       "            Bokeh.index[element_id].model.document.clear();\n",
       "            delete Bokeh.index[element_id];\n",
       "          }\n",
       "        }\n",
       "      });\n",
       "      // Destroy server and session\n",
       "      var cmd = \"import bokeh.io.notebook as ion; ion.destroy_server('\" + server_id + \"')\";\n",
       "      cell.notebook.kernel.execute(cmd);\n",
       "    }\n",
       "  }\n",
       "\n",
       "  /**\n",
       "   * Handle when a new output is added\n",
       "   */\n",
       "  function handleAddOutput(event, handle) {\n",
       "    var output_area = handle.output_area;\n",
       "    var output = handle.output;\n",
       "\n",
       "    // limit handleAddOutput to display_data with EXEC_MIME_TYPE content only\n",
       "    if ((output.output_type != \"display_data\") || (!output.data.hasOwnProperty(EXEC_MIME_TYPE))) {\n",
       "      return\n",
       "    }\n",
       "\n",
       "    var toinsert = output_area.element.find(\".\" + CLASS_NAME.split(' ')[0]);\n",
       "\n",
       "    if (output.metadata[EXEC_MIME_TYPE][\"id\"] !== undefined) {\n",
       "      toinsert[0].firstChild.textContent = output.data[JS_MIME_TYPE];\n",
       "      // store reference to embed id on output_area\n",
       "      output_area._bokeh_element_id = output.metadata[EXEC_MIME_TYPE][\"id\"];\n",
       "    }\n",
       "    if (output.metadata[EXEC_MIME_TYPE][\"server_id\"] !== undefined) {\n",
       "      var bk_div = document.createElement(\"div\");\n",
       "      bk_div.innerHTML = output.data[HTML_MIME_TYPE];\n",
       "      var script_attrs = bk_div.children[0].attributes;\n",
       "      for (var i = 0; i < script_attrs.length; i++) {\n",
       "        toinsert[0].firstChild.setAttribute(script_attrs[i].name, script_attrs[i].value);\n",
       "      }\n",
       "      // store reference to server id on output_area\n",
       "      output_area._bokeh_server_id = output.metadata[EXEC_MIME_TYPE][\"server_id\"];\n",
       "    }\n",
       "  }\n",
       "\n",
       "  function register_renderer(events, OutputArea) {\n",
       "\n",
       "    function append_mime(data, metadata, element) {\n",
       "      // create a DOM node to render to\n",
       "      var toinsert = this.create_output_subarea(\n",
       "        metadata,\n",
       "        CLASS_NAME,\n",
       "        EXEC_MIME_TYPE\n",
       "      );\n",
       "      this.keyboard_manager.register_events(toinsert);\n",
       "      // Render to node\n",
       "      var props = {data: data, metadata: metadata[EXEC_MIME_TYPE]};\n",
       "      render(props, toinsert[0]);\n",
       "      element.append(toinsert);\n",
       "      return toinsert\n",
       "    }\n",
       "\n",
       "    /* Handle when an output is cleared or removed */\n",
       "    events.on('clear_output.CodeCell', handleClearOutput);\n",
       "    events.on('delete.Cell', handleClearOutput);\n",
       "\n",
       "    /* Handle when a new output is added */\n",
       "    events.on('output_added.OutputArea', handleAddOutput);\n",
       "\n",
       "    /**\n",
       "     * Register the mime type and append_mime function with output_area\n",
       "     */\n",
       "    OutputArea.prototype.register_mime_type(EXEC_MIME_TYPE, append_mime, {\n",
       "      /* Is output safe? */\n",
       "      safe: true,\n",
       "      /* Index of renderer in `output_area.display_order` */\n",
       "      index: 0\n",
       "    });\n",
       "  }\n",
       "\n",
       "  // register the mime type if in Jupyter Notebook environment and previously unregistered\n",
       "  if (root.Jupyter !== undefined) {\n",
       "    var events = require('base/js/events');\n",
       "    var OutputArea = require('notebook/js/outputarea').OutputArea;\n",
       "\n",
       "    if (OutputArea.prototype.mime_types().indexOf(EXEC_MIME_TYPE) == -1) {\n",
       "      register_renderer(events, OutputArea);\n",
       "    }\n",
       "  }\n",
       "\n",
       "  \n",
       "  if (typeof (root._bokeh_timeout) === \"undefined\" || force === true) {\n",
       "    root._bokeh_timeout = Date.now() + 5000;\n",
       "    root._bokeh_failed_load = false;\n",
       "  }\n",
       "\n",
       "  var NB_LOAD_WARNING = {'data': {'text/html':\n",
       "     \"<div style='background-color: #fdd'>\\n\"+\n",
       "     \"<p>\\n\"+\n",
       "     \"BokehJS does not appear to have successfully loaded. If loading BokehJS from CDN, this \\n\"+\n",
       "     \"may be due to a slow or bad network connection. Possible fixes:\\n\"+\n",
       "     \"</p>\\n\"+\n",
       "     \"<ul>\\n\"+\n",
       "     \"<li>re-rerun `output_notebook()` to attempt to load from CDN again, or</li>\\n\"+\n",
       "     \"<li>use INLINE resources instead, as so:</li>\\n\"+\n",
       "     \"</ul>\\n\"+\n",
       "     \"<code>\\n\"+\n",
       "     \"from bokeh.resources import INLINE\\n\"+\n",
       "     \"output_notebook(resources=INLINE)\\n\"+\n",
       "     \"</code>\\n\"+\n",
       "     \"</div>\"}};\n",
       "\n",
       "  function display_loaded() {\n",
       "    var el = document.getElementById(\"9bc71b25-7b33-45c3-916d-3601e8fd37eb\");\n",
       "    if (el != null) {\n",
       "      el.textContent = \"BokehJS is loading...\";\n",
       "    }\n",
       "    if (root.Bokeh !== undefined) {\n",
       "      if (el != null) {\n",
       "        el.textContent = \"BokehJS \" + root.Bokeh.version + \" successfully loaded.\";\n",
       "      }\n",
       "    } else if (Date.now() < root._bokeh_timeout) {\n",
       "      setTimeout(display_loaded, 100)\n",
       "    }\n",
       "  }\n",
       "\n",
       "\n",
       "  function run_callbacks() {\n",
       "    try {\n",
       "      root._bokeh_onload_callbacks.forEach(function(callback) { callback() });\n",
       "    }\n",
       "    finally {\n",
       "      delete root._bokeh_onload_callbacks\n",
       "    }\n",
       "    console.info(\"Bokeh: all callbacks have finished\");\n",
       "  }\n",
       "\n",
       "  function load_libs(js_urls, callback) {\n",
       "    root._bokeh_onload_callbacks.push(callback);\n",
       "    if (root._bokeh_is_loading > 0) {\n",
       "      console.log(\"Bokeh: BokehJS is being loaded, scheduling callback at\", now());\n",
       "      return null;\n",
       "    }\n",
       "    if (js_urls == null || js_urls.length === 0) {\n",
       "      run_callbacks();\n",
       "      return null;\n",
       "    }\n",
       "    console.log(\"Bokeh: BokehJS not loaded, scheduling load and callback at\", now());\n",
       "    root._bokeh_is_loading = js_urls.length;\n",
       "    for (var i = 0; i < js_urls.length; i++) {\n",
       "      var url = js_urls[i];\n",
       "      var s = document.createElement('script');\n",
       "      s.src = url;\n",
       "      s.async = false;\n",
       "      s.onreadystatechange = s.onload = function() {\n",
       "        root._bokeh_is_loading--;\n",
       "        if (root._bokeh_is_loading === 0) {\n",
       "          console.log(\"Bokeh: all BokehJS libraries loaded\");\n",
       "          run_callbacks()\n",
       "        }\n",
       "      };\n",
       "      s.onerror = function() {\n",
       "        console.warn(\"failed to load library \" + url);\n",
       "      };\n",
       "      console.log(\"Bokeh: injecting script tag for BokehJS library: \", url);\n",
       "      document.getElementsByTagName(\"head\")[0].appendChild(s);\n",
       "    }\n",
       "  };var element = document.getElementById(\"9bc71b25-7b33-45c3-916d-3601e8fd37eb\");\n",
       "  if (element == null) {\n",
       "    console.log(\"Bokeh: ERROR: autoload.js configured with elementid '9bc71b25-7b33-45c3-916d-3601e8fd37eb' but no matching script tag was found. \")\n",
       "    return false;\n",
       "  }\n",
       "\n",
       "  var js_urls = [\"https://cdn.pydata.org/bokeh/release/bokeh-0.12.13.min.js\", \"https://cdn.pydata.org/bokeh/release/bokeh-widgets-0.12.13.min.js\", \"https://cdn.pydata.org/bokeh/release/bokeh-tables-0.12.13.min.js\", \"https://cdn.pydata.org/bokeh/release/bokeh-gl-0.12.13.min.js\"];\n",
       "\n",
       "  var inline_js = [\n",
       "    function(Bokeh) {\n",
       "      Bokeh.set_log_level(\"info\");\n",
       "    },\n",
       "    \n",
       "    function(Bokeh) {\n",
       "      \n",
       "    },\n",
       "    function(Bokeh) {\n",
       "      console.log(\"Bokeh: injecting CSS: https://cdn.pydata.org/bokeh/release/bokeh-0.12.13.min.css\");\n",
       "      Bokeh.embed.inject_css(\"https://cdn.pydata.org/bokeh/release/bokeh-0.12.13.min.css\");\n",
       "      console.log(\"Bokeh: injecting CSS: https://cdn.pydata.org/bokeh/release/bokeh-widgets-0.12.13.min.css\");\n",
       "      Bokeh.embed.inject_css(\"https://cdn.pydata.org/bokeh/release/bokeh-widgets-0.12.13.min.css\");\n",
       "      console.log(\"Bokeh: injecting CSS: https://cdn.pydata.org/bokeh/release/bokeh-tables-0.12.13.min.css\");\n",
       "      Bokeh.embed.inject_css(\"https://cdn.pydata.org/bokeh/release/bokeh-tables-0.12.13.min.css\");\n",
       "    }\n",
       "  ];\n",
       "\n",
       "  function run_inline_js() {\n",
       "    \n",
       "    if ((root.Bokeh !== undefined) || (force === true)) {\n",
       "      for (var i = 0; i < inline_js.length; i++) {\n",
       "        inline_js[i].call(root, root.Bokeh);\n",
       "      }if (force === true) {\n",
       "        display_loaded();\n",
       "      }} else if (Date.now() < root._bokeh_timeout) {\n",
       "      setTimeout(run_inline_js, 100);\n",
       "    } else if (!root._bokeh_failed_load) {\n",
       "      console.log(\"Bokeh: BokehJS failed to load within specified timeout.\");\n",
       "      root._bokeh_failed_load = true;\n",
       "    } else if (force !== true) {\n",
       "      var cell = $(document.getElementById(\"9bc71b25-7b33-45c3-916d-3601e8fd37eb\")).parents('.cell').data().cell;\n",
       "      cell.output_area.append_execute_result(NB_LOAD_WARNING)\n",
       "    }\n",
       "\n",
       "  }\n",
       "\n",
       "  if (root._bokeh_is_loading === 0) {\n",
       "    console.log(\"Bokeh: BokehJS loaded, going straight to plotting\");\n",
       "    run_inline_js();\n",
       "  } else {\n",
       "    load_libs(js_urls, function() {\n",
       "      console.log(\"Bokeh: BokehJS plotting callback run at\", now());\n",
       "      run_inline_js();\n",
       "    });\n",
       "  }\n",
       "}(window));"
      ],
      "application/vnd.bokehjs_load.v0+json": "\n(function(root) {\n  function now() {\n    return new Date();\n  }\n\n  var force = true;\n\n  if (typeof (root._bokeh_onload_callbacks) === \"undefined\" || force === true) {\n    root._bokeh_onload_callbacks = [];\n    root._bokeh_is_loading = undefined;\n  }\n\n  \n\n  \n  if (typeof (root._bokeh_timeout) === \"undefined\" || force === true) {\n    root._bokeh_timeout = Date.now() + 5000;\n    root._bokeh_failed_load = false;\n  }\n\n  var NB_LOAD_WARNING = {'data': {'text/html':\n     \"<div style='background-color: #fdd'>\\n\"+\n     \"<p>\\n\"+\n     \"BokehJS does not appear to have successfully loaded. If loading BokehJS from CDN, this \\n\"+\n     \"may be due to a slow or bad network connection. Possible fixes:\\n\"+\n     \"</p>\\n\"+\n     \"<ul>\\n\"+\n     \"<li>re-rerun `output_notebook()` to attempt to load from CDN again, or</li>\\n\"+\n     \"<li>use INLINE resources instead, as so:</li>\\n\"+\n     \"</ul>\\n\"+\n     \"<code>\\n\"+\n     \"from bokeh.resources import INLINE\\n\"+\n     \"output_notebook(resources=INLINE)\\n\"+\n     \"</code>\\n\"+\n     \"</div>\"}};\n\n  function display_loaded() {\n    var el = document.getElementById(\"9bc71b25-7b33-45c3-916d-3601e8fd37eb\");\n    if (el != null) {\n      el.textContent = \"BokehJS is loading...\";\n    }\n    if (root.Bokeh !== undefined) {\n      if (el != null) {\n        el.textContent = \"BokehJS \" + root.Bokeh.version + \" successfully loaded.\";\n      }\n    } else if (Date.now() < root._bokeh_timeout) {\n      setTimeout(display_loaded, 100)\n    }\n  }\n\n\n  function run_callbacks() {\n    try {\n      root._bokeh_onload_callbacks.forEach(function(callback) { callback() });\n    }\n    finally {\n      delete root._bokeh_onload_callbacks\n    }\n    console.info(\"Bokeh: all callbacks have finished\");\n  }\n\n  function load_libs(js_urls, callback) {\n    root._bokeh_onload_callbacks.push(callback);\n    if (root._bokeh_is_loading > 0) {\n      console.log(\"Bokeh: BokehJS is being loaded, scheduling callback at\", now());\n      return null;\n    }\n    if (js_urls == null || js_urls.length === 0) {\n      run_callbacks();\n      return null;\n    }\n    console.log(\"Bokeh: BokehJS not loaded, scheduling load and callback at\", now());\n    root._bokeh_is_loading = js_urls.length;\n    for (var i = 0; i < js_urls.length; i++) {\n      var url = js_urls[i];\n      var s = document.createElement('script');\n      s.src = url;\n      s.async = false;\n      s.onreadystatechange = s.onload = function() {\n        root._bokeh_is_loading--;\n        if (root._bokeh_is_loading === 0) {\n          console.log(\"Bokeh: all BokehJS libraries loaded\");\n          run_callbacks()\n        }\n      };\n      s.onerror = function() {\n        console.warn(\"failed to load library \" + url);\n      };\n      console.log(\"Bokeh: injecting script tag for BokehJS library: \", url);\n      document.getElementsByTagName(\"head\")[0].appendChild(s);\n    }\n  };var element = document.getElementById(\"9bc71b25-7b33-45c3-916d-3601e8fd37eb\");\n  if (element == null) {\n    console.log(\"Bokeh: ERROR: autoload.js configured with elementid '9bc71b25-7b33-45c3-916d-3601e8fd37eb' but no matching script tag was found. \")\n    return false;\n  }\n\n  var js_urls = [\"https://cdn.pydata.org/bokeh/release/bokeh-0.12.13.min.js\", \"https://cdn.pydata.org/bokeh/release/bokeh-widgets-0.12.13.min.js\", \"https://cdn.pydata.org/bokeh/release/bokeh-tables-0.12.13.min.js\", \"https://cdn.pydata.org/bokeh/release/bokeh-gl-0.12.13.min.js\"];\n\n  var inline_js = [\n    function(Bokeh) {\n      Bokeh.set_log_level(\"info\");\n    },\n    \n    function(Bokeh) {\n      \n    },\n    function(Bokeh) {\n      console.log(\"Bokeh: injecting CSS: https://cdn.pydata.org/bokeh/release/bokeh-0.12.13.min.css\");\n      Bokeh.embed.inject_css(\"https://cdn.pydata.org/bokeh/release/bokeh-0.12.13.min.css\");\n      console.log(\"Bokeh: injecting CSS: https://cdn.pydata.org/bokeh/release/bokeh-widgets-0.12.13.min.css\");\n      Bokeh.embed.inject_css(\"https://cdn.pydata.org/bokeh/release/bokeh-widgets-0.12.13.min.css\");\n      console.log(\"Bokeh: injecting CSS: https://cdn.pydata.org/bokeh/release/bokeh-tables-0.12.13.min.css\");\n      Bokeh.embed.inject_css(\"https://cdn.pydata.org/bokeh/release/bokeh-tables-0.12.13.min.css\");\n    }\n  ];\n\n  function run_inline_js() {\n    \n    if ((root.Bokeh !== undefined) || (force === true)) {\n      for (var i = 0; i < inline_js.length; i++) {\n        inline_js[i].call(root, root.Bokeh);\n      }if (force === true) {\n        display_loaded();\n      }} else if (Date.now() < root._bokeh_timeout) {\n      setTimeout(run_inline_js, 100);\n    } else if (!root._bokeh_failed_load) {\n      console.log(\"Bokeh: BokehJS failed to load within specified timeout.\");\n      root._bokeh_failed_load = true;\n    } else if (force !== true) {\n      var cell = $(document.getElementById(\"9bc71b25-7b33-45c3-916d-3601e8fd37eb\")).parents('.cell').data().cell;\n      cell.output_area.append_execute_result(NB_LOAD_WARNING)\n    }\n\n  }\n\n  if (root._bokeh_is_loading === 0) {\n    console.log(\"Bokeh: BokehJS loaded, going straight to plotting\");\n    run_inline_js();\n  } else {\n    load_libs(js_urls, function() {\n      console.log(\"Bokeh: BokehJS plotting callback run at\", now());\n      run_inline_js();\n    });\n  }\n}(window));"
     },
     "metadata": {},
     "output_type": "display_data"
    },
    {
     "name": "stderr",
     "output_type": "stream",
     "text": [
      "C:\\Users\\rahul\\Anaconda3\\lib\\site-packages\\bokeh\\models\\sources.py:137: BokehUserWarning: ColumnDataSource's columns must be of the same length. Current lengths: ('radius', 2500), ('x', 3462)\n",
      "  \"Current lengths: %s\" % \", \".join(sorted(str((k, len(v))) for k, v in data.items())), BokehUserWarning))\n",
      "C:\\Users\\rahul\\Anaconda3\\lib\\site-packages\\bokeh\\models\\sources.py:137: BokehUserWarning: ColumnDataSource's columns must be of the same length. Current lengths: ('radius', 2500), ('x', 3462), ('y', 3462)\n",
      "  \"Current lengths: %s\" % \", \".join(sorted(str((k, len(v))) for k, v in data.items())), BokehUserWarning))\n",
      "C:\\Users\\rahul\\Anaconda3\\lib\\site-packages\\bokeh\\models\\sources.py:137: BokehUserWarning: ColumnDataSource's columns must be of the same length. Current lengths: ('fill_color', 3462), ('radius', 2500), ('x', 3462), ('y', 3462)\n",
      "  \"Current lengths: %s\" % \", \".join(sorted(str((k, len(v))) for k, v in data.items())), BokehUserWarning))\n"
     ]
    },
    {
     "data": {
      "text/html": [
       "\n",
       "<div class=\"bk-root\">\n",
       "    <div class=\"bk-plotdiv\" id=\"63fd4cf4-1655-45cf-b8a3-c074baa612bf\"></div>\n",
       "</div>"
      ]
     },
     "metadata": {},
     "output_type": "display_data"
    },
    {
     "data": {
      "application/javascript": [
       "(function(root) {\n",
       "  function embed_document(root) {\n",
       "    \n",
       "  var docs_json = {\"97b773b5-3a64-4f52-9200-1ae80cc24982\":{\"roots\":{\"references\":[{\"attributes\":{},\"id\":\"085a4fe9-023d-4283-8a02-01b70c397167\",\"type\":\"UndoTool\"},{\"attributes\":{\"callback\":null,\"overlay\":{\"id\":\"4cf49ed3-01c0-41d0-8e92-3754c35af171\",\"type\":\"PolyAnnotation\"}},\"id\":\"471c60a8-77f9-41e8-a4e8-98ac942b99b4\",\"type\":\"PolySelectTool\"},{\"attributes\":{},\"id\":\"ef44c55b-a1d7-4e5d-a462-011dffa4ba69\",\"type\":\"RedoTool\"},{\"attributes\":{\"callback\":null},\"id\":\"c09dff5f-b7d0-40fa-b2f3-493a9a9c6f37\",\"type\":\"TapTool\"},{\"attributes\":{\"below\":[{\"id\":\"3ce8fe6c-41cf-47af-958c-703e572e5dc4\",\"type\":\"LinearAxis\"}],\"left\":[{\"id\":\"42ca87d5-b070-4a60-9b01-584efd2949de\",\"type\":\"LinearAxis\"}],\"plot_width\":1000,\"renderers\":[{\"id\":\"3ce8fe6c-41cf-47af-958c-703e572e5dc4\",\"type\":\"LinearAxis\"},{\"id\":\"5d2a9a6d-5056-4b7b-ab5b-21efd24eb49e\",\"type\":\"Grid\"},{\"id\":\"42ca87d5-b070-4a60-9b01-584efd2949de\",\"type\":\"LinearAxis\"},{\"id\":\"35c575bf-1864-4f6d-8ff1-52ffe6ac3133\",\"type\":\"Grid\"},{\"id\":\"b9aa6715-1e3e-401b-9860-1dd7995d1353\",\"type\":\"BoxAnnotation\"},{\"id\":\"5a9c9488-f2fc-44b0-8a0a-e5bd41a49d34\",\"type\":\"BoxAnnotation\"},{\"id\":\"4cf49ed3-01c0-41d0-8e92-3754c35af171\",\"type\":\"PolyAnnotation\"},{\"id\":\"5ed08efe-c6df-4f10-bc5b-8e5232f7b5e6\",\"type\":\"PolyAnnotation\"},{\"id\":\"98a16ad1-9c08-44ed-80df-d0375f3489d4\",\"type\":\"GlyphRenderer\"},{\"id\":\"bfebca6e-0e83-48ac-931d-9afdb97b187f\",\"type\":\"Legend\"},{\"id\":\"e9955ba7-e121-42a2-b1a3-a7e2f9171069\",\"type\":\"GlyphRenderer\"},{\"id\":\"9c262d60-ab20-46e9-91cd-d2c0f574e7fa\",\"type\":\"GlyphRenderer\"},{\"id\":\"a9e704d0-1b22-4b8a-81e6-9c14125602a5\",\"type\":\"GlyphRenderer\"}],\"title\":{\"id\":\"b9a70104-3de7-48fe-be67-a402f4381a38\",\"type\":\"Title\"},\"toolbar\":{\"id\":\"30972d04-9b6f-4ff2-84d0-5982c143cc03\",\"type\":\"Toolbar\"},\"x_range\":{\"id\":\"b42f75de-4a04-48d3-9525-aca79f7fd033\",\"type\":\"DataRange1d\"},\"x_scale\":{\"id\":\"de876d19-8d31-419a-8678-b890f4d4edb9\",\"type\":\"LinearScale\"},\"y_range\":{\"id\":\"854552fc-9cd4-4dfa-8621-83d84fedb448\",\"type\":\"DataRange1d\"},\"y_scale\":{\"id\":\"58b62af6-15a2-46b2-b226-4c058928a6b5\",\"type\":\"LinearScale\"}},\"id\":\"a78ab648-7a49-4494-87ca-8ffe24e75de9\",\"subtype\":\"Figure\",\"type\":\"Plot\"},{\"attributes\":{\"fill_alpha\":{\"value\":0.5},\"fill_color\":{\"value\":\"lightgrey\"},\"level\":\"overlay\",\"line_alpha\":{\"value\":1.0},\"line_color\":{\"value\":\"black\"},\"line_dash\":[4,4],\"line_width\":{\"value\":2},\"plot\":null,\"xs_units\":\"screen\",\"ys_units\":\"screen\"},\"id\":\"5ed08efe-c6df-4f10-bc5b-8e5232f7b5e6\",\"type\":\"PolyAnnotation\"},{\"attributes\":{\"callback\":null,\"overlay\":{\"id\":\"5ed08efe-c6df-4f10-bc5b-8e5232f7b5e6\",\"type\":\"PolyAnnotation\"}},\"id\":\"31f4d96e-cbad-411a-8c06-8c981411a6f9\",\"type\":\"LassoSelectTool\"},{\"attributes\":{\"callback\":null,\"overlay\":{\"id\":\"5a9c9488-f2fc-44b0-8a0a-e5bd41a49d34\",\"type\":\"BoxAnnotation\"},\"renderers\":[{\"id\":\"98a16ad1-9c08-44ed-80df-d0375f3489d4\",\"type\":\"GlyphRenderer\"},{\"id\":\"e9955ba7-e121-42a2-b1a3-a7e2f9171069\",\"type\":\"GlyphRenderer\"},{\"id\":\"9c262d60-ab20-46e9-91cd-d2c0f574e7fa\",\"type\":\"GlyphRenderer\"},{\"id\":\"a9e704d0-1b22-4b8a-81e6-9c14125602a5\",\"type\":\"GlyphRenderer\"}]},\"id\":\"1d4b12cc-6dc3-4297-bbef-87232ec11ea1\",\"type\":\"BoxSelectTool\"},{\"attributes\":{\"fill_alpha\":{\"value\":0.5},\"fill_color\":{\"value\":\"lightgrey\"},\"level\":\"overlay\",\"line_alpha\":{\"value\":1.0},\"line_color\":{\"value\":\"black\"},\"line_dash\":[4,4],\"line_width\":{\"value\":2},\"plot\":null,\"xs_units\":\"screen\",\"ys_units\":\"screen\"},\"id\":\"4cf49ed3-01c0-41d0-8e92-3754c35af171\",\"type\":\"PolyAnnotation\"},{\"attributes\":{\"label\":{\"value\":\"PC\"},\"renderers\":[{\"id\":\"e9955ba7-e121-42a2-b1a3-a7e2f9171069\",\"type\":\"GlyphRenderer\"}]},\"id\":\"3fade78f-4541-4d27-aa0b-7f1488e71ce9\",\"type\":\"LegendItem\"},{\"attributes\":{},\"id\":\"75e8fab0-3aa7-4ea4-bb7e-b90307cc8629\",\"type\":\"BasicTickFormatter\"},{\"attributes\":{\"source\":{\"id\":\"9c960ed6-0cad-400f-af44-b68f1d1a4e21\",\"type\":\"ColumnDataSource\"}},\"id\":\"a0fd58d2-3968-4f06-98aa-c3a11c224d96\",\"type\":\"CDSView\"},{\"attributes\":{\"active_drag\":\"auto\",\"active_inspect\":\"auto\",\"active_scroll\":\"auto\",\"active_tap\":\"auto\",\"tools\":[{\"id\":\"1185161e-dcda-4f69-a27f-048897e853c9\",\"type\":\"HoverTool\"},{\"id\":\"fda4daa8-d013-49fe-be07-d4379e468a80\",\"type\":\"CrosshairTool\"},{\"id\":\"280b5e15-01fc-4255-a3f4-e91e08db90a4\",\"type\":\"PanTool\"},{\"id\":\"e3bbe292-14c9-4667-aa18-72ec14f5d4ab\",\"type\":\"WheelZoomTool\"},{\"id\":\"115145ee-3885-41d0-b23c-8e13cb31b43c\",\"type\":\"ZoomInTool\"},{\"id\":\"6c67c3bb-7b94-447d-87b2-e148228e5116\",\"type\":\"ZoomOutTool\"},{\"id\":\"25f82047-30c8-49f1-b04a-325b44123a93\",\"type\":\"BoxZoomTool\"},{\"id\":\"085a4fe9-023d-4283-8a02-01b70c397167\",\"type\":\"UndoTool\"},{\"id\":\"ef44c55b-a1d7-4e5d-a462-011dffa4ba69\",\"type\":\"RedoTool\"},{\"id\":\"9fc11590-fbee-4d75-ad48-72a3e6b57764\",\"type\":\"ResetTool\"},{\"id\":\"c09dff5f-b7d0-40fa-b2f3-493a9a9c6f37\",\"type\":\"TapTool\"},{\"id\":\"8792b793-2220-424d-b3de-585fbb4e083e\",\"type\":\"SaveTool\"},{\"id\":\"1d4b12cc-6dc3-4297-bbef-87232ec11ea1\",\"type\":\"BoxSelectTool\"},{\"id\":\"471c60a8-77f9-41e8-a4e8-98ac942b99b4\",\"type\":\"PolySelectTool\"},{\"id\":\"31f4d96e-cbad-411a-8c06-8c981411a6f9\",\"type\":\"LassoSelectTool\"}]},\"id\":\"30972d04-9b6f-4ff2-84d0-5982c143cc03\",\"type\":\"Toolbar\"},{\"attributes\":{\"callback\":null,\"data\":{}},\"id\":\"9f32b3c9-da01-4416-bf0b-37b3708e2be9\",\"type\":\"ColumnDataSource\"},{\"attributes\":{\"data_source\":{\"id\":\"e2c84838-d978-408f-9d11-25f505730dae\",\"type\":\"ColumnDataSource\"},\"glyph\":{\"id\":\"22b94210-474d-4cd0-83f6-5ef5257e6456\",\"type\":\"Circle\"},\"hover_glyph\":null,\"muted_glyph\":null,\"nonselection_glyph\":{\"id\":\"cdcd205a-6fa6-4296-99b4-6821a1d8b5f6\",\"type\":\"Circle\"},\"selection_glyph\":null,\"view\":{\"id\":\"97495921-a10f-4351-b15a-f0423fac9345\",\"type\":\"CDSView\"}},\"id\":\"98a16ad1-9c08-44ed-80df-d0375f3489d4\",\"type\":\"GlyphRenderer\"},{\"attributes\":{\"items\":[{\"id\":\"3fade78f-4541-4d27-aa0b-7f1488e71ce9\",\"type\":\"LegendItem\"},{\"id\":\"efddaa24-238f-4cc3-8f49-31d5512193a6\",\"type\":\"LegendItem\"},{\"id\":\"5db01703-db19-4ad6-bec1-64aa83ed9e84\",\"type\":\"LegendItem\"}],\"plot\":{\"id\":\"a78ab648-7a49-4494-87ca-8ffe24e75de9\",\"subtype\":\"Figure\",\"type\":\"Plot\"}},\"id\":\"bfebca6e-0e83-48ac-931d-9afdb97b187f\",\"type\":\"Legend\"},{\"attributes\":{},\"id\":\"46c5aec0-ba45-47ee-931f-793b82e224eb\",\"type\":\"BasicTicker\"},{\"attributes\":{\"callback\":null},\"id\":\"b42f75de-4a04-48d3-9525-aca79f7fd033\",\"type\":\"DataRange1d\"},{\"attributes\":{\"data_source\":{\"id\":\"b9a3464a-20d5-42f2-9115-710094282ca4\",\"type\":\"ColumnDataSource\"},\"glyph\":{\"id\":\"795b274c-790a-4234-9efa-b1cdeaf2c585\",\"type\":\"Circle\"},\"hover_glyph\":null,\"muted_glyph\":null,\"nonselection_glyph\":{\"id\":\"acaef8f6-f294-4ed0-b65c-55ffe2fc9947\",\"type\":\"Circle\"},\"selection_glyph\":null,\"view\":{\"id\":\"690389b8-3d78-45b0-a808-cc6cfcfcbfa2\",\"type\":\"CDSView\"}},\"id\":\"9c262d60-ab20-46e9-91cd-d2c0f574e7fa\",\"type\":\"GlyphRenderer\"},{\"attributes\":{\"fill_color\":{\"value\":\"#FFA500\"},\"line_color\":{\"value\":\"#FFA500\"},\"radius\":{\"units\":\"data\",\"value\":0},\"x\":{\"value\":0},\"y\":{\"value\":0}},\"id\":\"795b274c-790a-4234-9efa-b1cdeaf2c585\",\"type\":\"Circle\"},{\"attributes\":{\"callback\":null,\"data\":{}},\"id\":\"b9a3464a-20d5-42f2-9115-710094282ca4\",\"type\":\"ColumnDataSource\"},{\"attributes\":{},\"id\":\"58b62af6-15a2-46b2-b226-4c058928a6b5\",\"type\":\"LinearScale\"},{\"attributes\":{\"source\":{\"id\":\"9f32b3c9-da01-4416-bf0b-37b3708e2be9\",\"type\":\"ColumnDataSource\"}},\"id\":\"7080425a-067d-46f7-b7b3-87b3bf586dd0\",\"type\":\"CDSView\"},{\"attributes\":{\"fill_alpha\":{\"value\":0.6},\"fill_color\":{\"field\":\"fill_color\"},\"line_color\":{\"value\":null},\"radius\":{\"field\":\"radius\",\"units\":\"data\"},\"x\":{\"field\":\"x\"},\"y\":{\"field\":\"y\"}},\"id\":\"22b94210-474d-4cd0-83f6-5ef5257e6456\",\"type\":\"Circle\"},{\"attributes\":{\"fill_color\":{\"value\":\"#008000\"},\"line_color\":{\"value\":\"#008000\"},\"radius\":{\"units\":\"data\",\"value\":0},\"x\":{\"value\":0},\"y\":{\"value\":0}},\"id\":\"b4eecdef-24e0-4efb-8b47-8ee85260da66\",\"type\":\"Circle\"},{\"attributes\":{\"fill_alpha\":{\"value\":0.1},\"fill_color\":{\"value\":\"#1f77b4\"},\"line_alpha\":{\"value\":0.1},\"line_color\":{\"value\":\"#1f77b4\"},\"radius\":{\"units\":\"data\",\"value\":0},\"x\":{\"value\":0},\"y\":{\"value\":0}},\"id\":\"3914644f-b448-4612-a7f4-3ff34f1f781e\",\"type\":\"Circle\"},{\"attributes\":{},\"id\":\"4eb4f9eb-6a38-4f6e-a443-c0e4577e6639\",\"type\":\"BasicTickFormatter\"},{\"attributes\":{},\"id\":\"8792b793-2220-424d-b3de-585fbb4e083e\",\"type\":\"SaveTool\"},{\"attributes\":{},\"id\":\"9fc11590-fbee-4d75-ad48-72a3e6b57764\",\"type\":\"ResetTool\"},{\"attributes\":{\"overlay\":{\"id\":\"b9aa6715-1e3e-401b-9860-1dd7995d1353\",\"type\":\"BoxAnnotation\"}},\"id\":\"25f82047-30c8-49f1-b04a-325b44123a93\",\"type\":\"BoxZoomTool\"},{\"attributes\":{\"bottom_units\":\"screen\",\"fill_alpha\":{\"value\":0.5},\"fill_color\":{\"value\":\"lightgrey\"},\"left_units\":\"screen\",\"level\":\"overlay\",\"line_alpha\":{\"value\":1.0},\"line_color\":{\"value\":\"black\"},\"line_dash\":[4,4],\"line_width\":{\"value\":2},\"plot\":null,\"render_mode\":\"css\",\"right_units\":\"screen\",\"top_units\":\"screen\"},\"id\":\"b9aa6715-1e3e-401b-9860-1dd7995d1353\",\"type\":\"BoxAnnotation\"},{\"attributes\":{},\"id\":\"de876d19-8d31-419a-8678-b890f4d4edb9\",\"type\":\"LinearScale\"},{\"attributes\":{\"fill_alpha\":{\"value\":0.1},\"fill_color\":{\"value\":\"#1f77b4\"},\"line_alpha\":{\"value\":0.1},\"line_color\":{\"value\":\"#1f77b4\"},\"radius\":{\"units\":\"data\",\"value\":0},\"x\":{\"value\":0},\"y\":{\"value\":0}},\"id\":\"d1938d20-8c21-4c25-a52d-44a55890dee5\",\"type\":\"Circle\"},{\"attributes\":{},\"id\":\"115145ee-3885-41d0-b23c-8e13cb31b43c\",\"type\":\"ZoomInTool\"},{\"attributes\":{\"axis_label\":\"EU_Sales\",\"formatter\":{\"id\":\"75e8fab0-3aa7-4ea4-bb7e-b90307cc8629\",\"type\":\"BasicTickFormatter\"},\"plot\":{\"id\":\"a78ab648-7a49-4494-87ca-8ffe24e75de9\",\"subtype\":\"Figure\",\"type\":\"Plot\"},\"ticker\":{\"id\":\"9fa6ef2d-e142-4af7-bd98-956c737e9dd3\",\"type\":\"BasicTicker\"}},\"id\":\"42ca87d5-b070-4a60-9b01-584efd2949de\",\"type\":\"LinearAxis\"},{\"attributes\":{\"plot\":null,\"text\":\"EU_Sales, JP_Sales Scatter Plot\"},\"id\":\"b9a70104-3de7-48fe-be67-a402f4381a38\",\"type\":\"Title\"},{\"attributes\":{\"axis_label\":\"JP_Sales\",\"formatter\":{\"id\":\"4eb4f9eb-6a38-4f6e-a443-c0e4577e6639\",\"type\":\"BasicTickFormatter\"},\"plot\":{\"id\":\"a78ab648-7a49-4494-87ca-8ffe24e75de9\",\"subtype\":\"Figure\",\"type\":\"Plot\"},\"ticker\":{\"id\":\"46c5aec0-ba45-47ee-931f-793b82e224eb\",\"type\":\"BasicTicker\"}},\"id\":\"3ce8fe6c-41cf-47af-958c-703e572e5dc4\",\"type\":\"LinearAxis\"},{\"attributes\":{\"label\":{\"value\":\"X360\"},\"renderers\":[{\"id\":\"a9e704d0-1b22-4b8a-81e6-9c14125602a5\",\"type\":\"GlyphRenderer\"}]},\"id\":\"5db01703-db19-4ad6-bec1-64aa83ed9e84\",\"type\":\"LegendItem\"},{\"attributes\":{\"bottom_units\":\"screen\",\"fill_alpha\":{\"value\":0.5},\"fill_color\":{\"value\":\"lightgrey\"},\"left_units\":\"screen\",\"level\":\"overlay\",\"line_alpha\":{\"value\":1.0},\"line_color\":{\"value\":\"black\"},\"line_dash\":[4,4],\"line_width\":{\"value\":2},\"plot\":null,\"render_mode\":\"css\",\"right_units\":\"screen\",\"top_units\":\"screen\"},\"id\":\"5a9c9488-f2fc-44b0-8a0a-e5bd41a49d34\",\"type\":\"BoxAnnotation\"},{\"attributes\":{},\"id\":\"9fa6ef2d-e142-4af7-bd98-956c737e9dd3\",\"type\":\"BasicTicker\"},{\"attributes\":{\"callback\":null,\"column_names\":[\"radius\",\"x\",\"y\",\"fill_color\"],\"data\":{\"fill_color\":[\"#008000\",\"#008000\",\"#008000\",\"#008000\",\"#008000\",\"#008000\",\"#008000\",\"#008000\",\"#008000\",\"#008000\",\"#008000\",\"#008000\",\"#008000\",\"#008000\",\"#008000\",\"#008000\",\"#008000\",\"#008000\",\"#008000\",\"#008000\",\"#008000\",\"#008000\",\"#008000\",\"#008000\",\"#008000\",\"#008000\",\"#008000\",\"#008000\",\"#008000\",\"#008000\",\"#008000\",\"#008000\",\"#008000\",\"#008000\",\"#008000\",\"#008000\",\"#008000\",\"#008000\",\"#008000\",\"#008000\",\"#008000\",\"#008000\",\"#008000\",\"#008000\",\"#008000\",\"#008000\",\"#008000\",\"#008000\",\"#008000\",\"#008000\",\"#008000\",\"#008000\",\"#008000\",\"#008000\",\"#008000\",\"#008000\",\"#008000\",\"#008000\",\"#008000\",\"#008000\",\"#008000\",\"#008000\",\"#008000\",\"#008000\",\"#008000\",\"#008000\",\"#008000\",\"#008000\",\"#008000\",\"#008000\",\"#008000\",\"#008000\",\"#008000\",\"#008000\",\"#008000\",\"#008000\",\"#008000\",\"#008000\",\"#008000\",\"#008000\",\"#008000\",\"#008000\",\"#008000\",\"#008000\",\"#008000\",\"#008000\",\"#008000\",\"#008000\",\"#008000\",\"#008000\",\"#008000\",\"#008000\",\"#008000\",\"#008000\",\"#008000\",\"#008000\",\"#008000\",\"#008000\",\"#008000\",\"#008000\",\"#008000\",\"#008000\",\"#008000\",\"#008000\",\"#008000\",\"#008000\",\"#008000\",\"#008000\",\"#008000\",\"#008000\",\"#008000\",\"#008000\",\"#008000\",\"#008000\",\"#008000\",\"#008000\",\"#008000\",\"#008000\",\"#008000\",\"#008000\",\"#008000\",\"#008000\",\"#008000\",\"#008000\",\"#008000\",\"#008000\",\"#008000\",\"#008000\",\"#008000\",\"#008000\",\"#008000\",\"#008000\",\"#008000\",\"#008000\",\"#008000\",\"#008000\",\"#008000\",\"#008000\",\"#008000\",\"#008000\",\"#008000\",\"#008000\",\"#008000\",\"#008000\",\"#008000\",\"#008000\",\"#008000\",\"#008000\",\"#008000\",\"#008000\",\"#008000\",\"#008000\",\"#008000\",\"#008000\",\"#008000\",\"#008000\",\"#008000\",\"#008000\",\"#008000\",\"#008000\",\"#008000\",\"#008000\",\"#008000\",\"#008000\",\"#008000\",\"#008000\",\"#008000\",\"#008000\",\"#008000\",\"#008000\",\"#008000\",\"#008000\",\"#008000\",\"#008000\",\"#008000\",\"#008000\",\"#008000\",\"#008000\",\"#008000\",\"#008000\",\"#008000\",\"#008000\",\"#008000\",\"#008000\",\"#008000\",\"#008000\",\"#008000\",\"#008000\",\"#008000\",\"#008000\",\"#008000\",\"#008000\",\"#008000\",\"#008000\",\"#008000\",\"#008000\",\"#008000\",\"#008000\",\"#008000\",\"#008000\",\"#008000\",\"#008000\",\"#008000\",\"#008000\",\"#008000\",\"#008000\",\"#008000\",\"#008000\",\"#008000\",\"#008000\",\"#008000\",\"#008000\",\"#008000\",\"#008000\",\"#008000\",\"#008000\",\"#008000\",\"#008000\",\"#008000\",\"#008000\",\"#008000\",\"#008000\",\"#008000\",\"#008000\",\"#008000\",\"#008000\",\"#008000\",\"#008000\",\"#008000\",\"#008000\",\"#008000\",\"#008000\",\"#008000\",\"#008000\",\"#008000\",\"#008000\",\"#008000\",\"#008000\",\"#008000\",\"#008000\",\"#008000\",\"#008000\",\"#008000\",\"#008000\",\"#008000\",\"#008000\",\"#008000\",\"#008000\",\"#008000\",\"#008000\",\"#008000\",\"#008000\",\"#008000\",\"#008000\",\"#008000\",\"#008000\",\"#008000\",\"#008000\",\"#008000\",\"#008000\",\"#008000\",\"#008000\",\"#008000\",\"#008000\",\"#008000\",\"#008000\",\"#008000\",\"#008000\",\"#008000\",\"#008000\",\"#008000\",\"#008000\",\"#008000\",\"#008000\",\"#008000\",\"#008000\",\"#008000\",\"#008000\",\"#008000\",\"#008000\",\"#008000\",\"#008000\",\"#008000\",\"#008000\",\"#008000\",\"#008000\",\"#008000\",\"#008000\",\"#008000\",\"#008000\",\"#008000\",\"#008000\",\"#008000\",\"#008000\",\"#008000\",\"#008000\",\"#008000\",\"#008000\",\"#008000\",\"#008000\",\"#008000\",\"#008000\",\"#008000\",\"#008000\",\"#008000\",\"#008000\",\"#008000\",\"#008000\",\"#008000\",\"#008000\",\"#008000\",\"#008000\",\"#008000\",\"#008000\",\"#008000\",\"#008000\",\"#008000\",\"#008000\",\"#008000\",\"#008000\",\"#008000\",\"#008000\",\"#008000\",\"#008000\",\"#008000\",\"#008000\",\"#008000\",\"#008000\",\"#008000\",\"#008000\",\"#008000\",\"#008000\",\"#008000\",\"#008000\",\"#008000\",\"#008000\",\"#008000\",\"#008000\",\"#008000\",\"#008000\",\"#008000\",\"#008000\",\"#008000\",\"#008000\",\"#008000\",\"#008000\",\"#008000\",\"#008000\",\"#008000\",\"#008000\",\"#008000\",\"#008000\",\"#008000\",\"#008000\",\"#008000\",\"#008000\",\"#008000\",\"#008000\",\"#008000\",\"#008000\",\"#008000\",\"#008000\",\"#008000\",\"#008000\",\"#008000\",\"#008000\",\"#008000\",\"#008000\",\"#008000\",\"#008000\",\"#008000\",\"#008000\",\"#008000\",\"#008000\",\"#008000\",\"#008000\",\"#008000\",\"#008000\",\"#008000\",\"#008000\",\"#008000\",\"#008000\",\"#008000\",\"#008000\",\"#008000\",\"#008000\",\"#008000\",\"#008000\",\"#008000\",\"#008000\",\"#008000\",\"#008000\",\"#008000\",\"#008000\",\"#008000\",\"#008000\",\"#008000\",\"#008000\",\"#008000\",\"#008000\",\"#008000\",\"#008000\",\"#008000\",\"#008000\",\"#008000\",\"#008000\",\"#008000\",\"#008000\",\"#008000\",\"#008000\",\"#008000\",\"#008000\",\"#008000\",\"#008000\",\"#008000\",\"#008000\",\"#008000\",\"#008000\",\"#008000\",\"#008000\",\"#008000\",\"#008000\",\"#008000\",\"#008000\",\"#008000\",\"#008000\",\"#008000\",\"#008000\",\"#008000\",\"#008000\",\"#008000\",\"#008000\",\"#008000\",\"#008000\",\"#008000\",\"#008000\",\"#008000\",\"#008000\",\"#008000\",\"#008000\",\"#008000\",\"#008000\",\"#008000\",\"#008000\",\"#008000\",\"#008000\",\"#008000\",\"#008000\",\"#008000\",\"#008000\",\"#008000\",\"#008000\",\"#008000\",\"#008000\",\"#008000\",\"#008000\",\"#008000\",\"#008000\",\"#008000\",\"#008000\",\"#008000\",\"#008000\",\"#008000\",\"#008000\",\"#008000\",\"#008000\",\"#008000\",\"#008000\",\"#008000\",\"#008000\",\"#008000\",\"#008000\",\"#008000\",\"#008000\",\"#008000\",\"#008000\",\"#008000\",\"#008000\",\"#008000\",\"#008000\",\"#008000\",\"#008000\",\"#008000\",\"#008000\",\"#008000\",\"#008000\",\"#008000\",\"#008000\",\"#008000\",\"#008000\",\"#008000\",\"#008000\",\"#008000\",\"#008000\",\"#008000\",\"#008000\",\"#008000\",\"#008000\",\"#008000\",\"#008000\",\"#008000\",\"#008000\",\"#008000\",\"#008000\",\"#008000\",\"#008000\",\"#008000\",\"#008000\",\"#008000\",\"#008000\",\"#008000\",\"#008000\",\"#008000\",\"#008000\",\"#008000\",\"#008000\",\"#008000\",\"#008000\",\"#008000\",\"#008000\",\"#008000\",\"#008000\",\"#008000\",\"#008000\",\"#008000\",\"#008000\",\"#008000\",\"#008000\",\"#008000\",\"#008000\",\"#008000\",\"#008000\",\"#008000\",\"#008000\",\"#008000\",\"#008000\",\"#008000\",\"#008000\",\"#008000\",\"#008000\",\"#008000\",\"#008000\",\"#008000\",\"#008000\",\"#008000\",\"#008000\",\"#008000\",\"#008000\",\"#008000\",\"#008000\",\"#008000\",\"#008000\",\"#008000\",\"#008000\",\"#008000\",\"#008000\",\"#008000\",\"#008000\",\"#008000\",\"#008000\",\"#008000\",\"#008000\",\"#008000\",\"#008000\",\"#008000\",\"#008000\",\"#008000\",\"#008000\",\"#008000\",\"#008000\",\"#008000\",\"#008000\",\"#008000\",\"#008000\",\"#008000\",\"#008000\",\"#008000\",\"#008000\",\"#008000\",\"#008000\",\"#008000\",\"#008000\",\"#008000\",\"#008000\",\"#008000\",\"#008000\",\"#008000\",\"#008000\",\"#008000\",\"#008000\",\"#008000\",\"#008000\",\"#008000\",\"#008000\",\"#008000\",\"#008000\",\"#008000\",\"#008000\",\"#008000\",\"#008000\",\"#008000\",\"#008000\",\"#008000\",\"#008000\",\"#008000\",\"#008000\",\"#008000\",\"#008000\",\"#008000\",\"#008000\",\"#008000\",\"#008000\",\"#008000\",\"#008000\",\"#008000\",\"#008000\",\"#008000\",\"#008000\",\"#008000\",\"#008000\",\"#008000\",\"#008000\",\"#008000\",\"#008000\",\"#008000\",\"#008000\",\"#008000\",\"#008000\",\"#008000\",\"#008000\",\"#008000\",\"#008000\",\"#008000\",\"#008000\",\"#008000\",\"#008000\",\"#008000\",\"#008000\",\"#008000\",\"#008000\",\"#008000\",\"#008000\",\"#008000\",\"#008000\",\"#008000\",\"#008000\",\"#008000\",\"#008000\",\"#008000\",\"#008000\",\"#008000\",\"#008000\",\"#008000\",\"#008000\",\"#008000\",\"#008000\",\"#008000\",\"#008000\",\"#008000\",\"#008000\",\"#008000\",\"#008000\",\"#008000\",\"#008000\",\"#008000\",\"#008000\",\"#008000\",\"#008000\",\"#008000\",\"#008000\",\"#008000\",\"#008000\",\"#008000\",\"#008000\",\"#008000\",\"#008000\",\"#008000\",\"#008000\",\"#008000\",\"#008000\",\"#008000\",\"#008000\",\"#008000\",\"#008000\",\"#008000\",\"#008000\",\"#008000\",\"#008000\",\"#008000\",\"#008000\",\"#008000\",\"#008000\",\"#008000\",\"#008000\",\"#008000\",\"#008000\",\"#008000\",\"#008000\",\"#008000\",\"#008000\",\"#008000\",\"#008000\",\"#008000\",\"#008000\",\"#008000\",\"#008000\",\"#008000\",\"#008000\",\"#008000\",\"#008000\",\"#008000\",\"#008000\",\"#008000\",\"#008000\",\"#008000\",\"#008000\",\"#008000\",\"#008000\",\"#008000\",\"#008000\",\"#008000\",\"#008000\",\"#008000\",\"#008000\",\"#008000\",\"#008000\",\"#008000\",\"#008000\",\"#008000\",\"#008000\",\"#008000\",\"#008000\",\"#008000\",\"#008000\",\"#008000\",\"#008000\",\"#008000\",\"#008000\",\"#008000\",\"#008000\",\"#008000\",\"#008000\",\"#008000\",\"#008000\",\"#008000\",\"#008000\",\"#008000\",\"#008000\",\"#008000\",\"#008000\",\"#008000\",\"#008000\",\"#008000\",\"#008000\",\"#008000\",\"#008000\",\"#008000\",\"#008000\",\"#008000\",\"#008000\",\"#008000\",\"#008000\",\"#008000\",\"#008000\",\"#008000\",\"#008000\",\"#008000\",\"#008000\",\"#008000\",\"#008000\",\"#008000\",\"#008000\",\"#008000\",\"#008000\",\"#008000\",\"#008000\",\"#008000\",\"#008000\",\"#008000\",\"#008000\",\"#008000\",\"#008000\",\"#008000\",\"#008000\",\"#008000\",\"#008000\",\"#008000\",\"#008000\",\"#008000\",\"#008000\",\"#008000\",\"#008000\",\"#008000\",\"#008000\",\"#008000\",\"#008000\",\"#008000\",\"#008000\",\"#008000\",\"#008000\",\"#008000\",\"#008000\",\"#008000\",\"#008000\",\"#008000\",\"#008000\",\"#008000\",\"#008000\",\"#008000\",\"#008000\",\"#008000\",\"#008000\",\"#008000\",\"#008000\",\"#008000\",\"#008000\",\"#008000\",\"#008000\",\"#008000\",\"#008000\",\"#008000\",\"#008000\",\"#008000\",\"#008000\",\"#008000\",\"#008000\",\"#008000\",\"#008000\",\"#008000\",\"#008000\",\"#008000\",\"#008000\",\"#008000\",\"#008000\",\"#008000\",\"#008000\",\"#008000\",\"#008000\",\"#008000\",\"#008000\",\"#008000\",\"#008000\",\"#008000\",\"#008000\",\"#008000\",\"#008000\",\"#008000\",\"#008000\",\"#008000\",\"#008000\",\"#008000\",\"#008000\",\"#008000\",\"#008000\",\"#008000\",\"#008000\",\"#008000\",\"#008000\",\"#008000\",\"#008000\",\"#008000\",\"#008000\",\"#008000\",\"#008000\",\"#008000\",\"#008000\",\"#008000\",\"#008000\",\"#008000\",\"#008000\",\"#008000\",\"#008000\",\"#008000\",\"#008000\",\"#008000\",\"#008000\",\"#008000\",\"#008000\",\"#008000\",\"#008000\",\"#008000\",\"#008000\",\"#008000\",\"#008000\",\"#008000\",\"#008000\",\"#008000\",\"#008000\",\"#008000\",\"#008000\",\"#008000\",\"#008000\",\"#008000\",\"#008000\",\"#008000\",\"#008000\",\"#008000\",\"#008000\",\"#008000\",\"#008000\",\"#008000\",\"#008000\",\"#008000\",\"#008000\",\"#008000\",\"#008000\",\"#008000\",\"#008000\",\"#008000\",\"#008000\",\"#008000\",\"#008000\",\"#008000\",\"#008000\",\"#008000\",\"#008000\",\"#008000\",\"#008000\",\"#008000\",\"#008000\",\"#008000\",\"#008000\",\"#008000\",\"#008000\",\"#008000\",\"#008000\",\"#008000\",\"#008000\",\"#008000\",\"#008000\",\"#008000\",\"#008000\",\"#008000\",\"#008000\",\"#008000\",\"#008000\",\"#008000\",\"#008000\",\"#FFA500\",\"#FFA500\",\"#FFA500\",\"#FFA500\",\"#FFA500\",\"#FFA500\",\"#FFA500\",\"#FFA500\",\"#FFA500\",\"#FFA500\",\"#FFA500\",\"#FFA500\",\"#FFA500\",\"#FFA500\",\"#FFA500\",\"#FFA500\",\"#FFA500\",\"#FFA500\",\"#FFA500\",\"#FFA500\",\"#FFA500\",\"#FFA500\",\"#FFA500\",\"#FFA500\",\"#FFA500\",\"#FFA500\",\"#FFA500\",\"#FFA500\",\"#FFA500\",\"#FFA500\",\"#FFA500\",\"#FFA500\",\"#FFA500\",\"#FFA500\",\"#FFA500\",\"#FFA500\",\"#FFA500\",\"#FFA500\",\"#FFA500\",\"#FFA500\",\"#FFA500\",\"#FFA500\",\"#FFA500\",\"#FFA500\",\"#FFA500\",\"#FFA500\",\"#FFA500\",\"#FFA500\",\"#FFA500\",\"#FFA500\",\"#FFA500\",\"#FFA500\",\"#FFA500\",\"#FFA500\",\"#FFA500\",\"#FFA500\",\"#FFA500\",\"#FFA500\",\"#FFA500\",\"#FFA500\",\"#FFA500\",\"#FFA500\",\"#FFA500\",\"#FFA500\",\"#FFA500\",\"#FFA500\",\"#FFA500\",\"#FFA500\",\"#FFA500\",\"#FFA500\",\"#FFA500\",\"#FFA500\",\"#FFA500\",\"#FFA500\",\"#FFA500\",\"#FFA500\",\"#FFA500\",\"#FFA500\",\"#FFA500\",\"#FFA500\",\"#FFA500\",\"#FFA500\",\"#FFA500\",\"#FFA500\",\"#FFA500\",\"#FFA500\",\"#FFA500\",\"#FFA500\",\"#FFA500\",\"#FFA500\",\"#FFA500\",\"#FFA500\",\"#FFA500\",\"#FFA500\",\"#FFA500\",\"#FFA500\",\"#FFA500\",\"#FFA500\",\"#FFA500\",\"#FFA500\",\"#FFA500\",\"#FFA500\",\"#FFA500\",\"#FFA500\",\"#FFA500\",\"#FFA500\",\"#FFA500\",\"#FFA500\",\"#FFA500\",\"#FFA500\",\"#FFA500\",\"#FFA500\",\"#FFA500\",\"#FFA500\",\"#FFA500\",\"#FFA500\",\"#FFA500\",\"#FFA500\",\"#FFA500\",\"#FFA500\",\"#FFA500\",\"#FFA500\",\"#FFA500\",\"#FFA500\",\"#FFA500\",\"#FFA500\",\"#FFA500\",\"#FFA500\",\"#FFA500\",\"#FFA500\",\"#FFA500\",\"#FFA500\",\"#FFA500\",\"#FFA500\",\"#FFA500\",\"#FFA500\",\"#FFA500\",\"#FFA500\",\"#FFA500\",\"#FFA500\",\"#FFA500\",\"#FFA500\",\"#FFA500\",\"#FFA500\",\"#FFA500\",\"#FFA500\",\"#FFA500\",\"#FFA500\",\"#FFA500\",\"#FFA500\",\"#FFA500\",\"#FFA500\",\"#FFA500\",\"#FFA500\",\"#FFA500\",\"#FFA500\",\"#FFA500\",\"#FFA500\",\"#FFA500\",\"#FFA500\",\"#FFA500\",\"#FFA500\",\"#FFA500\",\"#FFA500\",\"#FFA500\",\"#FFA500\",\"#FFA500\",\"#FFA500\",\"#FFA500\",\"#FFA500\",\"#FFA500\",\"#FFA500\",\"#FFA500\",\"#FFA500\",\"#FFA500\",\"#FFA500\",\"#FFA500\",\"#FFA500\",\"#FFA500\",\"#FFA500\",\"#FFA500\",\"#FFA500\",\"#FFA500\",\"#FFA500\",\"#FFA500\",\"#FFA500\",\"#FFA500\",\"#FFA500\",\"#FFA500\",\"#FFA500\",\"#FFA500\",\"#FFA500\",\"#FFA500\",\"#FFA500\",\"#FFA500\",\"#FFA500\",\"#FFA500\",\"#FFA500\",\"#FFA500\",\"#FFA500\",\"#FFA500\",\"#FFA500\",\"#FFA500\",\"#FFA500\",\"#FFA500\",\"#FFA500\",\"#FFA500\",\"#FFA500\",\"#FFA500\",\"#FFA500\",\"#FFA500\",\"#FFA500\",\"#FFA500\",\"#FFA500\",\"#FFA500\",\"#FFA500\",\"#FFA500\",\"#FFA500\",\"#FFA500\",\"#FFA500\",\"#FFA500\",\"#FFA500\",\"#FFA500\",\"#FFA500\",\"#FFA500\",\"#FFA500\",\"#FFA500\",\"#FFA500\",\"#FFA500\",\"#FFA500\",\"#FFA500\",\"#FFA500\",\"#FFA500\",\"#FFA500\",\"#FFA500\",\"#FFA500\",\"#FFA500\",\"#FFA500\",\"#FFA500\",\"#FFA500\",\"#FFA500\",\"#FFA500\",\"#FFA500\",\"#FFA500\",\"#FFA500\",\"#FFA500\",\"#FFA500\",\"#FFA500\",\"#FFA500\",\"#FFA500\",\"#FFA500\",\"#FFA500\",\"#FFA500\",\"#FFA500\",\"#FFA500\",\"#FFA500\",\"#FFA500\",\"#FFA500\",\"#FFA500\",\"#FFA500\",\"#FFA500\",\"#FFA500\",\"#FFA500\",\"#FFA500\",\"#FFA500\",\"#FFA500\",\"#FFA500\",\"#FFA500\",\"#FFA500\",\"#FFA500\",\"#FFA500\",\"#FFA500\",\"#FFA500\",\"#FFA500\",\"#FFA500\",\"#FFA500\",\"#FFA500\",\"#FFA500\",\"#FFA500\",\"#FFA500\",\"#FFA500\",\"#FFA500\",\"#FFA500\",\"#FFA500\",\"#FFA500\",\"#FFA500\",\"#FFA500\",\"#FFA500\",\"#FFA500\",\"#FFA500\",\"#FFA500\",\"#FFA500\",\"#FFA500\",\"#FFA500\",\"#FFA500\",\"#FFA500\",\"#FFA500\",\"#FFA500\",\"#FFA500\",\"#FFA500\",\"#FFA500\",\"#FFA500\",\"#FFA500\",\"#FFA500\",\"#FFA500\",\"#FFA500\",\"#FFA500\",\"#FFA500\",\"#FFA500\",\"#FFA500\",\"#FFA500\",\"#FFA500\",\"#FFA500\",\"#FFA500\",\"#FFA500\",\"#FFA500\",\"#FFA500\",\"#FFA500\",\"#FFA500\",\"#FFA500\",\"#FFA500\",\"#FFA500\",\"#FFA500\",\"#FFA500\",\"#FFA500\",\"#FFA500\",\"#FFA500\",\"#FFA500\",\"#FFA500\",\"#FFA500\",\"#FFA500\",\"#FFA500\",\"#FFA500\",\"#FFA500\",\"#FFA500\",\"#FFA500\",\"#FFA500\",\"#FFA500\",\"#FFA500\",\"#FFA500\",\"#FFA500\",\"#FFA500\",\"#FFA500\",\"#FFA500\",\"#FFA500\",\"#FFA500\",\"#FFA500\",\"#FFA500\",\"#FFA500\",\"#FFA500\",\"#FFA500\",\"#FFA500\",\"#FFA500\",\"#FFA500\",\"#FFA500\",\"#FFA500\",\"#FFA500\",\"#FFA500\",\"#FFA500\",\"#FFA500\",\"#FFA500\",\"#FFA500\",\"#FFA500\",\"#FFA500\",\"#FFA500\",\"#FFA500\",\"#FFA500\",\"#FFA500\",\"#FFA500\",\"#FFA500\",\"#FFA500\",\"#FFA500\",\"#FFA500\",\"#FFA500\",\"#FFA500\",\"#FFA500\",\"#FFA500\",\"#FFA500\",\"#FFA500\",\"#FFA500\",\"#FFA500\",\"#FFA500\",\"#FFA500\",\"#FFA500\",\"#FFA500\",\"#FFA500\",\"#FFA500\",\"#FFA500\",\"#FFA500\",\"#FFA500\",\"#FFA500\",\"#FFA500\",\"#FFA500\",\"#FFA500\",\"#FFA500\",\"#FFA500\",\"#FFA500\",\"#FFA500\",\"#FFA500\",\"#FFA500\",\"#FFA500\",\"#FFA500\",\"#FFA500\",\"#FFA500\",\"#FFA500\",\"#FFA500\",\"#FFA500\",\"#FFA500\",\"#FFA500\",\"#FFA500\",\"#FFA500\",\"#FFA500\",\"#FFA500\",\"#FFA500\",\"#FFA500\",\"#FFA500\",\"#FFA500\",\"#FFA500\",\"#FFA500\",\"#FFA500\",\"#FFA500\",\"#FFA500\",\"#FFA500\",\"#FFA500\",\"#FFA500\",\"#FFA500\",\"#FFA500\",\"#FFA500\",\"#FFA500\",\"#FFA500\",\"#FFA500\",\"#FFA500\",\"#FFA500\",\"#FFA500\",\"#FFA500\",\"#FFA500\",\"#FFA500\",\"#FFA500\",\"#FFA500\",\"#FFA500\",\"#FFA500\",\"#FFA500\",\"#FFA500\",\"#FFA500\",\"#FFA500\",\"#FFA500\",\"#FFA500\",\"#FFA500\",\"#FFA500\",\"#FFA500\",\"#FFA500\",\"#FFA500\",\"#FFA500\",\"#FFA500\",\"#FFA500\",\"#FFA500\",\"#FFA500\",\"#FFA500\",\"#FFA500\",\"#FFA500\",\"#FFA500\",\"#FFA500\",\"#FFA500\",\"#FFA500\",\"#FFA500\",\"#FFA500\",\"#FFA500\",\"#FFA500\",\"#FFA500\",\"#FFA500\",\"#FFA500\",\"#FFA500\",\"#FFA500\",\"#FFA500\",\"#FFA500\",\"#FFA500\",\"#FFA500\",\"#FFA500\",\"#FFA500\",\"#FFA500\",\"#FFA500\",\"#FFA500\",\"#FFA500\",\"#FFA500\",\"#FFA500\",\"#FFA500\",\"#FFA500\",\"#FFA500\",\"#FFA500\",\"#FFA500\",\"#FFA500\",\"#FFA500\",\"#FFA500\",\"#FFA500\",\"#FFA500\",\"#FFA500\",\"#FFA500\",\"#FFA500\",\"#FFA500\",\"#FFA500\",\"#FFA500\",\"#FFA500\",\"#FFA500\",\"#FFA500\",\"#FFA500\",\"#FFA500\",\"#FFA500\",\"#FFA500\",\"#FFA500\",\"#FFA500\",\"#FFA500\",\"#FFA500\",\"#FFA500\",\"#FFA500\",\"#FFA500\",\"#FFA500\",\"#FFA500\",\"#FFA500\",\"#FFA500\",\"#FFA500\",\"#FFA500\",\"#FFA500\",\"#FFA500\",\"#FFA500\",\"#FFA500\",\"#FFA500\",\"#FFA500\",\"#FFA500\",\"#FFA500\",\"#FFA500\",\"#FFA500\",\"#FFA500\",\"#FFA500\",\"#FFA500\",\"#FFA500\",\"#FFA500\",\"#FFA500\",\"#FFA500\",\"#FFA500\",\"#FFA500\",\"#FFA500\",\"#FFA500\",\"#FFA500\",\"#FFA500\",\"#FFA500\",\"#FFA500\",\"#FFA500\",\"#FFA500\",\"#FFA500\",\"#FFA500\",\"#FFA500\",\"#FFA500\",\"#FFA500\",\"#FFA500\",\"#FFA500\",\"#FFA500\",\"#FFA500\",\"#FFA500\",\"#FFA500\",\"#FFA500\",\"#FFA500\",\"#FFA500\",\"#FFA500\",\"#FFA500\",\"#FFA500\",\"#FFA500\",\"#FFA500\",\"#FFA500\",\"#FFA500\",\"#FFA500\",\"#FFA500\",\"#FFA500\",\"#FFA500\",\"#FFA500\",\"#FFA500\",\"#FFA500\",\"#FFA500\",\"#FFA500\",\"#FFA500\",\"#FFA500\",\"#FFA500\",\"#FFA500\",\"#FFA500\",\"#FFA500\",\"#FFA500\",\"#FFA500\",\"#FFA500\",\"#FFA500\",\"#FFA500\",\"#FFA500\",\"#FFA500\",\"#FFA500\",\"#FFA500\",\"#FFA500\",\"#FFA500\",\"#FFA500\",\"#FFA500\",\"#FFA500\",\"#FFA500\",\"#FFA500\",\"#FFA500\",\"#FFA500\",\"#FFA500\",\"#FFA500\",\"#FFA500\",\"#FFA500\",\"#FFA500\",\"#FFA500\",\"#FFA500\",\"#FFA500\",\"#FFA500\",\"#FFA500\",\"#FFA500\",\"#FFA500\",\"#FFA500\",\"#FFA500\",\"#FFA500\",\"#FFA500\",\"#FFA500\",\"#FFA500\",\"#FFA500\",\"#FFA500\",\"#FFA500\",\"#FFA500\",\"#FFA500\",\"#FFA500\",\"#FFA500\",\"#FFA500\",\"#FFA500\",\"#FFA500\",\"#FFA500\",\"#FFA500\",\"#FFA500\",\"#FFA500\",\"#FFA500\",\"#FFA500\",\"#FFA500\",\"#FFA500\",\"#FFA500\",\"#FFA500\",\"#FFA500\",\"#FFA500\",\"#FFA500\",\"#FFA500\",\"#FFA500\",\"#FFA500\",\"#FFA500\",\"#FFA500\",\"#FFA500\",\"#FFA500\",\"#FFA500\",\"#FFA500\",\"#FFA500\",\"#FFA500\",\"#FFA500\",\"#FFA500\",\"#FFA500\",\"#FFA500\",\"#FFA500\",\"#FFA500\",\"#FFA500\",\"#FFA500\",\"#FFA500\",\"#FFA500\",\"#FFA500\",\"#FFA500\",\"#FFA500\",\"#FFA500\",\"#FFA500\",\"#FFA500\",\"#FFA500\",\"#FFA500\",\"#FFA500\",\"#FFA500\",\"#FFA500\",\"#FFA500\",\"#FFA500\",\"#FFA500\",\"#FFA500\",\"#FFA500\",\"#FFA500\",\"#FFA500\",\"#FFA500\",\"#FFA500\",\"#FFA500\",\"#FFA500\",\"#FFA500\",\"#FFA500\",\"#FFA500\",\"#FFA500\",\"#FFA500\",\"#FFA500\",\"#FFA500\",\"#FFA500\",\"#FFA500\",\"#FFA500\",\"#FFA500\",\"#FFA500\",\"#FFA500\",\"#FFA500\",\"#FFA500\",\"#FFA500\",\"#FFA500\",\"#FFA500\",\"#FFA500\",\"#FFA500\",\"#FFA500\",\"#FFA500\",\"#FFA500\",\"#FFA500\",\"#FFA500\",\"#FFA500\",\"#FFA500\",\"#FFA500\",\"#FFA500\",\"#FFA500\",\"#FFA500\",\"#FFA500\",\"#FFA500\",\"#FFA500\",\"#FFA500\",\"#FFA500\",\"#FFA500\",\"#FFA500\",\"#FFA500\",\"#FFA500\",\"#FFA500\",\"#FFA500\",\"#FFA500\",\"#FFA500\",\"#FFA500\",\"#FFA500\",\"#FFA500\",\"#FFA500\",\"#FFA500\",\"#FFA500\",\"#FFA500\",\"#FFA500\",\"#FFA500\",\"#FFA500\",\"#FFA500\",\"#FFA500\",\"#FFA500\",\"#FFA500\",\"#FFA500\",\"#FFA500\",\"#FFA500\",\"#FFA500\",\"#FFA500\",\"#FFA500\",\"#FFA500\",\"#FFA500\",\"#FFA500\",\"#FFA500\",\"#FFA500\",\"#FFA500\",\"#FFA500\",\"#FFA500\",\"#FFA500\",\"#FFA500\",\"#FFA500\",\"#FFA500\",\"#FFA500\",\"#FFA500\",\"#FFA500\",\"#FFA500\",\"#FFA500\",\"#FFA500\",\"#FFA500\",\"#FFA500\",\"#FFA500\",\"#FFA500\",\"#FFA500\",\"#FFA500\",\"#FFA500\",\"#FFA500\",\"#FFA500\",\"#FFA500\",\"#FFA500\",\"#FFA500\",\"#FFA500\",\"#FFA500\",\"#FFA500\",\"#FFA500\",\"#FFA500\",\"#FFA500\",\"#FFA500\",\"#FFA500\",\"#FFA500\",\"#FFA500\",\"#FFA500\",\"#FFA500\",\"#FFA500\",\"#FFA500\",\"#FFA500\",\"#FFA500\",\"#FFA500\",\"#FFA500\",\"#FFA500\",\"#FFA500\",\"#FFA500\",\"#FFA500\",\"#FFA500\",\"#FFA500\",\"#FFA500\",\"#FFA500\",\"#FFA500\",\"#FFA500\",\"#FFA500\",\"#FFA500\",\"#FFA500\",\"#FFA500\",\"#FFA500\",\"#FFA500\",\"#FFA500\",\"#FFA500\",\"#FFA500\",\"#FFA500\",\"#FFA500\",\"#FFA500\",\"#FFA500\",\"#FFA500\",\"#FFA500\",\"#FFA500\",\"#FFA500\",\"#FFA500\",\"#FFA500\",\"#FFA500\",\"#FFA500\",\"#FFA500\",\"#FFA500\",\"#FFA500\",\"#FFA500\",\"#FFA500\",\"#FFA500\",\"#FFA500\",\"#FFA500\",\"#FFA500\",\"#FFA500\",\"#FFA500\",\"#FFA500\",\"#FFA500\",\"#FFA500\",\"#FFA500\",\"#FFA500\",\"#FFA500\",\"#FFA500\",\"#FFA500\",\"#FFA500\",\"#FFA500\",\"#FFA500\",\"#FFA500\",\"#FFA500\",\"#FFA500\",\"#FFA500\",\"#FFA500\",\"#FFA500\",\"#FFA500\",\"#FFA500\",\"#FFA500\",\"#FFA500\",\"#FFA500\",\"#FFA500\",\"#FFA500\",\"#FFA500\",\"#FFA500\",\"#FFA500\",\"#FFA500\",\"#FFA500\",\"#FFA500\",\"#FFA500\",\"#FFA500\",\"#FFA500\",\"#FFA500\",\"#FFA500\",\"#FFA500\",\"#FFA500\",\"#FFA500\",\"#FFA500\",\"#FFA500\",\"#FFA500\",\"#FFA500\",\"#FFA500\",\"#FFA500\",\"#FFA500\",\"#FFA500\",\"#FFA500\",\"#FFA500\",\"#FFA500\",\"#FFA500\",\"#FFA500\",\"#FFA500\",\"#FFA500\",\"#FFA500\",\"#FFA500\",\"#FFA500\",\"#FFA500\",\"#FFA500\",\"#FFA500\",\"#FFA500\",\"#FFA500\",\"#FFA500\",\"#FFA500\",\"#FFA500\",\"#FFA500\",\"#FFA500\",\"#FFA500\",\"#FFA500\",\"#FFA500\",\"#FFA500\",\"#FFA500\",\"#FFA500\",\"#FFA500\",\"#FFA500\",\"#FFA500\",\"#FFA500\",\"#FFA500\",\"#FFA500\",\"#FFA500\",\"#FFA500\",\"#FFA500\",\"#FFA500\",\"#FFA500\",\"#FFA500\",\"#FFA500\",\"#FFA500\",\"#FFA500\",\"#FFA500\",\"#FFA500\",\"#FFA500\",\"#FFA500\",\"#FFA500\",\"#FFA500\",\"#FFA500\",\"#FFA500\",\"#FFA500\",\"#FFA500\",\"#FFA500\",\"#FFA500\",\"#FFA500\",\"#FFA500\",\"#FFA500\",\"#FFA500\",\"#FFA500\",\"#FFA500\",\"#FFA500\",\"#FFA500\",\"#FFA500\",\"#FFA500\",\"#FFA500\",\"#FFA500\",\"#FFA500\",\"#FFA500\",\"#FFA500\",\"#FFA500\",\"#FFA500\",\"#FFA500\",\"#FFA500\",\"#FFA500\",\"#FFA500\",\"#FFA500\",\"#FFA500\",\"#FFA500\",\"#FFA500\",\"#FFA500\",\"#FFA500\",\"#FFA500\",\"#FFA500\",\"#FFA500\",\"#FFA500\",\"#FFA500\",\"#FFA500\",\"#FFA500\",\"#FFA500\",\"#FFA500\",\"#FFA500\",\"#FFA500\",\"#FFA500\",\"#FFA500\",\"#FFA500\",\"#FFA500\",\"#FFA500\",\"#FFA500\",\"#FFA500\",\"#FFA500\",\"#FFA500\",\"#FFA500\",\"#FFA500\",\"#FFA500\",\"#FFA500\",\"#FFA500\",\"#FFA500\",\"#FFA500\",\"#FFA500\",\"#FFA500\",\"#FFA500\",\"#FFA500\",\"#FFA500\",\"#FFA500\",\"#FFA500\",\"#FFA500\",\"#FFA500\",\"#FFA500\",\"#FFA500\",\"#FFA500\",\"#FFA500\",\"#FFA500\",\"#FFA500\",\"#FFA500\",\"#FFA500\",\"#FFA500\",\"#FFA500\",\"#FFA500\",\"#FFA500\",\"#FFA500\",\"#FFA500\",\"#FFA500\",\"#FFA500\",\"#FFA500\",\"#FFA500\",\"#FFA500\",\"#FFA500\",\"#FFA500\",\"#FFA500\",\"#FFA500\",\"#FFA500\",\"#FFA500\",\"#FFA500\",\"#FFA500\",\"#FFA500\",\"#FFA500\",\"#FFA500\",\"#FFA500\",\"#FFA500\",\"#FFA500\",\"#FFA500\",\"#FFA500\",\"#FFA500\",\"#FFA500\",\"#FFA500\",\"#FFA500\",\"#FFA500\",\"#FFA500\",\"#FFA500\",\"#FFA500\",\"#FFA500\",\"#FFA500\",\"#FFA500\",\"#FFA500\",\"#FFA500\",\"#FFA500\",\"#FFA500\",\"#FFA500\",\"#FFA500\",\"#FFA500\",\"#FFA500\",\"#FFA500\",\"#FFA500\",\"#FFA500\",\"#FFA500\",\"#FFA500\",\"#FFA500\",\"#FFA500\",\"#FFA500\",\"#FFA500\",\"#FFA500\",\"#FFA500\",\"#FFA500\",\"#FFA500\",\"#FFA500\",\"#FFA500\",\"#FFA500\",\"#FFA500\",\"#FFA500\",\"#FFA500\",\"#FFA500\",\"#FFA500\",\"#FFA500\",\"#FFA500\",\"#FFA500\",\"#FFA500\",\"#FFA500\",\"#FFA500\",\"#FFA500\",\"#FFA500\",\"#FFA500\",\"#FFA500\",\"#FFA500\",\"#FFA500\",\"#FFA500\",\"#FFA500\",\"#FFA500\",\"#FFA500\",\"#FFA500\",\"#FFA500\",\"#FFA500\",\"#FFA500\",\"#FFA500\",\"#FFA500\",\"#FFA500\",\"#FFA500\",\"#FFA500\",\"#FFA500\",\"#FFA500\",\"#FFA500\",\"#FFA500\",\"#FFA500\",\"#FFA500\",\"#FFA500\",\"#FFA500\",\"#FFA500\",\"#FFA500\",\"#FFA500\",\"#FFA500\",\"#FFA500\",\"#FFA500\",\"#FFA500\",\"#FFA500\",\"#FFA500\",\"#FFA500\",\"#FFA500\",\"#FFA500\",\"#FFA500\",\"#FFA500\",\"#FFA500\",\"#FFA500\",\"#FFA500\",\"#FFA500\",\"#FFA500\",\"#FFA500\",\"#FFA500\",\"#FFA500\",\"#FFA500\",\"#FFA500\",\"#FFA500\",\"#FFA500\",\"#FFA500\",\"#FFA500\",\"#FFA500\",\"#FFA500\",\"#FFA500\",\"#FFA500\",\"#FFA500\",\"#FFA500\",\"#FFA500\",\"#FFA500\",\"#FFA500\",\"#FFA500\",\"#FFA500\",\"#FFA500\",\"#FFA500\",\"#FFA500\",\"#FFA500\",\"#FFA500\",\"#FFA500\",\"#FFA500\",\"#FFA500\",\"#FFA500\",\"#FFA500\",\"#FFA500\",\"#FFA500\",\"#FFA500\",\"#FFA500\",\"#FFA500\",\"#FFA500\",\"#FFA500\",\"#FFA500\",\"#FFA500\",\"#FFA500\",\"#FFA500\",\"#FFA500\",\"#FFA500\",\"#FFA500\",\"#FFA500\",\"#FFA500\",\"#FFA500\",\"#FFA500\",\"#FFA500\",\"#FFA500\",\"#FFA500\",\"#FFA500\",\"#FFA500\",\"#FFA500\",\"#FFA500\",\"#FFA500\",\"#FFA500\",\"#FFA500\",\"#FFA500\",\"#FFA500\",\"#FFA500\",\"#FFA500\",\"#FFA500\",\"#FFA500\",\"#FFA500\",\"#FFA500\",\"#FFA500\",\"#FFA500\",\"#FFA500\",\"#FFA500\",\"#FFA500\",\"#FFA500\",\"#FFA500\",\"#FFA500\",\"#FFA500\",\"#FFA500\",\"#FFA500\",\"#FFA500\",\"#FFA500\",\"#FFA500\",\"#FFA500\",\"#FFA500\",\"#FFA500\",\"#FFA500\",\"#FFA500\",\"#FFA500\",\"#FFA500\",\"#FFA500\",\"#FFA500\",\"#FFA500\",\"#FFA500\",\"#FFA500\",\"#FFA500\",\"#FFA500\",\"#FFA500\",\"#FFA500\",\"#FFA500\",\"#FFA500\",\"#FFA500\",\"#FFA500\",\"#FFA500\",\"#FFA500\",\"#FFA500\",\"#FFA500\",\"#FFA500\",\"#FFA500\",\"#FFA500\",\"#FFA500\",\"#FFA500\",\"#FFA500\",\"#FFA500\",\"#FFA500\",\"#FFA500\",\"#FFA500\",\"#FFA500\",\"#FFA500\",\"#FFA500\",\"#FFA500\",\"#FFA500\",\"#FFA500\",\"#FFA500\",\"#FFA500\",\"#FFA500\",\"#FFA500\",\"#FFA500\",\"#FFA500\",\"#FFA500\",\"#FFA500\",\"#FFA500\",\"#FFA500\",\"#FFA500\",\"#FFA500\",\"#FFA500\",\"#FFA500\",\"#FFA500\",\"#FFA500\",\"#FFA500\",\"#FFA500\",\"#FFA500\",\"#FFA500\",\"#FFA500\",\"#FFA500\",\"#FFA500\",\"#FFA500\",\"#FFA500\",\"#FFA500\",\"#FFA500\",\"#FFA500\",\"#FFA500\",\"#FFA500\",\"#FFA500\",\"#FFA500\",\"#FFA500\",\"#FFA500\",\"#FFA500\",\"#FFA500\",\"#FFA500\",\"#FFA500\",\"#FFA500\",\"#FFA500\",\"#FFA500\",\"#0000FF\",\"#0000FF\",\"#0000FF\",\"#0000FF\",\"#0000FF\",\"#0000FF\",\"#0000FF\",\"#0000FF\",\"#0000FF\",\"#0000FF\",\"#0000FF\",\"#0000FF\",\"#0000FF\",\"#0000FF\",\"#0000FF\",\"#0000FF\",\"#0000FF\",\"#0000FF\",\"#0000FF\",\"#0000FF\",\"#0000FF\",\"#0000FF\",\"#0000FF\",\"#0000FF\",\"#0000FF\",\"#0000FF\",\"#0000FF\",\"#0000FF\",\"#0000FF\",\"#0000FF\",\"#0000FF\",\"#0000FF\",\"#0000FF\",\"#0000FF\",\"#0000FF\",\"#0000FF\",\"#0000FF\",\"#0000FF\",\"#0000FF\",\"#0000FF\",\"#0000FF\",\"#0000FF\",\"#0000FF\",\"#0000FF\",\"#0000FF\",\"#0000FF\",\"#0000FF\",\"#0000FF\",\"#0000FF\",\"#0000FF\",\"#0000FF\",\"#0000FF\",\"#0000FF\",\"#0000FF\",\"#0000FF\",\"#0000FF\",\"#0000FF\",\"#0000FF\",\"#0000FF\",\"#0000FF\",\"#0000FF\",\"#0000FF\",\"#0000FF\",\"#0000FF\",\"#0000FF\",\"#0000FF\",\"#0000FF\",\"#0000FF\",\"#0000FF\",\"#0000FF\",\"#0000FF\",\"#0000FF\",\"#0000FF\",\"#0000FF\",\"#0000FF\",\"#0000FF\",\"#0000FF\",\"#0000FF\",\"#0000FF\",\"#0000FF\",\"#0000FF\",\"#0000FF\",\"#0000FF\",\"#0000FF\",\"#0000FF\",\"#0000FF\",\"#0000FF\",\"#0000FF\",\"#0000FF\",\"#0000FF\",\"#0000FF\",\"#0000FF\",\"#0000FF\",\"#0000FF\",\"#0000FF\",\"#0000FF\",\"#0000FF\",\"#0000FF\",\"#0000FF\",\"#0000FF\",\"#0000FF\",\"#0000FF\",\"#0000FF\",\"#0000FF\",\"#0000FF\",\"#0000FF\",\"#0000FF\",\"#0000FF\",\"#0000FF\",\"#0000FF\",\"#0000FF\",\"#0000FF\",\"#0000FF\",\"#0000FF\",\"#0000FF\",\"#0000FF\",\"#0000FF\",\"#0000FF\",\"#0000FF\",\"#0000FF\",\"#0000FF\",\"#0000FF\",\"#0000FF\",\"#0000FF\",\"#0000FF\",\"#0000FF\",\"#0000FF\",\"#0000FF\",\"#0000FF\",\"#0000FF\",\"#0000FF\",\"#0000FF\",\"#0000FF\",\"#0000FF\",\"#0000FF\",\"#0000FF\",\"#0000FF\",\"#0000FF\",\"#0000FF\",\"#0000FF\",\"#0000FF\",\"#0000FF\",\"#0000FF\",\"#0000FF\",\"#0000FF\",\"#0000FF\",\"#0000FF\",\"#0000FF\",\"#0000FF\",\"#0000FF\",\"#0000FF\",\"#0000FF\",\"#0000FF\",\"#0000FF\",\"#0000FF\",\"#0000FF\",\"#0000FF\",\"#0000FF\",\"#0000FF\",\"#0000FF\",\"#0000FF\",\"#0000FF\",\"#0000FF\",\"#0000FF\",\"#0000FF\",\"#0000FF\",\"#0000FF\",\"#0000FF\",\"#0000FF\",\"#0000FF\",\"#0000FF\",\"#0000FF\",\"#0000FF\",\"#0000FF\",\"#0000FF\",\"#0000FF\",\"#0000FF\",\"#0000FF\",\"#0000FF\",\"#0000FF\",\"#0000FF\",\"#0000FF\",\"#0000FF\",\"#0000FF\",\"#0000FF\",\"#0000FF\",\"#0000FF\",\"#0000FF\",\"#0000FF\",\"#0000FF\",\"#0000FF\",\"#0000FF\",\"#0000FF\",\"#0000FF\",\"#0000FF\",\"#0000FF\",\"#0000FF\",\"#0000FF\",\"#0000FF\",\"#0000FF\",\"#0000FF\",\"#0000FF\",\"#0000FF\",\"#0000FF\",\"#0000FF\",\"#0000FF\",\"#0000FF\",\"#0000FF\",\"#0000FF\",\"#0000FF\",\"#0000FF\",\"#0000FF\",\"#0000FF\",\"#0000FF\",\"#0000FF\",\"#0000FF\",\"#0000FF\",\"#0000FF\",\"#0000FF\",\"#0000FF\",\"#0000FF\",\"#0000FF\",\"#0000FF\",\"#0000FF\",\"#0000FF\",\"#0000FF\",\"#0000FF\",\"#0000FF\",\"#0000FF\",\"#0000FF\",\"#0000FF\",\"#0000FF\",\"#0000FF\",\"#0000FF\",\"#0000FF\",\"#0000FF\",\"#0000FF\",\"#0000FF\",\"#0000FF\",\"#0000FF\",\"#0000FF\",\"#0000FF\",\"#0000FF\",\"#0000FF\",\"#0000FF\",\"#0000FF\",\"#0000FF\",\"#0000FF\",\"#0000FF\",\"#0000FF\",\"#0000FF\",\"#0000FF\",\"#0000FF\",\"#0000FF\",\"#0000FF\",\"#0000FF\",\"#0000FF\",\"#0000FF\",\"#0000FF\",\"#0000FF\",\"#0000FF\",\"#0000FF\",\"#0000FF\",\"#0000FF\",\"#0000FF\",\"#0000FF\",\"#0000FF\",\"#0000FF\",\"#0000FF\",\"#0000FF\",\"#0000FF\",\"#0000FF\",\"#0000FF\",\"#0000FF\",\"#0000FF\",\"#0000FF\",\"#0000FF\",\"#0000FF\",\"#0000FF\",\"#0000FF\",\"#0000FF\",\"#0000FF\",\"#0000FF\",\"#0000FF\",\"#0000FF\",\"#0000FF\",\"#0000FF\",\"#0000FF\",\"#0000FF\",\"#0000FF\",\"#0000FF\",\"#0000FF\",\"#0000FF\",\"#0000FF\",\"#0000FF\",\"#0000FF\",\"#0000FF\",\"#0000FF\",\"#0000FF\",\"#0000FF\",\"#0000FF\",\"#0000FF\",\"#0000FF\",\"#0000FF\",\"#0000FF\",\"#0000FF\",\"#0000FF\",\"#0000FF\",\"#0000FF\",\"#0000FF\",\"#0000FF\",\"#0000FF\",\"#0000FF\",\"#0000FF\",\"#0000FF\",\"#0000FF\",\"#0000FF\",\"#0000FF\",\"#0000FF\",\"#0000FF\",\"#0000FF\",\"#0000FF\",\"#0000FF\",\"#0000FF\",\"#0000FF\",\"#0000FF\",\"#0000FF\",\"#0000FF\",\"#0000FF\",\"#0000FF\",\"#0000FF\",\"#0000FF\",\"#0000FF\",\"#0000FF\",\"#0000FF\",\"#0000FF\",\"#0000FF\",\"#0000FF\",\"#0000FF\",\"#0000FF\",\"#0000FF\",\"#0000FF\",\"#0000FF\",\"#0000FF\",\"#0000FF\",\"#0000FF\",\"#0000FF\",\"#0000FF\",\"#0000FF\",\"#0000FF\",\"#0000FF\",\"#0000FF\",\"#0000FF\",\"#0000FF\",\"#0000FF\",\"#0000FF\",\"#0000FF\",\"#0000FF\",\"#0000FF\",\"#0000FF\",\"#0000FF\",\"#0000FF\",\"#0000FF\",\"#0000FF\",\"#0000FF\",\"#0000FF\",\"#0000FF\",\"#0000FF\",\"#0000FF\",\"#0000FF\",\"#0000FF\",\"#0000FF\",\"#0000FF\",\"#0000FF\",\"#0000FF\",\"#0000FF\",\"#0000FF\",\"#0000FF\",\"#0000FF\",\"#0000FF\",\"#0000FF\",\"#0000FF\",\"#0000FF\",\"#0000FF\",\"#0000FF\",\"#0000FF\",\"#0000FF\",\"#0000FF\",\"#0000FF\",\"#0000FF\",\"#0000FF\",\"#0000FF\",\"#0000FF\",\"#0000FF\",\"#0000FF\",\"#0000FF\",\"#0000FF\",\"#0000FF\",\"#0000FF\",\"#0000FF\",\"#0000FF\",\"#0000FF\",\"#0000FF\",\"#0000FF\",\"#0000FF\",\"#0000FF\",\"#0000FF\",\"#0000FF\",\"#0000FF\",\"#0000FF\",\"#0000FF\",\"#0000FF\",\"#0000FF\",\"#0000FF\",\"#0000FF\",\"#0000FF\",\"#0000FF\",\"#0000FF\",\"#0000FF\",\"#0000FF\",\"#0000FF\",\"#0000FF\",\"#0000FF\",\"#0000FF\",\"#0000FF\",\"#0000FF\",\"#0000FF\",\"#0000FF\",\"#0000FF\",\"#0000FF\",\"#0000FF\",\"#0000FF\",\"#0000FF\",\"#0000FF\",\"#0000FF\",\"#0000FF\",\"#0000FF\",\"#0000FF\",\"#0000FF\",\"#0000FF\",\"#0000FF\",\"#0000FF\",\"#0000FF\",\"#0000FF\",\"#0000FF\",\"#0000FF\",\"#0000FF\",\"#0000FF\",\"#0000FF\",\"#0000FF\",\"#0000FF\",\"#0000FF\",\"#0000FF\",\"#0000FF\",\"#0000FF\",\"#0000FF\",\"#0000FF\",\"#0000FF\",\"#0000FF\",\"#0000FF\",\"#0000FF\",\"#0000FF\",\"#0000FF\",\"#0000FF\",\"#0000FF\",\"#0000FF\",\"#0000FF\",\"#0000FF\",\"#0000FF\",\"#0000FF\",\"#0000FF\",\"#0000FF\",\"#0000FF\",\"#0000FF\",\"#0000FF\",\"#0000FF\",\"#0000FF\",\"#0000FF\",\"#0000FF\",\"#0000FF\",\"#0000FF\",\"#0000FF\",\"#0000FF\",\"#0000FF\",\"#0000FF\",\"#0000FF\",\"#0000FF\",\"#0000FF\",\"#0000FF\",\"#0000FF\",\"#0000FF\",\"#0000FF\",\"#0000FF\",\"#0000FF\",\"#0000FF\",\"#0000FF\",\"#0000FF\",\"#0000FF\",\"#0000FF\",\"#0000FF\",\"#0000FF\",\"#0000FF\",\"#0000FF\",\"#0000FF\",\"#0000FF\",\"#0000FF\",\"#0000FF\",\"#0000FF\",\"#0000FF\",\"#0000FF\",\"#0000FF\",\"#0000FF\",\"#0000FF\",\"#0000FF\",\"#0000FF\",\"#0000FF\",\"#0000FF\",\"#0000FF\",\"#0000FF\",\"#0000FF\",\"#0000FF\",\"#0000FF\",\"#0000FF\",\"#0000FF\",\"#0000FF\",\"#0000FF\",\"#0000FF\",\"#0000FF\",\"#0000FF\",\"#0000FF\",\"#0000FF\",\"#0000FF\",\"#0000FF\",\"#0000FF\",\"#0000FF\",\"#0000FF\",\"#0000FF\",\"#0000FF\",\"#0000FF\",\"#0000FF\",\"#0000FF\",\"#0000FF\",\"#0000FF\",\"#0000FF\",\"#0000FF\",\"#0000FF\",\"#0000FF\",\"#0000FF\",\"#0000FF\",\"#0000FF\",\"#0000FF\",\"#0000FF\",\"#0000FF\",\"#0000FF\",\"#0000FF\",\"#0000FF\",\"#0000FF\",\"#0000FF\",\"#0000FF\",\"#0000FF\",\"#0000FF\",\"#0000FF\",\"#0000FF\",\"#0000FF\",\"#0000FF\",\"#0000FF\",\"#0000FF\",\"#0000FF\",\"#0000FF\",\"#0000FF\",\"#0000FF\",\"#0000FF\",\"#0000FF\",\"#0000FF\",\"#0000FF\",\"#0000FF\",\"#0000FF\",\"#0000FF\",\"#0000FF\",\"#0000FF\",\"#0000FF\",\"#0000FF\",\"#0000FF\",\"#0000FF\",\"#0000FF\",\"#0000FF\",\"#0000FF\",\"#0000FF\",\"#0000FF\",\"#0000FF\",\"#0000FF\",\"#0000FF\",\"#0000FF\",\"#0000FF\",\"#0000FF\",\"#0000FF\",\"#0000FF\",\"#0000FF\",\"#0000FF\",\"#0000FF\",\"#0000FF\",\"#0000FF\",\"#0000FF\",\"#0000FF\",\"#0000FF\",\"#0000FF\",\"#0000FF\",\"#0000FF\",\"#0000FF\",\"#0000FF\",\"#0000FF\",\"#0000FF\",\"#0000FF\",\"#0000FF\",\"#0000FF\",\"#0000FF\",\"#0000FF\",\"#0000FF\",\"#0000FF\",\"#0000FF\",\"#0000FF\",\"#0000FF\",\"#0000FF\",\"#0000FF\",\"#0000FF\",\"#0000FF\",\"#0000FF\",\"#0000FF\",\"#0000FF\",\"#0000FF\",\"#0000FF\",\"#0000FF\",\"#0000FF\",\"#0000FF\",\"#0000FF\",\"#0000FF\",\"#0000FF\",\"#0000FF\",\"#0000FF\",\"#0000FF\",\"#0000FF\",\"#0000FF\",\"#0000FF\",\"#0000FF\",\"#0000FF\",\"#0000FF\",\"#0000FF\",\"#0000FF\",\"#0000FF\",\"#0000FF\",\"#0000FF\",\"#0000FF\",\"#0000FF\",\"#0000FF\",\"#0000FF\",\"#0000FF\",\"#0000FF\",\"#0000FF\",\"#0000FF\",\"#0000FF\",\"#0000FF\",\"#0000FF\",\"#0000FF\",\"#0000FF\",\"#0000FF\",\"#0000FF\",\"#0000FF\",\"#0000FF\",\"#0000FF\",\"#0000FF\",\"#0000FF\",\"#0000FF\",\"#0000FF\",\"#0000FF\",\"#0000FF\",\"#0000FF\",\"#0000FF\",\"#0000FF\",\"#0000FF\",\"#0000FF\",\"#0000FF\",\"#0000FF\",\"#0000FF\",\"#0000FF\",\"#0000FF\",\"#0000FF\",\"#0000FF\",\"#0000FF\",\"#0000FF\",\"#0000FF\",\"#0000FF\",\"#0000FF\",\"#0000FF\",\"#0000FF\",\"#0000FF\",\"#0000FF\",\"#0000FF\",\"#0000FF\",\"#0000FF\",\"#0000FF\",\"#0000FF\",\"#0000FF\",\"#0000FF\",\"#0000FF\",\"#0000FF\",\"#0000FF\",\"#0000FF\",\"#0000FF\",\"#0000FF\",\"#0000FF\",\"#0000FF\",\"#0000FF\",\"#0000FF\",\"#0000FF\",\"#0000FF\",\"#0000FF\",\"#0000FF\",\"#0000FF\",\"#0000FF\",\"#0000FF\",\"#0000FF\",\"#0000FF\",\"#0000FF\",\"#0000FF\",\"#0000FF\",\"#0000FF\",\"#0000FF\",\"#0000FF\",\"#0000FF\",\"#0000FF\",\"#0000FF\",\"#0000FF\",\"#0000FF\",\"#0000FF\",\"#0000FF\",\"#0000FF\",\"#0000FF\",\"#0000FF\",\"#0000FF\",\"#0000FF\",\"#0000FF\",\"#0000FF\",\"#0000FF\",\"#0000FF\",\"#0000FF\",\"#0000FF\",\"#0000FF\",\"#0000FF\",\"#0000FF\",\"#0000FF\",\"#0000FF\",\"#0000FF\",\"#0000FF\",\"#0000FF\",\"#0000FF\",\"#0000FF\",\"#0000FF\",\"#0000FF\",\"#0000FF\",\"#0000FF\",\"#0000FF\",\"#0000FF\",\"#0000FF\",\"#0000FF\",\"#0000FF\",\"#0000FF\",\"#0000FF\",\"#0000FF\",\"#0000FF\",\"#0000FF\",\"#0000FF\",\"#0000FF\",\"#0000FF\",\"#0000FF\",\"#0000FF\",\"#0000FF\",\"#0000FF\",\"#0000FF\",\"#0000FF\",\"#0000FF\",\"#0000FF\",\"#0000FF\",\"#0000FF\",\"#0000FF\",\"#0000FF\",\"#0000FF\",\"#0000FF\",\"#0000FF\",\"#0000FF\",\"#0000FF\",\"#0000FF\",\"#0000FF\",\"#0000FF\",\"#0000FF\",\"#0000FF\",\"#0000FF\",\"#0000FF\",\"#0000FF\",\"#0000FF\",\"#0000FF\",\"#0000FF\",\"#0000FF\",\"#0000FF\",\"#0000FF\",\"#0000FF\",\"#0000FF\",\"#0000FF\",\"#0000FF\",\"#0000FF\",\"#0000FF\",\"#0000FF\",\"#0000FF\",\"#0000FF\",\"#0000FF\",\"#0000FF\",\"#0000FF\",\"#0000FF\",\"#0000FF\",\"#0000FF\",\"#0000FF\",\"#0000FF\",\"#0000FF\",\"#0000FF\",\"#0000FF\",\"#0000FF\",\"#0000FF\",\"#0000FF\",\"#0000FF\",\"#0000FF\",\"#0000FF\",\"#0000FF\",\"#0000FF\",\"#0000FF\",\"#0000FF\",\"#0000FF\",\"#0000FF\",\"#0000FF\",\"#0000FF\",\"#0000FF\",\"#0000FF\",\"#0000FF\",\"#0000FF\",\"#0000FF\",\"#0000FF\",\"#0000FF\",\"#0000FF\",\"#0000FF\",\"#0000FF\",\"#0000FF\",\"#0000FF\",\"#0000FF\",\"#0000FF\",\"#0000FF\",\"#0000FF\",\"#0000FF\",\"#0000FF\",\"#0000FF\",\"#0000FF\",\"#0000FF\",\"#0000FF\",\"#0000FF\",\"#0000FF\",\"#0000FF\",\"#0000FF\",\"#0000FF\",\"#0000FF\",\"#0000FF\",\"#0000FF\",\"#0000FF\",\"#0000FF\",\"#0000FF\",\"#0000FF\",\"#0000FF\",\"#0000FF\",\"#0000FF\",\"#0000FF\",\"#0000FF\",\"#0000FF\",\"#0000FF\",\"#0000FF\",\"#0000FF\",\"#0000FF\",\"#0000FF\",\"#0000FF\",\"#0000FF\",\"#0000FF\",\"#0000FF\",\"#0000FF\",\"#0000FF\",\"#0000FF\",\"#0000FF\",\"#0000FF\",\"#0000FF\",\"#0000FF\",\"#0000FF\",\"#0000FF\",\"#0000FF\",\"#0000FF\",\"#0000FF\",\"#0000FF\",\"#0000FF\",\"#0000FF\",\"#0000FF\",\"#0000FF\",\"#0000FF\",\"#0000FF\",\"#0000FF\",\"#0000FF\",\"#0000FF\",\"#0000FF\",\"#0000FF\",\"#0000FF\",\"#0000FF\",\"#0000FF\",\"#0000FF\",\"#0000FF\",\"#0000FF\",\"#0000FF\",\"#0000FF\",\"#0000FF\",\"#0000FF\",\"#0000FF\",\"#0000FF\",\"#0000FF\",\"#0000FF\",\"#0000FF\",\"#0000FF\",\"#0000FF\",\"#0000FF\",\"#0000FF\",\"#0000FF\",\"#0000FF\",\"#0000FF\",\"#0000FF\",\"#0000FF\",\"#0000FF\",\"#0000FF\",\"#0000FF\",\"#0000FF\",\"#0000FF\",\"#0000FF\",\"#0000FF\",\"#0000FF\",\"#0000FF\",\"#0000FF\",\"#0000FF\",\"#0000FF\",\"#0000FF\",\"#0000FF\",\"#0000FF\",\"#0000FF\",\"#0000FF\",\"#0000FF\",\"#0000FF\",\"#0000FF\",\"#0000FF\",\"#0000FF\",\"#0000FF\",\"#0000FF\",\"#0000FF\",\"#0000FF\",\"#0000FF\",\"#0000FF\",\"#0000FF\",\"#0000FF\",\"#0000FF\",\"#0000FF\",\"#0000FF\",\"#0000FF\",\"#0000FF\",\"#0000FF\",\"#0000FF\",\"#0000FF\",\"#0000FF\",\"#0000FF\",\"#0000FF\",\"#0000FF\",\"#0000FF\",\"#0000FF\",\"#0000FF\",\"#0000FF\",\"#0000FF\",\"#0000FF\",\"#0000FF\",\"#0000FF\",\"#0000FF\",\"#0000FF\",\"#0000FF\",\"#0000FF\",\"#0000FF\",\"#0000FF\",\"#0000FF\",\"#0000FF\",\"#0000FF\",\"#0000FF\",\"#0000FF\",\"#0000FF\",\"#0000FF\",\"#0000FF\",\"#0000FF\",\"#0000FF\",\"#0000FF\",\"#0000FF\",\"#0000FF\",\"#0000FF\",\"#0000FF\",\"#0000FF\",\"#0000FF\",\"#0000FF\",\"#0000FF\",\"#0000FF\",\"#0000FF\",\"#0000FF\",\"#0000FF\",\"#0000FF\",\"#0000FF\",\"#0000FF\",\"#0000FF\",\"#0000FF\",\"#0000FF\",\"#0000FF\",\"#0000FF\",\"#0000FF\",\"#0000FF\",\"#0000FF\",\"#0000FF\",\"#0000FF\",\"#0000FF\",\"#0000FF\",\"#0000FF\",\"#0000FF\",\"#0000FF\",\"#0000FF\",\"#0000FF\",\"#0000FF\",\"#0000FF\",\"#0000FF\",\"#0000FF\",\"#0000FF\",\"#0000FF\",\"#0000FF\",\"#0000FF\",\"#0000FF\",\"#0000FF\",\"#0000FF\",\"#0000FF\",\"#0000FF\",\"#0000FF\",\"#0000FF\",\"#0000FF\",\"#0000FF\",\"#0000FF\",\"#0000FF\",\"#0000FF\",\"#0000FF\",\"#0000FF\",\"#0000FF\",\"#0000FF\",\"#0000FF\",\"#0000FF\",\"#0000FF\",\"#0000FF\",\"#0000FF\",\"#0000FF\",\"#0000FF\",\"#0000FF\",\"#0000FF\",\"#0000FF\",\"#0000FF\",\"#0000FF\",\"#0000FF\",\"#0000FF\",\"#0000FF\",\"#0000FF\",\"#0000FF\",\"#0000FF\",\"#0000FF\",\"#0000FF\",\"#0000FF\",\"#0000FF\",\"#0000FF\",\"#0000FF\",\"#0000FF\",\"#0000FF\",\"#0000FF\",\"#0000FF\",\"#0000FF\",\"#0000FF\",\"#0000FF\",\"#0000FF\",\"#0000FF\",\"#0000FF\",\"#0000FF\",\"#0000FF\",\"#0000FF\",\"#0000FF\",\"#0000FF\",\"#0000FF\",\"#0000FF\",\"#0000FF\",\"#0000FF\",\"#0000FF\",\"#0000FF\",\"#0000FF\",\"#0000FF\",\"#0000FF\",\"#0000FF\",\"#0000FF\",\"#0000FF\",\"#0000FF\",\"#0000FF\",\"#0000FF\",\"#0000FF\",\"#0000FF\",\"#0000FF\",\"#0000FF\",\"#0000FF\",\"#0000FF\",\"#0000FF\",\"#0000FF\",\"#0000FF\",\"#0000FF\",\"#0000FF\",\"#0000FF\",\"#0000FF\",\"#0000FF\",\"#0000FF\",\"#0000FF\",\"#0000FF\",\"#0000FF\",\"#0000FF\",\"#0000FF\",\"#0000FF\",\"#0000FF\",\"#0000FF\",\"#0000FF\",\"#0000FF\",\"#0000FF\",\"#0000FF\",\"#0000FF\",\"#0000FF\",\"#0000FF\",\"#0000FF\",\"#0000FF\",\"#0000FF\",\"#0000FF\",\"#0000FF\",\"#0000FF\",\"#0000FF\",\"#0000FF\",\"#0000FF\",\"#0000FF\",\"#0000FF\",\"#0000FF\",\"#0000FF\",\"#0000FF\",\"#0000FF\",\"#0000FF\",\"#0000FF\",\"#0000FF\",\"#0000FF\",\"#0000FF\",\"#0000FF\",\"#0000FF\",\"#0000FF\",\"#0000FF\",\"#0000FF\",\"#0000FF\",\"#0000FF\",\"#0000FF\",\"#0000FF\",\"#0000FF\",\"#0000FF\",\"#0000FF\",\"#0000FF\",\"#0000FF\",\"#0000FF\",\"#0000FF\",\"#0000FF\",\"#0000FF\",\"#0000FF\",\"#0000FF\",\"#0000FF\",\"#0000FF\",\"#0000FF\",\"#0000FF\",\"#0000FF\",\"#0000FF\",\"#0000FF\",\"#0000FF\",\"#0000FF\",\"#0000FF\",\"#0000FF\",\"#0000FF\",\"#0000FF\",\"#0000FF\",\"#0000FF\",\"#0000FF\",\"#0000FF\",\"#0000FF\",\"#0000FF\",\"#0000FF\",\"#0000FF\",\"#0000FF\",\"#0000FF\",\"#0000FF\",\"#0000FF\",\"#0000FF\",\"#0000FF\",\"#0000FF\",\"#0000FF\",\"#0000FF\",\"#0000FF\",\"#0000FF\",\"#0000FF\",\"#0000FF\",\"#0000FF\",\"#0000FF\",\"#0000FF\",\"#0000FF\",\"#0000FF\",\"#0000FF\",\"#0000FF\",\"#0000FF\",\"#0000FF\",\"#0000FF\",\"#0000FF\",\"#0000FF\",\"#0000FF\",\"#0000FF\",\"#0000FF\",\"#0000FF\",\"#0000FF\",\"#0000FF\"],\"radius\":{\"__ndarray__\":\"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\",\"dtype\":\"float64\",\"shape\":[2500]},\"x\":{\"__ndarray__\":\"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\",\"dtype\":\"float64\",\"shape\":[3462]},\"y\":{\"__ndarray__\":\"KVyPwvUoDkBSuB6F61EOQD0K16NwPQpAcT0K16NwB0DNzMzMzMwSQM3MzMzMzAxAPQrXo3A9BEC4HoXrUbjOP7gehetRuK4/pHA9CtejwD8pXI/C9Si8P+xRuB6F67E/exSuR+F6tD9I4XoUrkcFQKRwPQrXo8A/MzMzMzMz8z/sUbgehevBPwAAAAAAAAAAexSuR+F6pD97FK5H4Xq0P3sUrkfheqQ/exSuR+F6hD+kcD0K16PAP3sUrkfhepQ/mpmZmZmZuT/sUbgehesDQEjhehSuR/k/AAAAAAAAAAAfhetRuB7lP1yPwvUoXO8/AAAAAAAAAAC4HoXrUbiuPzMzMzMzM+M/AAAAAAAAAAAAAAAAAAAAAAAAAAAAAAAAuB6F61G4rj97FK5H4XrwP7gehetRuK4/CtejcD0Ktz8AAAAAAAAAALgehetRuJ4/7FG4HoXrsT/sUbgeheuxPwAAAAAAAAAA7FG4HoXrsT+amZmZmZm5P7gehetRuJ4/exSuR+F6tD8AAAAAAAAAALgehetRuJ4/mpmZmZmZqT8AAAAAAAAAAI/C9Shcj9I/CtejcD0Ktz8AAAAAAAAAAHsUrkfheqQ/H4XrUbge9T+4HoXrUbiuPwAAAAAAAAAAKVyPwvUozD97FK5H4XqEP3sUrkfheoQ/pHA9CtejwD97FK5H4XqEPwAAAAAAAAAAKVyPwvUovD8AAAAAAAAAAHsUrkfheqQ/exSuR+F6lD8K16NwPQq3P65H4XoUrtc/mpmZmZmZqT8AAAAAAAAAAHsUrkfheqQ/uB6F61G4nj+amZmZmZmpP7gehetRuK4/AAAAAAAAAAA9CtejcD3aP0jhehSuR9E/AAAAAAAAAAAAAAAAAAAAAAAAAAAAAAAA4XoUrkfh4j8AAAAAAAAAAAAAAAAAAAAAexSuR+F6lD97FK5H4XqUP5qZmZmZmak/uB6F61G4vj+4HoXrUbieP3sUrkfhepQ/exSuR+F6pD+4HoXrUbiePwAAAAAAAAAAexSuR+F6hD9SuB6F61HoP3E9CtejcN0/exSuR+F6hD+4HoXrUbiePwAAAAAAAAAAexSuR+F6pD8AAAAAAAAAALgehetRuJ4/AAAAAAAAAAB7FK5H4XqUP7gehetRuL4/exSuR+F6lD97FK5H4XqEPwAAAAAAAAAAAAAAAAAAAAAAAAAAAAAAADMzMzMzM8M/uB6F61G4nj9cj8L1KFznP5qZmZmZmak/AAAAAAAAAAAAAAAAAAAAAAAAAAAAAAAAAAAAAAAAAAAAAAAAAAAAAJqZmZmZmak/AAAAAAAAAAAAAAAAAAAAAAAAAAAAAAAAAAAAAAAAAAB7FK5H4XqkP+xRuB6F67E/exSuR+F6lD97FK5H4XqUPwAAAAAAAAAAAAAAAAAAAAAAAAAAAAAAAAAAAAAAAAAAAAAAAAAAAAAAAAAAAAAAAHsUrkfheqQ/uB6F61G4zj97FK5H4XqkP3sUrkfheoQ/exSuR+F6hD9xPQrXo3DtP7gehetRuJ4/uB6F61G4nj+PwvUoXI/SPwAAAAAAAAAAAAAAAAAAAAAAAAAAAAAAAAAAAAAAAAAAAAAAAAAAAAAAAAAAAAAAAAAAAAAAAAAAexSuR+F6pD8AAAAAAAAAAHsUrkfhepQ/AAAAAAAAAAAAAAAAAAAAAAAAAAAAAAAAAAAAAAAAAAB7FK5H4XqUPwAAAAAAAAAAexSuR+F6tD97FK5H4XqUP3sUrkfheoQ/AAAAAAAAAAAAAAAAAAAAAAAAAAAAAAAAAAAAAAAAAAAAAAAAAAAAAAAAAAAAAAAAAAAAAAAAAAAAAAAAAAAAAHsUrkfheqQ/7FG4HoXrwT/NzMzMzMzwPwAAAAAAAAAAexSuR+F6lD8AAAAAAAAAAAAAAAAAAAAAexSuR+F6lD97FK5H4XqUPwAAAAAAAAAAexSuR+F6hD8AAAAAAAAAAAAAAAAAAAAAAAAAAAAAAADNzMzMzMzcPylcj8L1KOQ/AAAAAAAAAAB7FK5H4XqEP3sUrkfherQ/exSuR+F6hD8AAAAAAAAAAAAAAAAAAAAAAAAAAAAAAAAAAAAAAAAAAAAAAAAAAAAAAAAAAAAAAAB7FK5H4XqEP3sUrkfheqQ/exSuR+F6lD97FK5H4XqEPwAAAAAAAAAAAAAAAAAAAAB7FK5H4XqEPwAAAAAAAAAAexSuR+F6pD/sUbgeheuxPwAAAAAAAAAAexSuR+F6lD97FK5H4XqUPwAAAAAAAAAAAAAAAAAAAAB7FK5H4XqEPwAAAAAAAAAAAAAAAAAAAAAAAAAAAAAAAI/C9Shcj9I/exSuR+F6hD97FK5H4XqEPwAAAAAAAAAAAAAAAAAAAAAAAAAAAAAAAAAAAAAAAAAAAAAAAAAAAAAAAAAAAAAAAKRwPQrXo8A/AAAAAAAAAAAAAAAAAAAAAHsUrkfhepQ/AAAAAAAAAADsUbgeheuxP3sUrkfheoQ/uB6F61G4nj8AAAAAAAAAAHsUrkfheoQ/AAAAAAAAAAC4HoXrUbiePwAAAAAAAAAAexSuR+F6hD8AAAAAAAAAAHsUrkfheoQ/AAAAAAAAAAAAAAAAAAAAAAAAAAAAAAAAAAAAAAAAAADsUbgehevBP0jhehSuR+k/exSuR+F6hD8AAAAAAAAAAHsUrkfheoQ/AAAAAAAAAAAAAAAAAAAAAAAAAAAAAAAAAAAAAAAAAAB7FK5H4XqkPwAAAAAAAAAAAAAAAAAAAAAAAAAAAAAAAHsUrkfheoQ/exSuR+F6lD8fhetRuB7VP3sUrkfhepQ/AAAAAAAAAAAAAAAAAAAAAHsUrkfhepQ/AAAAAAAAAAB7FK5H4XqUP7gehetRuJ4/MzMzMzMz0z+4HoXrUbieP3sUrkfheoQ/exSuR+F6lD8AAAAAAAAAAOxRuB6F67E/AAAAAAAAAAAAAAAAAAAAAHsUrkfheoQ/AAAAAAAAAAAAAAAAAAAAAFK4HoXrUcg/AAAAAAAAAACPwvUoXI/SPwAAAAAAAAAAexSuR+F6lD8AAAAAAAAAAHsUrkfheoQ/AAAAAAAAAAAAAAAAAAAAAAAAAAAAAAAAAAAAAAAAAAAAAAAAAAAAAAAAAAAAAAAACtejcD0Ktz8AAAAAAAAAAHsUrkfheoQ/AAAAAAAAAADsUbgehevRP3sUrkfheoQ/AAAAAAAAAAC4HoXrUbieP3sUrkfhepQ/exSuR+F6pD97FK5H4XqUPwAAAAAAAAAAAAAAAAAAAAAAAAAAAAAAAAAAAAAAAAAAAAAAAAAAAAAAAAAAAAAAAAAAAAAAAAAAAAAAAAAAAAB7FK5H4XqUPwAAAAAAAAAAAAAAAAAAAAAAAAAAAAAAAAAAAAAAAAAAAAAAAAAAAAAAAAAAAAAAAAAAAAAAAAAAAAAAAAAAAAAAAAAAAAAAAKRwPQrXo8A/AAAAAAAAAAAAAAAAAAAAAAAAAAAAAAAAexSuR+F6lD97FK5H4XqUPwAAAAAAAAAAAAAAAAAAAAAAAAAAAAAAAHsUrkfheoQ/mpmZmZmZqT97FK5H4Xq0P3sUrkfhepQ/exSuR+F6hD+amZmZmZm5PwAAAAAAAAAAAAAAAAAAAAAAAAAAAAAAAAAAAAAAAAAAAAAAAAAAAAAAAAAAAAAAAAAAAAAAAAAAAAAAAAAAAACamZmZmZmpPwAAAAAAAAAAAAAAAAAAAAAAAAAAAAAAALgehetRuK4/AAAAAAAAAAAAAAAAAAAAAHsUrkfhepQ/exSuR+F6lD8AAAAAAAAAAHsUrkfheoQ/AAAAAAAAAAAAAAAAAAAAAAAAAAAAAAAAAAAAAAAAAAAAAAAAAAAAAAAAAAAAAAAAAAAAAAAAAAAAAAAAAAAAAAAAAAAAAAAAAAAAAAAAAAAAAAAAAAAAAAAAAAAAAAAAAAAAAAAAAAAAAAAAAAAAAAAAAAAAAAAAAAAAAAAAAAAAAAAAAAAAAAAAAAAAAAAAAAAAAAAAAADhehSuR+HaPylcj8L1KLw/AAAAAAAAAAAAAAAAAAAAAAAAAAAAAAAAMzMzMzMzwz97FK5H4XqEPwAAAAAAAAAAexSuR+F6hD8AAAAAAAAAAAAAAAAAAAAAAAAAAAAAAAAAAAAAAAAAAAAAAAAAAAAAexSuR+F6hD8AAAAAAAAAAAAAAAAAAAAAAAAAAAAAAAAAAAAAAAAAAHsUrkfheoQ/exSuR+F6lD97FK5H4XqEPwAAAAAAAAAAAAAAAAAAAAAAAAAAAAAAAHsUrkfheoQ/AAAAAAAAAAB7FK5H4XqEPwAAAAAAAAAAAAAAAAAAAAAK16NwPQq3PwAAAAAAAAAAAAAAAAAAAAAAAAAAAAAAAJqZmZmZmck/AAAAAAAAAAAAAAAAAAAAAHsUrkfheoQ/uB6F61G4nj8AAAAAAAAAAHsUrkfhepQ/uB6F61G4nj8AAAAAAAAAAHsUrkfheqQ/AAAAAAAAAAAAAAAAAAAAAAAAAAAAAAAAexSuR+F6hD8AAAAAAAAAAHsUrkfheoQ/AAAAAAAAAAAAAAAAAAAAAAAAAAAAAAAAAAAAAAAAAAAAAAAAAAAAAHsUrkfheoQ/AAAAAAAAAAAAAAAAAAAAAAAAAAAAAAAAAAAAAAAAAACkcD0K16PQP3sUrkfheoQ/AAAAAAAAAAAAAAAAAAAAAAAAAAAAAAAAAAAAAAAAAAAAAAAAAAAAAAAAAAAAAAAAexSuR+F6hD97FK5H4XqEPwAAAAAAAAAAexSuR+F6lD8AAAAAAAAAAClcj8L1KMw/exSuR+F6lD+amZmZmZmpPwAAAAAAAAAAAAAAAAAAAAAAAAAAAAAAALgehetRuJ4/AAAAAAAAAAB7FK5H4XqUPwAAAAAAAAAAAAAAAAAAAAAAAAAAAAAAAHsUrkfheoQ/AAAAAAAAAAAAAAAAAAAAAAAAAAAAAAAAAAAAAAAAAAAAAAAAAAAAAAAAAAAAAAAAAAAAAAAAAAAAAAAAAAAAAAAAAAAAAAAAexSuR+F6xD8AAAAAAAAAAAAAAAAAAAAAAAAAAAAAAAAAAAAAAAAAAAAAAAAAAAAAAAAAAAAAAAAAAAAAAAAAAAAAAAAAAAAAAAAAAAAAAAAAAAAAAAAAAAAAAAAAAAAAAAAAAAAAAAC4HoXrUbjuPwAAAAAAAAAAAAAAAAAAAAAAAAAAAAAAAAAAAAAAAAAAAAAAAAAAAAAAAAAAAAAAAAAAAAAAAAAAAAAAAAAAAAAAAAAAAAAAAArXo3A9Csc/AAAAAAAAAAAAAAAAAAAAAAAAAAAAAAAAexSuR+F6lD8K16NwPQq3PwAAAAAAAAAAexSuR+F6lD8AAAAAAAAAAAAAAAAAAAAAexSuR+F6lD97FK5H4XqUPwAAAAAAAAAA4XoUrkfhyj8AAAAAAAAAAAAAAAAAAAAAAAAAAAAAAAB7FK5H4XqUPwAAAAAAAAAAAAAAAAAAAAAAAAAAAAAAAHsUrkfheoQ/KVyPwvUovD8AAAAAAAAAAHsUrkfheoQ/AAAAAAAAAAAAAAAAAAAAADMzMzMzM8M/exSuR+F6hD8AAAAAAAAAAAAAAAAAAAAAAAAAAAAAAAAAAAAAAAAAAAAAAAAAAAAAAAAAAAAAAAB7FK5H4XqEP3sUrkfheoQ/AAAAAAAAAAB7FK5H4XqEPwAAAAAAAAAAAAAAAAAAAAB7FK5H4XqEPwAAAAAAAAAAAAAAAAAAAAAAAAAAAAAAAAAAAAAAAAAAuB6F61G4vj97FK5H4XqEP3sUrkfheoQ/AAAAAAAAAAAAAAAAAAAAAHsUrkfheoQ/AAAAAAAAAAB7FK5H4XqUPwAAAAAAAAAAAAAAAAAAAAAAAAAAAAAAAHsUrkfhepQ/AAAAAAAAAAAAAAAAAAAAAAAAAAAAAAAAAAAAAAAAAAAAAAAAAAAAAAAAAAAAAAAAexSuR+F6lD+4HoXrUbiuPwAAAAAAAAAAexSuR+F6hD8AAAAAAAAAAAAAAAAAAAAAAAAAAAAAAAAAAAAAAAAAAArXo3A9Crc/AAAAAAAAAAAAAAAAAAAAAAAAAAAAAAAAexSuR+F6hD8AAAAAAAAAALgehetRuJ4/AAAAAAAAAAAAAAAAAAAAAAAAAAAAAAAAexSuR+F6lD8AAAAAAAAAAAAAAAAAAAAAAAAAAAAAAAAAAAAAAAAAAAAAAAAAAAAAAAAAAAAAAADsUbgeheuxPwAAAAAAAAAAAAAAAAAAAAAAAAAAAAAAAHsUrkfheoQ/AAAAAAAAAADhehSuR+HKP3sUrkfherQ/exSuR+F6hD8AAAAAAAAAALgehetRuJ4/exSuR+F6hD9I4XoUrkfRP3sUrkfheoQ/AAAAAAAAAAAAAAAAAAAAAAAAAAAAAAAAAAAAAAAAAAC4HoXrUbiePwAAAAAAAAAAAAAAAAAAAAAAAAAAAAAAAAAAAAAAAAAAAAAAAAAAAAC4HoXrUbiePwAAAAAAAAAAexSuR+F6tD8AAAAAAAAAAAAAAAAAAAAAAAAAAAAAAAB7FK5H4XqEPwAAAAAAAAAAAAAAAAAAAAB7FK5H4XqEPwAAAAAAAAAAAAAAAAAAAAB7FK5H4XqUPwAAAAAAAAAAAAAAAAAAAAB7FK5H4XqEPwAAAAAAAAAAUrgehetRyD97FK5H4XqEPwAAAAAAAAAAexSuR+F6lD8AAAAAAAAAAAAAAAAAAAAAAAAAAAAAAAAAAAAAAAAAAHsUrkfheoQ/AAAAAAAAAAAAAAAAAAAAAAAAAAAAAAAAexSuR+F6hD8AAAAAAAAAAFyPwvUoXOc/AAAAAAAAAAAAAAAAAAAAAAAAAAAAAAAAAAAAAAAAAAAAAAAAAAAAAAAAAAAAAAAAAAAAAAAAAAAAAAAAAAAAAAAAAAAAAAAAAAAAAAAAAAAAAAAAAAAAAAAAAAAAAOA/AAAAAAAAAAAAAAAAAAAAAAAAAAAAAAAAAAAAAAAAAAAAAAAAAAAAAAAAAAAAAAAAAAAAAAAAAAC4HoXrUbi+PwAAAAAAAAAAAAAAAAAAAAAAAAAAAAAAAAAAAAAAAAAAAAAAAAAAAAAAAAAAAAAAAAAAAAAAAAAAAAAAAAAAAAAK16NwPQrHPwAAAAAAAAAAH4XrUbge1T8AAAAAAAAAAArXo3A9Csc/exSuR+F6pD8AAAAAAAAAAAAAAAAAAAAAAAAAAAAAAAAAAAAAAAAAAHE9CtejcOU/AAAAAAAAAAAAAAAAAAAAAAAAAAAAAAAAexSuR+F6hD8AAAAAAAAAAAAAAAAAAAAAexSuR+F6hD8AAAAAAAAAAAAAAAAAAAAAAAAAAAAAAAAAAAAAAAAAAAAAAAAAAAAAH4XrUbge5T8AAAAAAAAAAAAAAAAAAAAAUrgehetRyD8AAAAAAAAAAAAAAAAAAAAAAAAAAAAAAAAAAAAAAAAAAAAAAAAAAAAAAAAAAAAAAAAAAAAAAAAAAHsUrkfheoQ/AAAAAAAAAAAAAAAAAAAAAAAAAAAAAAAAAAAAAAAAAAAAAAAAAAAAAAAAAAAAAAAAKVyPwvUovD97FK5H4XqkPwAAAAAAAAAAexSuR+F6hD8AAAAAAAAAAAAAAAAAAAAAAAAAAAAAAAAAAAAAAAAAAAAAAAAAAAAAAAAAAAAAAAAAAAAAAAAAAAAAAAAAAAAAAAAAAAAAAAAAAAAAAAAAAAAAAAAAAAAAAAAAAAAAAAAAAAAAAAAAAAAAAAAAAAAAAAAAAAAAAAAAAAAAAAAAAAAAAAAAAAAAKVyPwvUovD8AAAAAAAAAAAAAAAAAAAAAAAAAAAAAAAAAAAAAAAAAAAAAAAAAAAAA7FG4HoXrwT97FK5H4XqEPwAAAAAAAAAAAAAAAAAAAAAAAAAAAAAAAAAAAAAAAAAAexSuR+F6hD8AAAAAAAAAAAAAAAAAAAAAAAAAAAAAAAAfhetRuB7VPwAAAAAAAAAAAAAAAAAAAAC4HoXrUbiePwAAAAAAAAAAAAAAAAAAAAAAAAAAAAAAAAAAAAAAAAAAAAAAAAAAAAAAAAAAAAAAAAAAAAAAAAAAAAAAAAAAAAAAAAAAAAAAAAAAAAAAAAAAAAAAAAAAAAAAAAAAAAAAAAAAAAAAAAAAAAAAAAAAAAB7FK5H4XqUPwAAAAAAAAAAAAAAAAAAAAAAAAAAAAAAAAAAAAAAAAAAAAAAAAAAAAAAAAAAAAAAAAAAAAAAAAAAAAAAAAAAAAAAAAAAAAAAAAAAAAAAAAAAAAAAAAAAAAAAAAAAAAAAAAAAAAAAAAAAexSuR+F6lD8AAAAAAAAAAAAAAAAAAAAAAAAAAAAAAAB7FK5H4XqUPwAAAAAAAAAAAAAAAAAAAAAAAAAAAAAAAAAAAAAAAAAAAAAAAAAAAAAAAAAAAAAAAHsUrkfheqQ/AAAAAAAAAAAAAAAAAAAAAAAAAAAAAAAAAAAAAAAAAAAAAAAAAAAAAAAAAAAAAAAAAAAAAAAAAAAAAAAAAAAAAAAAAAAAAAAAAAAAAAAAAAAAAAAAAAAAAAAAAAAAAAAAAAAAAAAAAAB7FK5H4XqEPwAAAAAAAAAAAAAAAAAAAAAAAAAAAAAAAAAAAAAAAAAAAAAAAAAAAAAAAAAAAAAAAAAAAAAAAAAAAAAAAAAAAAC4HoXrUbiePwAAAAAAAAAAAAAAAAAAAAAAAAAAAAAAAAAAAAAAAAAAuB6F61G4nj8AAAAAAAAAAAAAAAAAAAAAexSuR+F6tD97FK5H4XqkPwAAAAAAAAAAuB6F61G4nj8AAAAAAAAAAHsUrkfheoQ/AAAAAAAAAAAAAAAAAAAAAAAAAAAAAAAAAAAAAAAAAAC4HoXrUbjOPwAAAAAAAAAAAAAAAAAAAAAAAAAAAAAAAAAAAAAAAAAAAAAAAAAAAAAAAAAAAAAAAAAAAAAAAAAAAAAAAAAAAAAAAAAAAAAAAHsUrkfhepQ/AAAAAAAAAAAAAAAAAAAAAAAAAAAAAAAAAAAAAAAAAAAAAAAAAAAAAAAAAAAAAAAAAAAAAAAAAAAAAAAAAAAAAAAAAAAAAAAAexSuR+F6hD8AAAAAAAAAAAAAAAAAAAAAAAAAAAAAAAC4HoXrUbiuPwAAAAAAAAAAAAAAAAAAAADD9Shcj8LFP3sUrkfhepQ/AAAAAAAAAAAAAAAAAAAAAAAAAAAAAAAAAAAAAAAAAAAAAAAAAAAAAAAAAAAAAAAAAAAAAAAAAAAAAAAAAAAAAAAAAAAAAAAAexSuR+F6pD8AAAAAAAAAAAAAAAAAAAAAAAAAAAAAAAAAAAAAAAAAAAAAAAAAAAAAAAAAAAAAAAAAAAAAAAAAAMP1KFyPwsU/AAAAAAAAAAAAAAAAAAAAAAAAAAAAAAAAAAAAAAAAAAAAAAAAAAAAAHsUrkfheoQ/AAAAAAAAAAC4HoXrUbiePwAAAAAAAAAAexSuR+F6hD97FK5H4XqUPwAAAAAAAAAAAAAAAAAAAAC4HoXrUbiePwAAAAAAAAAAAAAAAAAAAAAAAAAAAAAAAAAAAAAAAAAAAAAAAAAAAAAAAAAAAAAAAAAAAAAAAAAAAAAAAAAAAAB7FK5H4XqEPwAAAAAAAAAAAAAAAAAAAAB7FK5H4XqEPwAAAAAAAAAAexSuR+F6hD8AAAAAAAAAAAAAAAAAAAAAAAAAAAAAAAAAAAAAAAAAAAAAAAAAAAAAAAAAAAAAAAAAAAAAAAAAAHsUrkfheoQ/7FG4HoXrsT8AAAAAAAAAAAAAAAAAAAAAexSuR+F6hD97FK5H4XqEPwAAAAAAAAAAexSuR+F6pD8AAAAAAAAAAHsUrkfheoQ/uB6F61G4nj8AAAAAAAAAAAAAAAAAAAAAAAAAAAAAAAAAAAAAAAAAABSuR+F6FN4/AAAAAAAAAAAAAAAAAAAAAAAAAAAAAAAAAAAAAAAAAAAAAAAAAAAAAJqZmZmZmbk/exSuR+F6hD8AAAAAAAAAAAAAAAAAAAAAAAAAAAAAAAAAAAAAAAAAAAAAAAAAAAAAAAAAAAAAAAAAAAAAAAAAAAAAAAAAAAAAAAAAAAAAAAAAAAAAAAAAAAAAAAAAAAAAAAAAAAAAAAAAAAAAAAAAAAAAAAAAAAAAAAAAAAAAAAAAAAAAAAAAAAAAAAAAAAAAAAAAAAAAAAAAAAAAAAAAAAAAAAAAAAAAAAAAAAAAAAAAAAAAAAAAAHsUrkfheoQ/AAAAAAAAAAAAAAAAAAAAAAAAAAAAAAAAAAAAAAAAAAAAAAAAAAAAAAAAAAAAAAAAAAAAAAAAAAAAAAAAAAAAAAAAAAAAAAAAAAAAAAAAAAB7FK5H4XqEPwAAAAAAAAAAmpmZmZmZqT97FK5H4XrUPwAAAAAAAAAAAAAAAAAAAAB7FK5H4XqEPwAAAAAAAAAAAAAAAAAAAAAAAAAAAAAAAAAAAAAAAAAAAAAAAAAAAAAAAAAAAAAAAAAAAAAAAAAAAAAAAAAAAAB7FK5H4XqEPwAAAAAAAAAAAAAAAAAAAAAAAAAAAAAAAAAAAAAAAAAAAAAAAAAAAAB7FK5H4XqEP7gehetRuK4/AAAAAAAAAAB7FK5H4XqEPwAAAAAAAAAAAAAAAAAAAAAAAAAAAAAAAAAAAAAAAAAAAAAAAAAAAAAAAAAAAAAAAHsUrkfheoQ/AAAAAAAAAAAAAAAAAAAAAAAAAAAAAAAAAAAAAAAAAAAAAAAAAAAAAAAAAAAAAAAAAAAAAAAAAAAAAAAAAAAAAAAAAAAAAAAAAAAAAAAAAAAAAAAAAAAAAHsUrkfheoQ/exSuR+F6pD+4HoXrUbiePwAAAAAAAAAAAAAAAAAAAAAAAAAAAAAAAAAAAAAAAAAAuB6F61G4nj8AAAAAAADQPwAAAAAAAAAAAAAAAAAAAAAAAAAAAAAAAAAAAAAAAAAAAAAAAAAAAAAAAAAAAAAAAAAAAAAAAAAAAAAAAAAAAAA9CtejcD3aPwAAAAAAAAAAAAAAAAAAAAAAAAAAAAAAAAAAAAAAAAAAAAAAAAAAAAAAAAAAAAAAAAAAAAAAAAAAAAAAAAAAAAB7FK5H4XqkP3sUrkfheoQ/AAAAAAAAAAAAAAAAAAAAAAAAAAAAAAAAAAAAAAAAAAAAAAAAAAAAAAAAAAAAAAAAAAAAAAAAAAAAAAAAAAAAAAAAAAAAAAAAAAAAAAAAAAB7FK5H4XqEPwAAAAAAAAAAmpmZmZmZ2T8AAAAAAAAAAHsUrkfherQ/AAAAAAAAAAAAAAAAAAAAAAAAAAAAAAAAAAAAAAAAAAAAAAAAAAAAAAAAAAAAAAAAAAAAAAAAAAAAAAAAAAAAAAAAAAAAAAAAexSuR+F6hD8AAAAAAAAAAAAAAAAAAAAAAAAAAAAAAAAAAAAAAAAAAHsUrkfheqQ/AAAAAAAAAAB7FK5H4XqEPwAAAAAAAAAAAAAAAAAAAAD2KFyPwvXYPwAAAAAAAAAAAAAAAAAAAAAAAAAAAAAAAAAAAAAAAAAAAAAAAAAAAAAAAAAAAAAAAAAAAAAAAAAAAAAAAAAAAAB7FK5H4XqEPwAAAAAAAAAAAAAAAAAAAAC4HoXrUbiuPwAAAAAAAAAAAAAAAAAAAAAAAAAAAAAAAAAAAAAAAAAAAAAAAAAAAAAAAAAAAAAAAAAAAAAAAAAAAAAAAAAAAAAAAAAAAAAAAAAAAAAAAAAAAAAAAAAAAAAAAAAAAAAAAAAAAAAAAAAAexSuR+F6pD8AAAAAAAAAAAAAAAAAAAAAAAAAAAAAAAAAAAAAAAAAAAAAAAAAAAAAAAAAAAAAAAB7FK5H4XqEPwAAAAAAAAAAAAAAAAAAAAAAAAAAAAAAAAAAAAAAAAAAAAAAAAAAAAAAAAAAAAAAAAAAAAAAAAAAAAAAAAAAAAB7FK5H4XqEPwAAAAAAAAAAAAAAAAAAAAAAAAAAAAAAAHsUrkfheqQ/AAAAAAAAAAAAAAAAAAAAAAAAAAAAAAAAAAAAAAAAAAAAAAAAAAAAAAAAAAAAAAAAAAAAAAAAAAAAAAAAAAAAAAAAAAAAAAAAAAAAAAAAAAAAAAAAAAAAAAAAAAAAAAAAAAAAAAAAAAAAAAAAAAAAAAAAAAAAAAAAAAAAAAAAAAC4HoXrUbieP3sUrkfherQ/AAAAAAAAAAB7FK5H4XqEPwAAAAAAAAAAAAAAAAAAAAAAAAAAAAAAAAAAAAAAAAAAAAAAAAAAAAAAAAAAAAAAAAAAAAAAAAAAAAAAAAAAAAAAAAAAAAAAAAAAAAAAAAAAAAAAAAAAAAB7FK5H4XqUPwAAAAAAAAAAAAAAAAAAAAAAAAAAAAAAAAAAAAAAAAAAAAAAAAAAAAAAAAAAAAAAAAAAAAAAAAAAAAAAAAAAAAAAAAAAAAAAAAAAAAAAAAAAAAAAAAAAAAAAAAAAAAAAAHsUrkfhepQ/AAAAAAAAAAB7FK5H4Xq0P3sUrkfheoQ/AAAAAAAAAAAAAAAAAAAAAAAAAAAAAAAAAAAAAAAAAAAAAAAAAAAAAAAAAAAAAAAAAAAAAAAAAAAAAAAAAAAAALgehetRuK4/AAAAAAAAAAAAAAAAAAAAAAAAAAAAAAAAAAAAAAAAAAB7FK5H4XqEPwAAAAAAAAAAexSuR+F6tD8AAAAAAAAAAAAAAAAAAAAAAAAAAAAAAAAAAAAAAAAAAAAAAAAAAAAAAAAAAAAAAAB7FK5H4Xq0PwAAAAAAAAAAexSuR+F6tD8AAAAAAAAAAAAAAAAAAAAAAAAAAAAAAAAAAAAAAAAAAHsUrkfhepQ/AAAAAAAAAAC4HoXrUbiePzMzMzMzM8M/AAAAAAAAAAAAAAAAAAAAAAAAAAAAAAAAAAAAAAAAAAAAAAAAAAAAAAAAAAAAAAAAAAAAAAAAAAAAAAAAAAAAAAAAAAAAAAAAAAAAAAAAAAAAAAAAAAAAAAAAAAAAAAAAAAAAAAAAAAAAAAAAAAAAAAAAAAAAAAAAAAAAAAAAAAB7FK5H4XrUPwAAAAAAAAAAAAAAAAAAAAC4HoXrUbieP3sUrkfhepQ/exSuR+F6tD8AAAAAAAAAAAAAAAAAAAAAAAAAAAAAAAAAAAAAAAAAAAAAAAAAAAAAAAAAAAAAAAAAAAAAAAAAAHsUrkfheoQ/AAAAAAAAAAAAAAAAAAAAAAAAAAAAAAAAAAAAAAAAAAAAAAAAAAAAAAAAAAAAAAAAAAAAAAAAAAAAAAAAAAAAAAAAAAAAAAAAexSuR+F6lD8AAAAAAAAAAAAAAAAAAAAAAAAAAAAAAAAAAAAAAAAAAAAAAAAAAAAA7FG4HoXrsT8AAAAAAAAAAAAAAAAAAAAAexSuR+F6hD8AAAAAAAAAAAAAAAAAAAAAAAAAAAAAAAAAAAAAAAAAAAAAAAAAAAAAuB6F61G4rj8AAAAAAAAAAJqZmZmZmck/AAAAAAAAAACamZmZmZmpPwAAAAAAAAAAAAAAAAAAAAAAAAAAAAAAAAAAAAAAAAAAAAAAAAAAAAAAAAAAAAAAAAAAAAAAAAAAAAAAAAAAAAAzMzMzMzPTPwAAAAAAAAAAAAAAAAAAAAB7FK5H4XqUPwAAAAAAAAAAAAAAAAAAAAAAAAAAAAAAAAAAAAAAAAAAAAAAAAAAAAAAAAAAAAAAAHsUrkfheqQ/AAAAAAAAAAAAAAAAAAAAAHsUrkfheqQ/AAAAAAAAAAAAAAAAAAAAAMP1KFyPwsU/mpmZmZmZqT8AAAAAAAAAAAAAAAAAAAAAAAAAAAAAAAAAAAAAAAAAAHsUrkfheoQ/AAAAAAAAAAAAAAAAAAAAAAAAAAAAAAAAAAAAAAAAAAAAAAAAAAAAAAAAAAAAAAAAmpmZmZmZqT8AAAAAAAAAAI/C9Shcj9I/exSuR+F6hD8AAAAAAAAAAAAAAAAAAAAAAAAAAAAAAAAAAAAAAAAAAHsUrkfheoQ/AAAAAAAAAAAAAAAAAAAAAAAAAAAAAAAAAAAAAAAAAAAAAAAAAAAAAAAAAAAAAAAAAAAAAAAAAAAAAAAAAAAAAAAAAAAAAAAAAAAAAAAAAACamZmZmZmpPwAAAAAAAAAAAAAAAAAAAAB7FK5H4XqEPwAAAAAAAAAAAAAAAAAAAAC4HoXrUbieP3sUrkfheoQ/AAAAAAAAAAAAAAAAAAAAAAAAAAAAAAAAAAAAAAAAAAAAAAAAAAAAAAAAAAAAAAAAUrgehetRyD8AAAAAAAAAAAAAAAAAAAAAAAAAAAAAAAAAAAAAAAAAAAAAAAAAAAAAAAAAAAAAAAAAAAAAAAAAAAAAAAAAAAAAAAAAAAAAAAAAAAAAAAAAAAAAAAAAAAAAAAAAAAAAAAAAAAAAAAAAAAAAAAAAAAAAAAAAAAAAAAAAAAAAAAAAAAAAAAAAAAAAAAAAAAAAAAB7FK5H4XqUPwAAAAAAAAAAAAAAAAAAAAAAAAAAAAAAAAAAAAAAAAAAAAAAAAAAAAAAAAAAAAAAAAAAAAAAAAAAAAAAAAAAAAAAAAAAAAAAAAAAAAAAAAAAAAAAAAAAAAAAAAAAAAAAAAAAAAAAAAAAAAAAAAAAAAAAAAAAAAAAAAAAAAAAAAAAAAAAAAAAAAAAAAAAAAAAAAAAAAAAAAAAAAAAAAAAAAAAAAAAAAAAAAAAAAAAAAAAAAAAAAAAAAAAAAAAAAAAAAAAAAAAAAAAAAAAAAAAAAAAAAAAAAAAAAAAAAAAAAAAAAAAAAAAAAAAAAAAAAAAAAAAAAAAANA/mpmZmZmZqT8AAAAAAAAAAAAAAAAAAAAAAAAAAAAAAAAAAAAAAAAAAAAAAAAAAAAAAAAAAAAAAAAAAAAAAAAAAAAAAAAAAAAAAAAAAAAA0D8AAAAAAAAAAAAAAAAAAAAAAAAAAAAAAAAAAAAAAAAAAAAAAAAAAAAAAAAAAAAAAAC4HoXrUbiuPwAAAAAAAAAAAAAAAAAAAAAAAAAAAAAAAAAAAAAAAAAAAAAAAAAAAAC4HoXrUbiuPwAAAAAAAAAAAAAAAAAAAAAAAAAAAAAAAAAAAAAAAAAAAAAAAAAAAAAAAAAAAAAAAAAAAAAAAAAAAAAAAAAAAAAAAAAAAAAAAAAAAAAAAAAAAAAAAAAAAAAAAAAAAAAAAAAAAAAAAAAAAAAAAAAAAAAAAAAAAAAAAAAAAAAAAAAAAAAAAAAAAAAAAAAAAAAAAAAAAAAAAAAAAAAAAAAAAAC4HoXrUbiePwAAAAAAAAAAuB6F61G4nj8AAAAAAAAAALgehetRuJ4/AAAAAAAAAAAAAAAAAAAAAAAAAAAAANA/AAAAAAAAAAAAAAAAAAAAAAAAAAAAAAAAAAAAAAAAAAAAAAAAAAAAAAAAAAAAAAAAAAAAAAAAAAAAAAAAAAAAAAAAAAAAAAAAAAAAAAAAAAAAAAAAAAAAAAAAAAAAAAAAAAAAAAAAAAAAAAAAAAAAAAAAAAAAAAAAAAAAAAAAAAAAAAAAAAAAAAAAAAAAAAAAAAAAAAAAAAAAAAAAAAAAAAAAAAAAAAAAAAAAAAAAAAAAAAAAAAAAAAAAAAAAAAAAAAAAAAAAAAAAAAAAAAAAAAAAAAAAAAAAAAAAAAAAAAB7FK5H4XqEP3sUrkfheqQ/AAAAAAAAAAAAAAAAAAAAAAAAAAAAAAAAAAAAAAAAAAAAAAAAAAAAAAAAAAAAAAAAAAAAAAAAAAAAAAAAAAAAAAAAAAAAAAAAAAAAAAAAAAAAAAAAAAAAAHsUrkfheoQ/AAAAAAAAAAAAAAAAAAAAAAAAAAAAAAAAAAAAAAAAAAAAAAAAAAAAAAAAAAAAAAAAAAAAAAAAAAAAAAAAAAAAAAAAAAAAAAAAAAAAAAAAAAB7FK5H4XqUPwAAAAAAAAAAAAAAAAAAAAAAAAAAAAAAAAAAAAAAAAAAAAAAAAAAAAAAAAAAAAAAAAAAAAAAAAAAAAAAAAAAAAAAAAAAAAAAAOxRuB6F67E/AAAAAAAAAAC4HoXrUbiePwAAAAAAAAAAAAAAAAAAAAAAAAAAAAAAAAAAAAAAAAAAAAAAAAAAAAAAAAAAAAAAAAAAAAAAAAAAAAAAAAAAAAAAAAAAAAAAAAAAAAAAAAAAAAAAAAAAAAAAAAAAAAAAAAAAAAAAAAAAAAAAAAAAAAAAAAAAAAAAAAAAAAAAAAAAAAAAAAAAAAAAAAAAAAAAAAAAAAAAAAAAuB6F61G4nj8AAAAAAAAAAAAAAAAAAAAAAAAAAAAAAAAAAAAAAAAAAClcj8L1KMw/AAAAAAAAAAC4HoXrUbiePwAAAAAAAAAAAAAAAAAAAAAAAAAAAAAAAAAAAAAAAAAAAAAAAAAAAAAAAAAAAAAAAAAAAAAAAAAAAAAAAAAAAAAAAAAAAAAAAAAAAAAAAAAAAAAAAAAAAAAAAAAAAAAAAAAAAAAAAAAAexSuR+F6pD8AAAAAAAAAAAAAAAAAAAAAKVyPwvUovD8AAAAAAAAAAAAAAAAAAAAAuB6F61G4nj8AAAAAAAAAAAAAAAAAAAAAAAAAAAAAAAAAAAAAAAAAAAAAAAAAAAAAAAAAAAAAAAAAAAAAAAAAAAAAAAAAAAAAAAAAAAAAAAAAAAAAAAAAAAAAAAAAAAAAAAAAAAAAAAAAAAAAAAAAAAAAAAAAAAAAAAAAAAAAAAAAAAAAAAAAAAAAAAAAAAAAAAAAAAAAAAAAAAAAAAAAAHsUrkfheoQ/exSuR+F6lD8AAAAAAAAAAAAAAAAAAAAAAAAAAAAAAAAAAAAAAAAAAAAAAAAAAAAAAAAAAAAAAAAAAAAAAAAAALgehetRuK4/AAAAAAAAAAAAAAAAAAAAAAAAAAAAAAAAAAAAAAAAAAAAAAAAAAAAAAAAAAAAAAAAAAAAAAAAAAAAAAAAAAAAAAAAAAAAAAAAAAAAAAAAAAAAAAAAAAAAAHsUrkfheoQ/AAAAAAAAAAAAAAAAAAAAAAAAAAAAAAAAAAAAAAAAAAAAAAAAAAAAALgehetRuJ4/AAAAAAAAAAAAAAAAAAAAAAAAAAAAAAAAAAAAAAAAAADsUbgeheuxP3sUrkfhepQ/AAAAAAAAAAAAAAAAAAAAAHsUrkfheoQ/AAAAAAAAAAAAAAAAAAAAAAAAAAAAAAAAAAAAAAAAAAAAAAAAAAAAAAAAAAAAAAAAAAAAAAAAAAAAAAAAAAAAAAAAAAAAAAAAexSuR+F6hD8AAAAAAAAAAAAAAAAAAAAAAAAAAAAAAAAAAAAAAAAAAAAAAAAAAAAAAAAAAAAAAAApXI/C9Si8PwAAAAAAAAAAAAAAAAAAAAAAAAAAAAAAALgehetRuJ4/AAAAAAAAAAAAAAAAAAAAAAAAAAAAAAAAexSuR+F6hD8AAAAAAAAAALgehetRuK4/AAAAAAAAAAB7FK5H4Xq0PwAAAAAAAAAAAAAAAAAAAAAAAAAAAAAAAAAAAAAAAAAAAAAAAAAAAAAAAAAAAAAAAAAAAAAAAAAAAAAAAAAAAAB7FK5H4XqUPwAAAAAAAAAAAAAAAAAAAAAAAAAAAAAAAAAAAAAAAAAAAAAAAAAAAAAAAAAAAAAAAHsUrkfhepQ/AAAAAAAAAAAAAAAAAAAAAFK4HoXrUcg/AAAAAAAAAAAAAAAAAAAAAAAAAAAAAAAAAAAAAAAAAAAAAAAAAAAAAAAAAAAAAAAAexSuR+F6hD8AAAAAAAAAALgehetRuK4/AAAAAAAAAAAAAAAAAAAAAHsUrkfhepQ/AAAAAAAAAAAAAAAAAAAAAAAAAAAAAAAAAAAAAAAAAAAAAAAAAAAAAAAAAAAAAAAAAAAAAAAAAAAAAAAAAAAAAAAAAAAAAAAAKVyPwvUovD8AAAAAAAAAALgehetRuJ4/AAAAAAAAAAAAAAAAAAAAAAAAAAAAAAAAAAAAAAAAAAAAAAAAAAAAAAAAAAAAAAAAAAAAAAAAAAAAAAAAAAAAAAAAAAAAAAAAAAAAAAAAAAAAAAAAAAAAAAAAAAAAAAAAAAAAAAAAAAAAAAAAAAAAAAAAAAAAAAAAAAAAAAAAAAAAAAAAAAAAAJqZmZmZmak/AAAAAAAAAAAAAAAAAAAAAAAAAAAAAAAAAAAAAAAAAAAAAAAAAAAAAAAAAAAAAAAAAAAAAAAAAAAAAAAAAAAAAAAAAAAAAAAAexSuR+F6hD8AAAAAAAAAAAAAAAAAAAAAAAAAAAAAAAAAAAAAAAAAAAAAAAAAAAAAAAAAAAAAAAAAAAAAAAAAAAAAAAAAAAAAAAAAAAAAAAAAAAAAAAAAAAAAAAAAAAAAAAAAAAAAAAAAAAAAAAAAAAAAAAAAAAAAAAAAAAAAAAAAAAAAAAAAAAAAAAAAAAAAexSuR+F6lD8AAAAAAAAAAAAAAAAAAAAAAAAAAAAAAAAAAAAAAAAAAAAAAAAAAAAAAAAAAAAAAAB7FK5H4XqEPwAAAAAAAAAAAAAAAAAAAAAAAAAAAAAAAAAAAAAAAAAAAAAAAAAAAAAAAAAAAAAAAAAAAAAAAAAAexSuR+F6hD8AAAAAAAAAAAAAAAAAAAAAAAAAAAAAAAAAAAAAAAAAAAAAAAAAAAAAAAAAAAAAAAAAAAAAAAAAAAAAAAAAAAAAAAAAAAAAAAAAAAAAAAAAAAAAAAAAAAAAexSuR+F6pD8AAAAAAAAAAAAAAAAAAAAAAAAAAAAAAAAAAAAAAAAAAAAAAAAAAAAAAAAAAAAAAAAAAAAAAAAAAAAAAAAAAAAAAAAAAAAAAAAAAAAAAAAAAAAAAAAAAAAAAAAAAAAAAAAAAAAAAAAAAAAAAAAAAAAAAAAAAAAAAAAAAAAAAAAAAAAAAAAAAAAAAAAAAAAAAAAAAAAAAAAAAAAAAAAAAAAAuB6F61G4nj8AAAAAAAAAAAAAAAAAAAAAAAAAAAAAAAAAAAAAAAAAAAAAAAAAAAAAAAAAAAAAAAAAAAAAAAAAAAAAAAAAAAAAuB6F61G4nj8AAAAAAAAAAAAAAAAAAAAAAAAAAAAAAAB7FK5H4XqUPwAAAAAAAAAAAAAAAAAAAAAAAAAAAAAAAAAAAAAAAAAAAAAAAAAAAAC4HoXrUbiePwAAAAAAAAAAAAAAAAAAAAAAAAAAAAAAAAAAAAAAAAAAAAAAAAAAAAAAAAAAAAAAAAAAAAAAAAAAuB6F61G4nj8AAAAAAAAAAAAAAAAAAAAAAAAAAAAAAAAAAAAAAAAAAAAAAAAAAAAAexSuR+F6hD8AAAAAAAAAAAAAAAAAAAAAAAAAAAAAAAAAAAAAAAAAAAAAAAAAAAAAuB6F61G4nj8AAAAAAAAAAAAAAAAAAAAAAAAAAAAAAAAAAAAAAAAAAAAAAAAAAAAAAAAAAAAAAAAAAAAAAAAAAAAAAAAAAAAAAAAAAAAAAAAAAAAAAAAAAAAAAAAAAAAAexSuR+F6lD8AAAAAAAAAAAAAAAAAAAAAAAAAAAAAAAAAAAAAAAAAAAAAAAAAAAAAAAAAAAAAAAAAAAAAAAAAAAAAAAAAAAAAAAAAAAAAAAAAAAAAAAAAAAAAAAAAAAAAAAAAAAAAAAAAAAAAAAAAAAAAAAAAAAAAAAAAAAAAAAC4HoXrUbiuPwAAAAAAAAAAAAAAAAAAAAB7FK5H4XqEPwAAAAAAAAAAAAAAAAAAAAAAAAAAAAAAAAAAAAAAAAAAAAAAAAAAAAB7FK5H4XqEPwAAAAAAAAAAexSuR+F6pD97FK5H4XqUPwAAAAAAAAAAAAAAAAAAAAAAAAAAAAAAAAAAAAAAAAAAAAAAAAAAAAAAAAAAAAAAAAAAAAAAAAAAAAAAAAAAAAAAAAAAAAAAAAAAAAAAAAAAexSuR+F6hD+amZmZmZmpPwAAAAAAAAAAAAAAAAAAAAAAAAAAAAAAAAAAAAAAAAAAAAAAAAAAAAAAAAAAAAAAAAAAAAAAAAAAAAAAAAAAAAAAAAAAAAAAAAAAAAAAAAAAAAAAAAAAAADsUbgeheuxPwAAAAAAAAAAAAAAAAAAAAAAAAAAAAAAAAAAAAAAAAAAAAAAAAAAAAAAAAAAAAAAAAAAAAAAAAAAAAAAAAAAAAAAAAAAAAAAAAAAAAAAAAAAAAAAAAAAAAAAAAAAAAAAAAAAAAAAAAAAAAAAAAAAAAAzMzMzMzPDPwAAAAAAAAAAAAAAAAAAAAAAAAAAAAAAAAAAAAAAAAAAAAAAAAAAAAAAAAAAAAAAAHsUrkfheoQ/AAAAAAAAAAAAAAAAAAAAAAAAAAAAAAAAAAAAAAAAAAC4HoXrUbiuPwAAAAAAAAAAAAAAAAAAAAAAAAAAAAAAAAAAAAAAAAAAAAAAAAAAAAB7FK5H4XqUPwAAAAAAAAAAAAAAAAAAAAAAAAAAAAAAAAAAAAAAAAAAAAAAAAAAAAAAAAAAAAAAAHsUrkfheoQ/AAAAAAAAAAAAAAAAAAAAAAAAAAAAAAAAAAAAAAAAAAAAAAAAAAAAAAAAAAAAAAAA7FG4HoXrwT8AAAAAAAAAAAAAAAAAAAAAAAAAAAAAAAAAAAAAAAAAAAAAAAAAAAAAAAAAAAAAAAAAAAAAAAAAAAAAAAAAAAAAAAAAAAAAAAAAAAAAAAAAAAAAAAAAAAAAAAAAAAAAAAAAAAAAAAAAAAAAAAAAAAAAAAAAAAAAAAAAAAAAAAAAAAAAAAAAAAAAAAAAAAAAAAAAAAAAAAAAALgehetRuJ4/AAAAAAAAAAAAAAAAAAAAAAAAAAAAAAAAAAAAAAAAAAAAAAAAAAAAAAAAAAAAAAAAAAAAAAAAAAAAAAAAAAAAAHsUrkfheoQ/AAAAAAAAAAAAAAAAAAAAAAAAAAAAAAAAAAAAAAAAAAAAAAAAAAAAAAAAAAAAAAAAexSuR+F6pD8AAAAAAAAAAHsUrkfheoQ/AAAAAAAAAAAAAAAAAAAAAAAAAAAAAAAAAAAAAAAAAAAAAAAAAAAAALgehetRuJ4/AAAAAAAAAAAAAAAAAAAAAAAAAAAAAAAAAAAAAAAAAAAAAAAAAAAAAAAAAAAAAAAAAAAAAAAAAAB7FK5H4XqUPwAAAAAAAAAAAAAAAAAAAAAAAAAAAAAAAAAAAAAAAAAAAAAAAAAAAAAAAAAAAAAAAAAAAAAAAAAAAAAAAAAAAAAAAAAAAAAAAAAAAAAAAAAAAAAAAAAAAAAAAAAAAAAAAAAAAAAAAAAAAAAAAAAAAAAAAAAAAAAAAAAAAAAAAAAAAAAAAAAAAACkcD0K16PAPwAAAAAAAAAAAAAAAAAAAAAAAAAAAAAAAAAAAAAAAAAAAAAAAAAAAAAAAAAAAAAAAKRwPQrXo8A/AAAAAAAAAAAAAAAAAAAAAAAAAAAAAAAAexSuR+F6hD8AAAAAAAAAAAAAAAAAAAAAAAAAAAAAAAAAAAAAAAAAAKRwPQrXo8A/AAAAAAAAAAAAAAAAAAAAAAAAAAAAAAAAAAAAAAAAAAAAAAAAAAAAAAAAAAAAAAAAAAAAAAAAAAAAAAAAAAAAAAAAAAAAAAAAAAAAAAAAAAAAAAAAAAAAAAAAAAAAAAAAAAAAAAAAAAAAAAAAAAAAAAAAAAAAAAAAAAAAAAAAAAAAAAAAAAAAAAAAAAAAAAAAAAAAAAAAAAAAAAAAAAAAAAAAAAAAAAAAAAAAAAAAAAAAAAAAAAAAAAAAAAAAAAAAAAAAAAAAAAAAAAAAAAAAAAAAAAAAAAAAexSuR+F6hD8AAAAAAAAAAAAAAAAAAAAAAAAAAAAAAAB7FK5H4XqEP3sUrkfheoQ/uB6F61G4vj8AAAAAAAAAAAAAAAAAAAAAAAAAAAAAAAAAAAAAAAAAAAAAAAAAAAAAAAAAAAAAAAAAAAAAAAAAAAAAAAAAAAAAAAAAAAAAAAAAAAAAAAAAAAAAAAAAAAAAAAAAAAAAAAAAAAAAAAAAAAAAAAAAAAAAAAAAAAAAAAAAAAAAAAAAAAAAAAAAAAAAAAAAAAAAAAAAAAAAAAAAAHsUrkfheoQ/AAAAAAAAAAAAAAAAAAAAAAAAAAAAAAAAAAAAAAAAAAAAAAAAAAAAAAAAAAAAAAAAAAAAAAAAAAAAAAAAAAAAAAAAAAAAAAAAAAAAAAAAAAAAAAAAAAAAAAAAAAAAAAAAAAAAAAAAAAAAAAAAAAAAAAAAAAAAAAAAAAAAAAAAAAAAAAAAAAAAAAAAAAAAAAAAAAAAAAAAAAB7FK5H4XqEPwAAAAAAAAAAuB6F61G4nj8AAAAAAAAAAClcj8L1KLw/AAAAAAAAAAAAAAAAAAAAAAAAAAAAAAAAAAAAAAAAAAAAAAAAAAAAAAAAAAAAAAAAAAAAAAAAAAAAAAAAAAAAAAAAAAAAAAAAAAAAAAAAAAAAAAAAAAAAAAAAAAAAAAAAAAAAAAAAAAAAAAAAAAAAAClcj8L1KLw/AAAAAAAAAAAAAAAAAAAAAAAAAAAAAAAAAAAAAAAAAAAAAAAAAAAAAAAAAAAAAAAAAAAAAAAAAAAAAAAAAAAAAAAAAAAAAAAAAAAAAAAAAAAAAAAAAAAAAAAAAAAAAAAAAAAAAAAAAAAAAAAAAAAAAAAAAAAAAAAAAAAAAAAAAAAAAAAAAAAAAAAAAAAAAAAAAAAAAAAAAAAAAAAAAAAAAAAAAAAAAAAAAAAAAAAAAAAAAAAAAAAAAHsUrkfheoQ/AAAAAAAAAAAAAAAAAAAAAAAAAAAAAAAAAAAAAAAAAAAAAAAAAAAAAAAAAAAAAAAAAAAAAAAAAAAAAAAAAAAAAAAAAAAAAAAAAAAAAAAAAAAAAAAAAAAAAAAAAAAAAAAAAAAAAAAAAAAAAAAAAAAAAAAAAAAAAAAAAAAAAAAAAAAAAAAAAAAAAAAAAAAAAAAAAAAAAAAAAAAAAAAAAAAAAHsUrkfheoQ/AAAAAAAAAACamZmZmZm5PwAAAAAAAAAAAAAAAAAAAACamZmZmZm5PwAAAAAAAAAAAAAAAAAAAAAAAAAAAAAAAAAAAAAAAAAAAAAAAAAAAAAAAAAAAAAAAJqZmZmZmbk/AAAAAAAAAAAAAAAAAAAAAAAAAAAAAAAAAAAAAAAAAAAAAAAAAAAAAAAAAAAAAAAAAAAAAAAAAAAAAAAAAAAAAAAAAAAAAAAAAAAAAAAAAACamZmZmZm5P5qZmZmZmbk/AAAAAAAAAAAAAAAAAAAAAAAAAAAAAAAAAAAAAAAAAAAAAAAAAAAAAAAAAAAAAAAAAAAAAAAAAAAAAAAAAAAAAAAAAAAAAAAAmpmZmZmZuT8AAAAAAAAAAAAAAAAAAAAAAAAAAAAAAAAAAAAAAAAAAAAAAAAAAAAAAAAAAAAAAAB7FK5H4XqUPwAAAAAAAAAAexSuR+F6hD8AAAAAAAAAAAAAAAAAAAAAAAAAAAAAAAAAAAAAAAAAAAAAAAAAAAAAAAAAAAAAAAAAAAAAAAAAALgehetRuK4/AAAAAAAAAAAAAAAAAAAAAAAAAAAAAAAAAAAAAAAAAAAAAAAAAAAAAAAAAAAAAAAAAAAAAAAAAACamZmZmZm5PwAAAAAAAAAAexSuR+F6hD8AAAAAAAAAAAAAAAAAAAAAAAAAAAAAAAAAAAAAAAAAAAAAAAAAAAAAAAAAAAAAAAAAAAAAAAAAAAAAAAAAAAAAAAAAAAAAAAAAAAAAAAAAAAAAAAAAAAAAAAAAAAAAAAAAAAAAAAAAAAAAAAAAAAAAAAAAAAAAAAAAAAAAAAAAAAAAAAAAAAAAAAAAAAAAAAAAAAAAAAAAAAAAAAAAAAAAAAAAAAAAAAAAAAAAAAAAAAAAAAAAAAAAAAAAAAAAAAAAAAAAAAAAAAAAAAAAAAAAAAAAAAAAAAAAAAAAAAAAAAAAAAAAAAAAAAAAAAAAAAAAAAAAAAAAAAAAAAAAAAAAAAAAAAAAAAAAAAAAAAAAAAAAAAAAAAAAAAAAAAAAAAAAAAAAAAAAAAAAAAAAAAAAAAAAAAAAAAAAAAAAAAAAAAAAAAAAAAAAAAAAAAAAAAAAAAAAAAAAAAAAAAAAAAAAAAAAAAAAAAAAAAAAAAAAAAAAAAAAAAAAAAAAAAAAAAAAAAAAAAAAAAAAAAAAAAAAAAAAAAAAAAAAAAAAAAAAAAAAAAAAAAAAAAAAAAAAAAAAAAAAAAAAAAAAAAAAAAAAAAAAAAAAAAAAAAAAAAAAAAAAAAAAAAAAAAAAAAAAAAAAAAAAAAAAAAAAAAAAAAAACtejcD0Ktz8AAAAAAAAAAAAAAAAAAAAAAAAAAAAAAAAAAAAAAAAAAAAAAAAAAAAAAAAAAAAAAAAAAAAAAAAAAAAAAAAAAAAAAAAAAAAAAAAAAAAAAAAAAAAAAAAAAAAAAAAAAAAAAAAAAAAAAAAAAAAAAAAAAAAAAAAAAAAAAAAK16NwPQq3PwAAAAAAAAAAAAAAAAAAAAAAAAAAAAAAAAAAAAAAAAAAAAAAAAAAAAAAAAAAAAAAAArXo3A9Crc/AAAAAAAAAAAAAAAAAAAAAAAAAAAAAAAAAAAAAAAAAAAAAAAAAAAAAAAAAAAAAAAAAAAAAAAAAAAAAAAAAAAAAHsUrkfheoQ/AAAAAAAAAAAAAAAAAAAAAAAAAAAAAAAAAAAAAAAAAAAAAAAAAAAAAAAAAAAAAAAAAAAAAAAAAAAK16NwPQq3PwAAAAAAAAAAAAAAAAAAAAAAAAAAAAAAAAAAAAAAAAAAAAAAAAAAAAAAAAAAAAAAAAAAAAAAAAAAAAAAAAAAAAAAAAAAAAAAAAAAAAAAAAAAAAAAAAAAAAAAAAAAAAAAAAAAAAAAAAAAAAAAAAAAAAAAAAAAAAAAAAAAAAAAAAAAAAAAAAAAAAAAAAAAAAAAAAAAAAAAAAAAAAAAAAAAAAAAAAAAAAAAAAAAAAAAAAAAAAAAAAAAAAAAAAAAAAAAAAAAAAAAAAAAAAAAAAAAAAAAAAAAAAAAAAAAAAAAAAAAAAAAAAAAAAAAAAAAAAAAAAAAAAAAAAAAAAAAAAAAAAB7FK5H4Xq0PwAAAAAAAAAAAAAAAAAAAAB7FK5H4Xq0PwAAAAAAAAAAAAAAAAAAAAAAAAAAAAAAAAAAAAAAAAAAAAAAAAAAAAB7FK5H4Xq0PwAAAAAAAAAAAAAAAAAAAAAAAAAAAAAAAAAAAAAAAAAAAAAAAAAAAAAAAAAAAAAAAAAAAAAAAAAAAAAAAAAAAAAAAAAAAAAAAAAAAAAAAAAAAAAAAAAAAAC4HoXrUbiePwAAAAAAAAAAAAAAAAAAAAB7FK5H4Xq0PwAAAAAAAAAAAAAAAAAAAAAAAAAAAAAAAAAAAAAAAAAAAAAAAAAAAAB7FK5H4Xq0PwAAAAAAAAAAAAAAAAAAAAAAAAAAAAAAAAAAAAAAAAAAAAAAAAAAAAAAAAAAAAAAAAAAAAAAAAAAAAAAAAAAAAAAAAAAAAAAAAAAAAAAAAAAAAAAAAAAAAAAAAAAAAAAAAAAAAAAAAAAAAAAAAAAAAAAAAAAAAAAAAAAAAAAAAAAexSuR+F6tD8AAAAAAAAAAHsUrkfherQ/AAAAAAAAAAAAAAAAAAAAAAAAAAAAAAAAAAAAAAAAAAAAAAAAAAAAAAAAAAAAAAAAAAAAAAAAAAAAAAAAAAAAAAAAAAAAAAAAAAAAAAAAAAAAAAAAAAAAAAAAAAAAAAAAexSuR+F6tD8AAAAAAAAAAAAAAAAAAAAAAAAAAAAAAAAAAAAAAAAAAAAAAAAAAAAAexSuR+F6pD8AAAAAAAAAAAAAAAAAAAAA7FG4HoXrsT8AAAAAAAAAAAAAAAAAAAAAAAAAAAAAAAAAAAAAAAAAAOxRuB6F67E/AAAAAAAAAAAAAAAAAAAAAAAAAAAAAAAAAAAAAAAAAAAAAAAAAAAAAAAAAAAAAAAAAAAAAAAAAAAAAAAAAAAAAAAAAAAAAAAAAAAAAAAAAAAAAAAAAAAAAAAAAAAAAAAA7FG4HoXrsT8AAAAAAAAAAAAAAAAAAAAAAAAAAAAAAAAAAAAAAAAAAAAAAAAAAAAAAAAAAAAAAAAAAAAAAAAAAAAAAAAAAAAAAAAAAAAAAAAAAAAAAAAAAAAAAAAAAAAAAAAAAAAAAAAAAAAAAAAAAAAAAAAAAAAAAAAAAAAAAAAAAAAAAAAAAAAAAAAAAAAAAAAAAAAAAAAAAAAAAAAAAAAAAAAAAAAAAAAAAAAAAAAAAAAAAAAAAAAAAAAAAAAAAAAAAAAAAAAAAAAAAAAAAHsUrkfheqQ/AAAAAAAAAAAAAAAAAAAAAAAAAAAAAAAAAAAAAAAAAAAAAAAAAAAAAAAAAAAAAAAAAAAAAAAAAAAAAAAAAAAAAOxRuB6F67E/AAAAAAAAAAAAAAAAAAAAAAAAAAAAAAAA7FG4HoXrsT8AAAAAAAAAAAAAAAAAAAAAAAAAAAAAAAAAAAAAAAAAAAAAAAAAAAAAAAAAAAAAAAAAAAAAAAAAAOxRuB6F67E/AAAAAAAAAAAAAAAAAAAAAAAAAAAAAAAAAAAAAAAAAAAAAAAAAAAAAAAAAAAAAAAAAAAAAAAAAAAAAAAAAAAAAAAAAAAAAAAAAAAAAAAAAAAAAAAAAAAAAOxRuB6F67E/AAAAAAAAAAAAAAAAAAAAAAAAAAAAAAAAAAAAAAAAAAAAAAAAAAAAAHsUrkfheoQ/uB6F61G4rj8AAAAAAAAAAAAAAAAAAAAAexSuR+F6lD8AAAAAAAAAAAAAAAAAAAAAuB6F61G4nj8AAAAAAAAAAAAAAAAAAAAAuB6F61G4rj8AAAAAAAAAAAAAAAAAAAAAAAAAAAAAAAAAAAAAAAAAAAAAAAAAAAAAAAAAAAAAAAAAAAAAAAAAAAAAAAAAAAAAAAAAAAAAAAAAAAAAAAAAAAAAAAAAAAAAAAAAAAAAAAAAAAAAAAAAAAAAAAAAAAAAuB6F61G4rj8AAAAAAAAAAAAAAAAAAAAAAAAAAAAAAAAAAAAAAAAAAAAAAAAAAAAAuB6F61G4rj97FK5H4XqEPwAAAAAAAAAAAAAAAAAAAAAAAAAAAAAAAAAAAAAAAAAAAAAAAAAAAAAAAAAAAAAAAAAAAAAAAAAAAAAAAAAAAAAAAAAAAAAAAAAAAAAAAAAAAAAAAAAAAAAAAAAAAAAAAAAAAAAAAAAAAAAAAAAAAAAAAAAAAAAAAAAAAAAAAAAAAAAAAAAAAAAAAAAAAAAAAAAAAAAAAAAAAAAAAAAAAAAAAAAAAAAAAAAAAAAAAAAAAAAAAAAAAAAAAAAAAAAAAAAAAAAAAAAAAAAAAAAAAAAAAAAAAAAAAAAAAAAAAAAAAAAAAAAAAAAAAAAAAAAAAAAAAAAAAAAAAAAAAAAAAAAAAAAAAAAAAAAAAAAAAAAAAAAAAAAAAAAAAAAAAAAAAAAAAAAAAAAAexSuR+F6hD8AAAAAAAAAAAAAAAAAAAAAAAAAAAAAAAB7FK5H4XqEPwAAAAAAAAAAAAAAAAAAAAAAAAAAAAAAAAAAAAAAAAAAAAAAAAAAAAAAAAAAAAAAAAAAAAAAAAAAAAAAAAAAAAAAAAAAAAAAAAAAAAAAAAAAuB6F61G4rj8AAAAAAAAAAAAAAAAAAAAAAAAAAAAAAAAAAAAAAAAAAAAAAAAAAAAAAAAAAAAAAAAAAAAAAAAAAAAAAAAAAAAAAAAAAAAAAAAAAAAAAAAAAAAAAAAAAAAAAAAAAAAAAAAAAAAAAAAAAAAAAAAAAAAAAAAAAAAAAAAAAAAAAAAAAAAAAAAAAAAAAAAAAAAAAAAAAAAAAAAAAAAAAAAAAAAAAAAAAAAAAAAAAAAAAAAAAAAAAAAAAAAAAAAAAAAAAAB7FK5H4XqUP5qZmZmZmak/AAAAAAAAAACamZmZmZmpPwAAAAAAAAAAAAAAAAAAAAAAAAAAAAAAAAAAAAAAAAAAAAAAAAAAAAAAAAAAAAAAAAAAAAAAAAAAAAAAAAAAAAAAAAAAAAAAAAAAAAAAAAAAmpmZmZmZqT8AAAAAAAAAAAAAAAAAAAAAAAAAAAAAAAAAAAAAAAAAAAAAAAAAAAAAAAAAAAAAAAAAAAAAAAAAAAAAAAAAAAAAAAAAAAAAAAAAAAAAAAAAAAAAAAAAAAAAAAAAAAAAAAAAAAAAAAAAAAAAAAAAAAAAAAAAAAAAAAAAAAAAAAAAAAAAAAAAAAAAAAAAAAAAAAAAAAAAAAAAAAAAAAAAAAAAAAAAAAAAAACamZmZmZmpPwAAAAAAAAAAAAAAAAAAAAAAAAAAAAAAAAAAAAAAAAAAAAAAAAAAAAAAAAAAAAAAAAAAAAAAAAAAAAAAAAAAAAAAAAAAAAAAAAAAAAAAAAAAAAAAAAAAAAAAAAAAAAAAAAAAAAAAAAAAAAAAAAAAAAAAAAAAAAAAAAAAAAAAAAAAAAAAAAAAAAAAAAAAAAAAAAAAAAAAAAAAmpmZmZmZqT8AAAAAAAAAAAAAAAAAAAAAAAAAAAAAAAAAAAAAAAAAAAAAAAAAAAAAAAAAAAAAAAAAAAAAAAAAAAAAAAAAAAAAAAAAAAAAAAAAAAAAAAAAAAAAAAAAAAAAAAAAAAAAAAAAAAAAAAAAAAAAAAAAAAAAAAAAAAAAAAAAAAAAAAAAAAAAAAAAAAAAmpmZmZmZqT8AAAAAAAAAAAAAAAAAAAAAAAAAAAAAAAAAAAAAAAAAAAAAAAAAAAAAexSuR+F6hD8AAAAAAAAAAAAAAAAAAAAAmpmZmZmZqT8AAAAAAAAAAAAAAAAAAAAAAAAAAAAAAAAAAAAAAAAAAAAAAAAAAAAAAAAAAAAAAAAAAAAAAAAAAAAAAAAAAAAAAAAAAAAAAAAAAAAAAAAAAAAAAAAAAAAAAAAAAAAAAAAAAAAAAAAAAAAAAAAAAAAAAAAAAAAAAAAAAAAAAAAAAAAAAAAAAAAAAAAAAAAAAAAAAAAAAAAAAAAAAAAAAAAAAAAAAAAAAAAAAAAAAAAAAAAAAAAAAAAAAAAAAAAAAAAAAAAAAAAAAAAAAAAAAAAAAAAAAAAAAAAAAAAAAAAAAAAAAAAAAAAAAAAAAAAAAAAAAAAAAAAAAAAAAAAAAAAAAAAAAAAAAAAAAAAAAAAAAAAAAAAAAAAAAAAAAAAAAAAAAAAAAAAAAAAAAAAAAAAAexSuR+F6pD8AAAAAAAAAAAAAAAAAAAAAAAAAAAAAAAAAAAAAAAAAAAAAAAAAAAAAAAAAAAAAAAAAAAAAAAAAAAAAAAAAAAAAAAAAAAAAAAAAAAAAAAAAAAAAAAAAAAAAAAAAAAAAAAAAAAAAAAAAAAAAAAAAAAAAAAAAAAAAAAAAAAAAAAAAAAAAAAAAAAAAAAAAAAAAAAAAAAAAAAAAAAAAAAAAAAAAAAAAAAAAAAAAAAAAAAAAAAAAAAAAAAAAAAAAAAAAAAAAAAAAAAAAAAAAAAAAAAAAAAAAAAAAAAAAAAAAAAAAAAAAAAAAAAAAAAAAAAAAAAAAAAAAAAAAAAAAAAAAAAAAAAAAAAAAAAAAAAAAAAAAAAAAAAAAAAAAAAAAAAAAAAAAAAAAAAAAAAAAAAAAAAAAAAAAAAAAAAAAAAAAAAAAAAAAAAAAAAAAAAAAAAAAAAAAAAAAAAAAAAAAAAAAAAAAAAAAAAAAAAAAAAAAAAAAAAAAAAAAAAAAAAAAAAAAAAB7FK5H4XqkPwAAAAAAAAAAAAAAAAAAAAAAAAAAAAAAAAAAAAAAAAAAAAAAAAAAAAB7FK5H4XqEPwAAAAAAAAAAAAAAAAAAAAAAAAAAAAAAAAAAAAAAAAAAAAAAAAAAAAB7FK5H4XqkP3sUrkfhepQ/AAAAAAAAAAAAAAAAAAAAAAAAAAAAAAAAAAAAAAAAAAAAAAAAAAAAAAAAAAAAAAAAAAAAAAAAAAAAAAAAAAAAAAAAAAAAAAAAAAAAAAAAAAAAAAAAAAAAAAAAAAAAAAAAAAAAAAAAAAAAAAAAAAAAAAAAAAAAAAAAAAAAAAAAAAAAAAAAAAAAAAAAAAAAAAAAAAAAAAAAAAAAAAAAAAAAAAAAAAAAAAAAAAAAAAAAAAAAAAAAAAAAAAAAAAAAAAAAAAAAAAAAAAAAAAAAAAAAAAAAAAAAAAAAAAAAAAAAAAAAAAAAAAAAAAAAAAAAAAAAAAAAAAAAAAAAAAAAAAAAAAAAAAAAAAAAexSuR+F6pD8AAAAAAAAAAAAAAAAAAAAAexSuR+F6pD8AAAAAAAAAAAAAAAAAAAAAAAAAAAAAAAAAAAAAAAAAAAAAAAAAAAAAAAAAAAAAAAB7FK5H4XqkPwAAAAAAAAAAAAAAAAAAAAAAAAAAAAAAAHsUrkfheqQ/AAAAAAAAAAAAAAAAAAAAAAAAAAAAAAAAAAAAAAAAAAAAAAAAAAAAAAAAAAAAAAAAAAAAAAAAAAAAAAAAAAAAAAAAAAAAAAAAAAAAAAAAAAAAAAAAAAAAAAAAAAAAAAAAAAAAAAAAAAC4HoXrUbiePwAAAAAAAAAAAAAAAAAAAAAAAAAAAAAAAAAAAAAAAAAAAAAAAAAAAAAAAAAAAAAAAAAAAAAAAAAAAAAAAAAAAAC4HoXrUbiePwAAAAAAAAAAAAAAAAAAAAAAAAAAAAAAALgehetRuJ4/AAAAAAAAAAAAAAAAAAAAAAAAAAAAAAAAAAAAAAAAAAAAAAAAAAAAAAAAAAAAAAAAAAAAAAAAAAC4HoXrUbiePwAAAAAAAAAAAAAAAAAAAAAAAAAAAAAAAAAAAAAAAAAAAAAAAAAAAAAAAAAAAAAAAAAAAAAAAAAAAAAAAAAAAAAAAAAAAAAAAAAAAAAAAAAAAAAAAAAAAAAAAAAAAAAAAAAAAAAAAAAAAAAAAAAAAAAAAAAAAAAAAAAAAAAAAAAAAAAAAAAAAAAAAAAAAAAAAAAAAAAAAAAAAAAAAAAAAAAAAAAAAAAAAAAAAAAAAAAAAAAAAAAAAAAAAAAAAAAAAAAAAAAAAAAAAAAAAAAAAAAAAAAAAAAAAAAAAAAAAAAAuB6F61G4nj+4HoXrUbiePwAAAAAAAAAAAAAAAAAAAAAAAAAAAAAAALgehetRuJ4/AAAAAAAAAAAAAAAAAAAAAAAAAAAAAAAAAAAAAAAAAAAAAAAAAAAAALgehetRuJ4/AAAAAAAAAAAAAAAAAAAAAAAAAAAAAAAAAAAAAAAAAAAAAAAAAAAAAAAAAAAAAAAAAAAAAAAAAAAAAAAAAAAAAAAAAAAAAAAAAAAAAAAAAAAAAAAAAAAAAAAAAAAAAAAAuB6F61G4nj8AAAAAAAAAAAAAAAAAAAAAAAAAAAAAAAAAAAAAAAAAALgehetRuJ4/AAAAAAAAAAAAAAAAAAAAAAAAAAAAAAAAAAAAAAAAAAAAAAAAAAAAAAAAAAAAAAAAAAAAAAAAAAAAAAAAAAAAALgehetRuJ4/uB6F61G4nj8AAAAAAAAAAAAAAAAAAAAAAAAAAAAAAAAAAAAAAAAAAAAAAAAAAAAAAAAAAAAAAAAAAAAAAAAAAAAAAAAAAAAAAAAAAAAAAAAAAAAAAAAAAAAAAAAAAAAAAAAAAAAAAAAAAAAAAAAAAAAAAAAAAAAAAAAAAAAAAAAAAAAAAAAAAAAAAAAAAAAAuB6F61G4nj8AAAAAAAAAAAAAAAAAAAAAAAAAAAAAAAAAAAAAAAAAAAAAAAAAAAAAAAAAAAAAAAAAAAAAAAAAAAAAAAAAAAAAAAAAAAAAAAAAAAAAAAAAAAAAAAAAAAAAAAAAAAAAAAAAAAAAAAAAALgehetRuJ4/AAAAAAAAAAAAAAAAAAAAAAAAAAAAAAAAAAAAAAAAAAAAAAAAAAAAAAAAAAAAAAAAuB6F61G4nj8AAAAAAAAAAAAAAAAAAAAAAAAAAAAAAAC4HoXrUbiePwAAAAAAAAAAuB6F61G4nj8AAAAAAAAAAAAAAAAAAAAAAAAAAAAAAAAAAAAAAAAAAAAAAAAAAAAAAAAAAAAAAAAAAAAAAAAAAAAAAAAAAAAAAAAAAAAAAAAAAAAAAAAAAAAAAAAAAAAAuB6F61G4nj8AAAAAAAAAAAAAAAAAAAAAAAAAAAAAAAAAAAAAAAAAAAAAAAAAAAAAAAAAAAAAAAAAAAAAAAAAAAAAAAAAAAAAAAAAAAAAAAAAAAAAAAAAAAAAAAAAAAAAAAAAAAAAAAAAAAAAAAAAAAAAAAAAAAAAAAAAAAAAAAAAAAAAAAAAAAAAAAAAAAAAAAAAAAAAAAAAAAAAAAAAAAAAAAAAAAAAAAAAAAAAAAAAAAAAAAAAALgehetRuJ4/uB6F61G4nj8AAAAAAAAAAAAAAAAAAAAAAAAAAAAAAAAAAAAAAAAAAAAAAAAAAAAAAAAAAAAAAAAAAAAAAAAAAAAAAAAAAAAAAAAAAAAAAAAAAAAAAAAAAAAAAAAAAAAAAAAAAAAAAAAAAAAAAAAAAAAAAAAAAAAAAAAAAAAAAAAAAAAAAAAAAHsUrkfhepQ/AAAAAAAAAAAAAAAAAAAAAAAAAAAAAAAAAAAAAAAAAAAAAAAAAAAAAAAAAAAAAAAAexSuR+F6lD8AAAAAAAAAAAAAAAAAAAAAAAAAAAAAAAAAAAAAAAAAAAAAAAAAAAAAAAAAAAAAAAAAAAAAAAAAAAAAAAAAAAAAAAAAAAAAAAAAAAAAAAAAAHsUrkfhepQ/AAAAAAAAAAAAAAAAAAAAAAAAAAAAAAAAAAAAAAAAAAB7FK5H4XqUPwAAAAAAAAAAexSuR+F6lD8AAAAAAAAAAAAAAAAAAAAAAAAAAAAAAAAAAAAAAAAAAAAAAAAAAAAAAAAAAAAAAAB7FK5H4XqUPwAAAAAAAAAAAAAAAAAAAAAAAAAAAAAAAAAAAAAAAAAAAAAAAAAAAAB7FK5H4XqUPwAAAAAAAAAAAAAAAAAAAAAAAAAAAAAAAAAAAAAAAAAAAAAAAAAAAAAAAAAAAAAAAAAAAAAAAAAAAAAAAAAAAAB7FK5H4XqUPwAAAAAAAAAAAAAAAAAAAAAAAAAAAAAAAAAAAAAAAAAAAAAAAAAAAAB7FK5H4XqUPwAAAAAAAAAAAAAAAAAAAAAAAAAAAAAAAAAAAAAAAAAAAAAAAAAAAAAAAAAAAAAAAAAAAAAAAAAAAAAAAAAAAAAAAAAAAAAAAAAAAAAAAAAAAAAAAAAAAAAAAAAAAAAAAAAAAAAAAAAAAAAAAAAAAAAAAAAAAAAAAAAAAAAAAAAAAAAAAAAAAAAAAAAAAAAAAAAAAAAAAAAAAAAAAAAAAAAAAAAAAAAAAAAAAAAAAAAAAAAAAAAAAAAAAAAAAAAAAAAAAAAAAAAAAAAAAAAAAAAAAAAAAAAAAAAAAAAAAAAAAAAAAAAAAAAAAAAAAAAAAAAAAAAAAAAAAAAAAAAAAAAAAAAAAAAAAAAAAAAAAAAAAAAAAAAAAAAAAAAAAAAAAAAAAAAAAAAAAAAAAAAAAAAAAAAAAAAAAAAAAAAAAAAAAAAAAAAAAAAAAAAAAAAAAAAAAAAAAAAAAAAAAAAAAAAAAAAAAAAAAAAAAAAAAAAAAAAAAAAAAAAAAAAAAAAAAHsUrkfhepQ/exSuR+F6lD8AAAAAAAAAAAAAAAAAAAAAAAAAAAAAAAB7FK5H4XqUPwAAAAAAAAAAAAAAAAAAAAAAAAAAAAAAAAAAAAAAAAAAexSuR+F6lD8AAAAAAAAAAHsUrkfhepQ/AAAAAAAAAAAAAAAAAAAAAAAAAAAAAAAAAAAAAAAAAAAAAAAAAAAAAAAAAAAAAAAAexSuR+F6lD8AAAAAAAAAAAAAAAAAAAAAAAAAAAAAAAAAAAAAAAAAAAAAAAAAAAAAAAAAAAAAAAAAAAAAAAAAAAAAAAAAAAAAAAAAAAAAAAAAAAAAAAAAAAAAAAAAAAAAAAAAAAAAAAAAAAAAAAAAAAAAAAAAAAAAAAAAAAAAAAAAAAAAAAAAAAAAAAAAAAAAAAAAAAAAAAAAAAAAAAAAAAAAAAAAAAAAAAAAAAAAAAAAAAAAAAAAAAAAAAAAAAAAAAAAAAAAAAAAAAAAAAAAAAAAAAAAAAAAAAAAAAAAAAAAAAAAAAAAAAAAAAAAAAAAAAAAAAAAAAAAAAAAAAAAAAAAAAAAAAAAAAAAAAAAAAAAAAAAAAAAAAAAAAAAAAAAAAAAAAAAAAB7FK5H4XqUP3sUrkfhepQ/AAAAAAAAAAAAAAAAAAAAAAAAAAAAAAAAAAAAAAAAAAAAAAAAAAAAAAAAAAAAAAAAAAAAAAAAAAAAAAAAAAAAAHsUrkfhepQ/AAAAAAAAAAAAAAAAAAAAAAAAAAAAAAAAAAAAAAAAAAAAAAAAAAAAAAAAAAAAAAAAAAAAAAAAAAAAAAAAAAAAAHsUrkfhepQ/AAAAAAAAAAAAAAAAAAAAAAAAAAAAAAAAAAAAAAAAAAAAAAAAAAAAAAAAAAAAAAAAAAAAAAAAAAAAAAAAAAAAAAAAAAAAAAAAexSuR+F6lD8AAAAAAAAAAAAAAAAAAAAAAAAAAAAAAAAAAAAAAAAAAAAAAAAAAAAAAAAAAAAAAAAAAAAAAAAAAAAAAAAAAAAAAAAAAAAAAAAAAAAAAAAAAAAAAAAAAAAAAAAAAAAAAAAAAAAAAAAAAAAAAAAAAAAAAAAAAAAAAAAAAAAAAAAAAAAAAAAAAAAAAAAAAAAAAAB7FK5H4XqUPwAAAAAAAAAAAAAAAAAAAAAAAAAAAAAAAAAAAAAAAAAAAAAAAAAAAAAAAAAAAAAAAAAAAAAAAAAAexSuR+F6lD97FK5H4XqUPwAAAAAAAAAAexSuR+F6lD8AAAAAAAAAAAAAAAAAAAAAexSuR+F6lD8AAAAAAAAAAAAAAAAAAAAAAAAAAAAAAAAAAAAAAAAAAAAAAAAAAAAAAAAAAAAAAAAAAAAAAAAAAAAAAAAAAAAAAAAAAAAAAAAAAAAAAAAAAAAAAAAAAAAAAAAAAAAAAAAAAAAAAAAAAAAAAAAAAAAAAAAAAAAAAAAAAAAAAAAAAAAAAAAAAAAAAAAAAAAAAAAAAAAAAAAAAAAAAAAAAAAAAAAAAAAAAAB7FK5H4XqUP3sUrkfhepQ/AAAAAAAAAAAAAAAAAAAAAAAAAAAAAAAAAAAAAAAAAAAAAAAAAAAAAAAAAAAAAAAAAAAAAAAAAAAAAAAAAAAAAAAAAAAAAAAAexSuR+F6lD8AAAAAAAAAAAAAAAAAAAAAAAAAAAAAAAAAAAAAAAAAAAAAAAAAAAAAAAAAAAAAAAAAAAAAAAAAAAAAAAAAAAAAexSuR+F6lD8AAAAAAAAAAAAAAAAAAAAAAAAAAAAAAAAAAAAAAAAAAAAAAAAAAAAAAAAAAAAAAAAAAAAAAAAAAAAAAAAAAAAAAAAAAAAAAAAAAAAAAAAAAAAAAAAAAAAAAAAAAAAAAAAAAAAAAAAAAAAAAAAAAAAAAAAAAAAAAAB7FK5H4XqEPwAAAAAAAAAAAAAAAAAAAAAAAAAAAAAAAAAAAAAAAAAAAAAAAAAAAAB7FK5H4XqEPwAAAAAAAAAAAAAAAAAAAAAAAAAAAAAAAAAAAAAAAAAAAAAAAAAAAAAAAAAAAAAAAAAAAAAAAAAAAAAAAAAAAAB7FK5H4XqEPwAAAAAAAAAAAAAAAAAAAAAAAAAAAAAAAAAAAAAAAAAAexSuR+F6hD8AAAAAAAAAAAAAAAAAAAAAAAAAAAAAAAAAAAAAAAAAAAAAAAAAAAAAAAAAAAAAAAB7FK5H4XqEPwAAAAAAAAAAAAAAAAAAAAAAAAAAAAAAAAAAAAAAAAAAAAAAAAAAAAAAAAAAAAAAAAAAAAAAAAAAAAAAAAAAAAAAAAAAAAAAAHsUrkfheoQ/exSuR+F6hD8AAAAAAAAAAAAAAAAAAAAAAAAAAAAAAAAAAAAAAAAAAAAAAAAAAAAAAAAAAAAAAAAAAAAAAAAAAAAAAAAAAAAAAAAAAAAAAAAAAAAAAAAAAAAAAAAAAAAAAAAAAAAAAAB7FK5H4XqEPwAAAAAAAAAAexSuR+F6hD8AAAAAAAAAAHsUrkfheoQ/AAAAAAAAAAAAAAAAAAAAAAAAAAAAAAAAAAAAAAAAAAB7FK5H4XqEP3sUrkfheoQ/AAAAAAAAAAAAAAAAAAAAAHsUrkfheoQ/AAAAAAAAAAAAAAAAAAAAAAAAAAAAAAAAAAAAAAAAAAB7FK5H4XqEPwAAAAAAAAAAAAAAAAAAAAAAAAAAAAAAAHsUrkfheoQ/AAAAAAAAAAB7FK5H4XqEPwAAAAAAAAAAAAAAAAAAAAAAAAAAAAAAAAAAAAAAAAAAAAAAAAAAAAAAAAAAAAAAAAAAAAAAAAAAAAAAAAAAAAAAAAAAAAAAAAAAAAAAAAAAAAAAAAAAAAB7FK5H4XqEPwAAAAAAAAAAAAAAAAAAAAAAAAAAAAAAAAAAAAAAAAAAAAAAAAAAAAAAAAAAAAAAAAAAAAAAAAAAAAAAAAAAAAAAAAAAAAAAAAAAAAAAAAAAAAAAAAAAAAAAAAAAAAAAAAAAAAAAAAAAAAAAAAAAAAB7FK5H4XqEP3sUrkfheoQ/AAAAAAAAAAAAAAAAAAAAAAAAAAAAAAAAAAAAAAAAAAAAAAAAAAAAAAAAAAAAAAAAexSuR+F6hD97FK5H4XqEPwAAAAAAAAAAAAAAAAAAAAAAAAAAAAAAAHsUrkfheoQ/AAAAAAAAAAB7FK5H4XqEPwAAAAAAAAAAexSuR+F6hD8AAAAAAAAAAHsUrkfheoQ/AAAAAAAAAAAAAAAAAAAAAAAAAAAAAAAAexSuR+F6hD97FK5H4XqEPwAAAAAAAAAAAAAAAAAAAAAAAAAAAAAAAAAAAAAAAAAAAAAAAAAAAAAAAAAAAAAAAAAAAAAAAAAAAAAAAAAAAAB7FK5H4XqEPwAAAAAAAAAAAAAAAAAAAAAAAAAAAAAAAAAAAAAAAAAAAAAAAAAAAAAAAAAAAAAAAHsUrkfheoQ/AAAAAAAAAAAAAAAAAAAAAAAAAAAAAAAAAAAAAAAAAAB7FK5H4XqEPwAAAAAAAAAAAAAAAAAAAAAAAAAAAAAAAAAAAAAAAAAA\",\"dtype\":\"float64\",\"shape\":[3462]}}},\"id\":\"e2c84838-d978-408f-9d11-25f505730dae\",\"type\":\"ColumnDataSource\"},{\"attributes\":{\"fill_color\":{\"value\":\"#0000FF\"},\"line_color\":{\"value\":\"#0000FF\"},\"radius\":{\"units\":\"data\",\"value\":0},\"x\":{\"value\":0},\"y\":{\"value\":0}},\"id\":\"421e5a49-f05c-423d-93d6-ef9967db2488\",\"type\":\"Circle\"},{\"attributes\":{},\"id\":\"e3bbe292-14c9-4667-aa18-72ec14f5d4ab\",\"type\":\"WheelZoomTool\"},{\"attributes\":{\"source\":{\"id\":\"b9a3464a-20d5-42f2-9115-710094282ca4\",\"type\":\"ColumnDataSource\"}},\"id\":\"690389b8-3d78-45b0-a808-cc6cfcfcbfa2\",\"type\":\"CDSView\"},{\"attributes\":{\"callback\":null,\"data\":{}},\"id\":\"9c960ed6-0cad-400f-af44-b68f1d1a4e21\",\"type\":\"ColumnDataSource\"},{\"attributes\":{\"source\":{\"id\":\"e2c84838-d978-408f-9d11-25f505730dae\",\"type\":\"ColumnDataSource\"}},\"id\":\"97495921-a10f-4351-b15a-f0423fac9345\",\"type\":\"CDSView\"},{\"attributes\":{\"callback\":null},\"id\":\"854552fc-9cd4-4dfa-8621-83d84fedb448\",\"type\":\"DataRange1d\"},{\"attributes\":{\"label\":{\"value\":\"Wii\"},\"renderers\":[{\"id\":\"9c262d60-ab20-46e9-91cd-d2c0f574e7fa\",\"type\":\"GlyphRenderer\"}]},\"id\":\"efddaa24-238f-4cc3-8f49-31d5512193a6\",\"type\":\"LegendItem\"},{\"attributes\":{},\"id\":\"6c67c3bb-7b94-447d-87b2-e148228e5116\",\"type\":\"ZoomOutTool\"},{\"attributes\":{\"plot\":{\"id\":\"a78ab648-7a49-4494-87ca-8ffe24e75de9\",\"subtype\":\"Figure\",\"type\":\"Plot\"},\"ticker\":{\"id\":\"46c5aec0-ba45-47ee-931f-793b82e224eb\",\"type\":\"BasicTicker\"}},\"id\":\"5d2a9a6d-5056-4b7b-ab5b-21efd24eb49e\",\"type\":\"Grid\"},{\"attributes\":{\"callback\":null},\"id\":\"1185161e-dcda-4f69-a27f-048897e853c9\",\"type\":\"HoverTool\"},{\"attributes\":{\"dimension\":1,\"plot\":{\"id\":\"a78ab648-7a49-4494-87ca-8ffe24e75de9\",\"subtype\":\"Figure\",\"type\":\"Plot\"},\"ticker\":{\"id\":\"9fa6ef2d-e142-4af7-bd98-956c737e9dd3\",\"type\":\"BasicTicker\"}},\"id\":\"35c575bf-1864-4f6d-8ff1-52ffe6ac3133\",\"type\":\"Grid\"},{\"attributes\":{\"data_source\":{\"id\":\"9f32b3c9-da01-4416-bf0b-37b3708e2be9\",\"type\":\"ColumnDataSource\"},\"glyph\":{\"id\":\"421e5a49-f05c-423d-93d6-ef9967db2488\",\"type\":\"Circle\"},\"hover_glyph\":null,\"muted_glyph\":null,\"nonselection_glyph\":{\"id\":\"3914644f-b448-4612-a7f4-3ff34f1f781e\",\"type\":\"Circle\"},\"selection_glyph\":null,\"view\":{\"id\":\"7080425a-067d-46f7-b7b3-87b3bf586dd0\",\"type\":\"CDSView\"}},\"id\":\"a9e704d0-1b22-4b8a-81e6-9c14125602a5\",\"type\":\"GlyphRenderer\"},{\"attributes\":{},\"id\":\"fda4daa8-d013-49fe-be07-d4379e468a80\",\"type\":\"CrosshairTool\"},{\"attributes\":{\"data_source\":{\"id\":\"9c960ed6-0cad-400f-af44-b68f1d1a4e21\",\"type\":\"ColumnDataSource\"},\"glyph\":{\"id\":\"b4eecdef-24e0-4efb-8b47-8ee85260da66\",\"type\":\"Circle\"},\"hover_glyph\":null,\"muted_glyph\":null,\"nonselection_glyph\":{\"id\":\"d1938d20-8c21-4c25-a52d-44a55890dee5\",\"type\":\"Circle\"},\"selection_glyph\":null,\"view\":{\"id\":\"a0fd58d2-3968-4f06-98aa-c3a11c224d96\",\"type\":\"CDSView\"}},\"id\":\"e9955ba7-e121-42a2-b1a3-a7e2f9171069\",\"type\":\"GlyphRenderer\"},{\"attributes\":{\"fill_alpha\":{\"value\":0.1},\"fill_color\":{\"value\":\"#1f77b4\"},\"line_alpha\":{\"value\":0.1},\"line_color\":{\"value\":\"#1f77b4\"},\"radius\":{\"field\":\"radius\",\"units\":\"data\"},\"x\":{\"field\":\"x\"},\"y\":{\"field\":\"y\"}},\"id\":\"cdcd205a-6fa6-4296-99b4-6821a1d8b5f6\",\"type\":\"Circle\"},{\"attributes\":{},\"id\":\"280b5e15-01fc-4255-a3f4-e91e08db90a4\",\"type\":\"PanTool\"},{\"attributes\":{\"fill_alpha\":{\"value\":0.1},\"fill_color\":{\"value\":\"#1f77b4\"},\"line_alpha\":{\"value\":0.1},\"line_color\":{\"value\":\"#1f77b4\"},\"radius\":{\"units\":\"data\",\"value\":0},\"x\":{\"value\":0},\"y\":{\"value\":0}},\"id\":\"acaef8f6-f294-4ed0-b65c-55ffe2fc9947\",\"type\":\"Circle\"}],\"root_ids\":[\"a78ab648-7a49-4494-87ca-8ffe24e75de9\"]},\"title\":\"Bokeh Application\",\"version\":\"0.12.13\"}};\n",
       "  var render_items = [{\"docid\":\"97b773b5-3a64-4f52-9200-1ae80cc24982\",\"elementid\":\"63fd4cf4-1655-45cf-b8a3-c074baa612bf\",\"modelid\":\"a78ab648-7a49-4494-87ca-8ffe24e75de9\"}];\n",
       "  root.Bokeh.embed.embed_items_notebook(docs_json, render_items);\n",
       "\n",
       "  }\n",
       "  if (root.Bokeh !== undefined) {\n",
       "    embed_document(root);\n",
       "  } else {\n",
       "    var attempts = 0;\n",
       "    var timer = setInterval(function(root) {\n",
       "      if (root.Bokeh !== undefined) {\n",
       "        embed_document(root);\n",
       "        clearInterval(timer);\n",
       "      }\n",
       "      attempts++;\n",
       "      if (attempts > 100) {\n",
       "        console.log(\"Bokeh: ERROR: Unable to run BokehJS code because BokehJS library is missing\")\n",
       "        clearInterval(timer);\n",
       "      }\n",
       "    }, 10, root)\n",
       "  }\n",
       "})(window);"
      ],
      "application/vnd.bokehjs_exec.v0+json": ""
     },
     "metadata": {
      "application/vnd.bokehjs_exec.v0+json": {
       "id": "a78ab648-7a49-4494-87ca-8ffe24e75de9"
      }
     },
     "output_type": "display_data"
    },
    {
     "name": "stderr",
     "output_type": "stream",
     "text": [
      "E-1001 (BAD_COLUMN_NAME): Glyph refers to nonexistent column name: cat [renderer: GlyphRenderer(id='ef1c08da-cafa-49d1-8b65-92504e503ed5', ...)]\n",
      "E-1001 (BAD_COLUMN_NAME): Glyph refers to nonexistent column name: cat [renderer: GlyphRenderer(id='cf0fae13-4155-4ddf-88f2-a586ff677334', ...)]\n",
      "E-1001 (BAD_COLUMN_NAME): Glyph refers to nonexistent column name: cat [renderer: GlyphRenderer(id='a9f9a5a0-c4a1-4d84-8c44-107e4a6dd390', ...)]\n",
      "E-1001 (BAD_COLUMN_NAME): Glyph refers to nonexistent column name: cat [renderer: GlyphRenderer(id='8873052c-b1c4-44fa-992b-7fcda0151e11', ...)]\n",
      "E-1001 (BAD_COLUMN_NAME): Glyph refers to nonexistent column name: cat [renderer: GlyphRenderer(id='4af1c012-3661-4bfa-9115-45d3c2a40c9e', ...)]\n",
      "E-1001 (BAD_COLUMN_NAME): Glyph refers to nonexistent column name: cat [renderer: GlyphRenderer(id='9b1526af-ef6c-44bc-9a38-b6d8304966e2', ...)]\n",
      "E-1001 (BAD_COLUMN_NAME): Glyph refers to nonexistent column name: cat [renderer: GlyphRenderer(id='f86031d5-ec53-4500-8a93-4c8cb945e62c', ...)]\n",
      "E-1001 (BAD_COLUMN_NAME): Glyph refers to nonexistent column name: cat [renderer: GlyphRenderer(id='c4054394-6d44-4014-a097-344fef9abca2', ...)]\n",
      "E-1001 (BAD_COLUMN_NAME): Glyph refers to nonexistent column name: cat [renderer: GlyphRenderer(id='08276b46-8443-4121-9986-2fbd4c3bfab1', ...)]\n"
     ]
    }
   ],
   "source": [
    "import pandas as pd\n",
    "import bokeh.plotting as bpl\n",
    "import bokeh.models as bmo\n",
    "from bokeh.palettes import d3\n",
    "bpl.output_notebook()\n",
    "#colors = [\"#%02x%02x%02x\" % (int(r), int(g), 150) for r, g in zip(50+2*x, 30+2*y)] #colors\n",
    "N = 2500 #Global_Sales size\n",
    "radii = np.random.random(size=N)\n",
    "x = np.array(EU)\n",
    "y = np.array(JP)\n",
    "df = pd.DataFrame(\n",
    "    {\n",
    "        \n",
    "        \"cat\": plat,\n",
    "        \"kpi1\": EU,\n",
    "        \"kpi2\": JP\n",
    "    }\n",
    ")\n",
    "source = bpl.ColumnDataSource(df)\n",
    "\n",
    "\n",
    "# use whatever palette you want...\n",
    "palette = d3['Category10'][len(df['cat'].unique())]\n",
    "color_map = bmo.CategoricalColorMapper(factors=df['cat'].unique(),\n",
    "                                   palette=palette)\n",
    "catt = df['cat']\n",
    "TOOLS=\"hover,crosshair,pan,wheel_zoom,zoom_in,zoom_out,box_zoom,undo,redo,reset,tap,save,box_select,poly_select,lasso_select,\"\n",
    "\n",
    "# create figure and plot\n",
    "p = figure(width=1000, height=600, tools=TOOLS,title=\"EU_Sales, JP_Sales Scatter Plot\")\n",
    "p.scatter(x, y, radius=radii, fill_color=color, fill_alpha=0.6, line_color=None,color={'field': catt, 'transform': color_map})\n",
    "p.circle( x=0, y=0, radius=0, color='#008000', legend='PC')\n",
    "p.circle( x=0, y=0, radius=0, color='#FFA500', legend='Wii')\n",
    "p.circle( x=0, y=0, radius=0, color='#0000FF', legend='X360')\n",
    "\n",
    "p.xaxis.axis_label = 'JP_Sales'\n",
    "p.yaxis.axis_label = 'EU_Sales'\n",
    "show(p)\n",
    "output_file(\"Scatter_Plot.html\") #file name"
   ]
  },
  {
   "cell_type": "markdown",
   "metadata": {},
   "source": [
    "# The code above will generate a html file containing the plot."
   ]
  }
 ],
 "metadata": {
  "kernelspec": {
   "display_name": "Python 3",
   "language": "python",
   "name": "python3"
  },
  "language_info": {
   "codemirror_mode": {
    "name": "ipython",
    "version": 3
   },
   "file_extension": ".py",
   "mimetype": "text/x-python",
   "name": "python",
   "nbconvert_exporter": "python",
   "pygments_lexer": "ipython3",
   "version": "3.6.3"
  }
 },
 "nbformat": 4,
 "nbformat_minor": 2
}
